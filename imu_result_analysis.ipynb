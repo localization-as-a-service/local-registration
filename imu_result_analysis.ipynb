{
 "cells": [
  {
   "cell_type": "code",
   "execution_count": 39,
   "metadata": {},
   "outputs": [],
   "source": [
    "import os\n",
    "import glob\n",
    "import open3d\n",
    "import pandas as pd\n",
    "import numpy as np\n",
    "\n",
    "import utils.helpers as helpers"
   ]
  },
  {
   "cell_type": "code",
   "execution_count": 45,
   "metadata": {},
   "outputs": [],
   "source": [
    "result_dir = \"data/results/orientation_tracking/exp_8\"\n",
    "\n",
    "result_files = glob.glob(os.path.join(result_dir, \"*.csv\"))"
   ]
  },
  {
   "cell_type": "code",
   "execution_count": 46,
   "metadata": {},
   "outputs": [
    {
     "name": "stdout",
     "output_type": "stream",
     "text": [
      "data/results/orientation_tracking/exp_8\\exp_8__trial_2__subject-1__01.csv\n",
      "Elapsed time < 5000: 0.155 | Elapsed time > 5000 and < 10000: 1.172 | Elapsed time > 10000: 5.157\n",
      "data/results/orientation_tracking/exp_8\\exp_8__trial_2__subject-1__02.csv\n",
      "Elapsed time < 5000: 0.297 | Elapsed time > 5000 and < 10000: 2.960 | Elapsed time > 10000: 17.873\n",
      "data/results/orientation_tracking/exp_8\\exp_8__trial_2__subject-1__03.csv\n",
      "Elapsed time < 5000: 0.166 | Elapsed time > 5000 and < 10000: 1.479 | Elapsed time > 10000: 5.986\n",
      "data/results/orientation_tracking/exp_8\\exp_8__trial_2__subject-1__04.csv\n",
      "Elapsed time < 5000: 0.459 | Elapsed time > 5000 and < 10000: 2.806 | Elapsed time > 10000: 10.177\n"
     ]
    }
   ],
   "source": [
    "for result_file in result_files:\n",
    "    print(result_file)\n",
    "    result = pd.read_csv(result_file)\n",
    "\n",
    "    result.loc[:, \"elapsed_time\"] = result.timestamp_gt - result.timestamp_gt.values[0]\n",
    "    result.loc[:, \"total_distance\"] = result.apply(lambda x: np.linalg.norm(np.asarray(x[1:4])), axis=1)\n",
    "\n",
    "    e1 = result[result.elapsed_time < 5000][\"error\"].mean()\n",
    "    e2 = result[(result.elapsed_time > 5000) & (result.elapsed_time < 10000)][\"error\"].mean()\n",
    "    e3 = result[result.elapsed_time > 10000][\"error\"].mean()\n",
    "\n",
    "    print(f\"Elapsed time < 5000: {e1:.3f}\", f\"Elapsed time > 5000 and < 10000: {e2:.3f}\", f\"Elapsed time > 10000: {e3:.3f}\", sep=\" | \")"
   ]
  },
  {
   "cell_type": "code",
   "execution_count": 36,
   "metadata": {},
   "outputs": [],
   "source": [
    "groundtruth_trajectories = glob.glob(\"data/trajectories/groundtruth/exp_8/*__trial_2__*.npz\")"
   ]
  },
  {
   "cell_type": "code",
   "execution_count": 40,
   "metadata": {},
   "outputs": [
    {
     "name": "stdout",
     "output_type": "stream",
     "text": [
      "[Open3D WARNING] GLFW Error: WGL: Failed to make context current: The handle is invalid. \n",
      "[Open3D WARNING] GLFW Error: WGL: Failed to make context current: The requested transformation operation is not supported. \n",
      "[Open3D WARNING] GLFW Error: WGL: Failed to make context current: The requested transformation operation is not supported. \n",
      "[Open3D WARNING] GLFW Error: WGL: Failed to make context current: The handle is invalid. \n",
      "[Open3D WARNING] GLFW Error: WGL: Failed to make context current: The handle is invalid. \n",
      "[Open3D WARNING] GLFW Error: WGL: Failed to make context current: The requested transformation operation is not supported. \n",
      "[Open3D WARNING] GLFW Error: WGL: Failed to make context current: The requested transformation operation is not supported. \n",
      "[Open3D WARNING] GLFW Error: WGL: Failed to make context current: The requested transformation operation is not supported. \n"
     ]
    }
   ],
   "source": [
    "for groundtruth_trajectory in groundtruth_trajectories:\n",
    "    pose = np.load(groundtruth_trajectory)[\"trajectory_t\"]\n",
    "    xyz = pose[:, :3, 3]\n",
    "    pcd = helpers.make_pcd(xyz)\n",
    "    pcd.paint_uniform_color([0, 0, 1])\n",
    "    open3d.visualization.draw_geometries([pcd])\n",
    "    "
   ]
  },
  {
   "cell_type": "code",
   "execution_count": null,
   "metadata": {},
   "outputs": [],
   "source": []
  }
 ],
 "metadata": {
  "kernelspec": {
   "display_name": "Python 3",
   "language": "python",
   "name": "python3"
  },
  "language_info": {
   "codemirror_mode": {
    "name": "ipython",
    "version": 3
   },
   "file_extension": ".py",
   "mimetype": "text/x-python",
   "name": "python",
   "nbconvert_exporter": "python",
   "pygments_lexer": "ipython3",
   "version": "3.9.15"
  },
  "orig_nbformat": 4,
  "vscode": {
   "interpreter": {
    "hash": "0867b0a0ec4aa79c375d84191bb807ed1d4e37587ac53650fe54c5bacc252e88"
   }
  }
 },
 "nbformat": 4,
 "nbformat_minor": 2
}
