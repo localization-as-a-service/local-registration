{
 "cells": [
  {
   "cell_type": "code",
   "execution_count": 1,
   "metadata": {
    "collapsed": false,
    "pycharm": {
     "name": "#%%\n"
    }
   },
   "outputs": [],
   "source": [
    "import numpy as np\n",
    "import pandas as pd\n",
    "import open3d\n",
    "import os\n",
    "import tqdm\n",
    "import matplotlib.pyplot as plt\n",
    "import utils.helpers as helpers\n",
    "import utils.fread as fread\n",
    "import utils.registration as registration\n",
    "import scipy\n",
    "\n",
    "from utils.depth_camera import DepthCamera"
   ]
  },
  {
   "cell_type": "code",
   "execution_count": 2,
   "metadata": {
    "collapsed": false,
    "pycharm": {
     "name": "#%%\n"
    }
   },
   "outputs": [],
   "source": [
    "def nearest(items, pivot):\n",
    "    return min(items, key=lambda x: abs(x - pivot))"
   ]
  },
  {
   "cell_type": "code",
   "execution_count": 157,
   "metadata": {
    "collapsed": false,
    "pycharm": {
     "name": "#%%\n"
    }
   },
   "outputs": [],
   "source": [
    "data_dir = \"data/exp_7\"\n",
    "trial = \"trial_1\"\n",
    "subject = \"subject-1\"\n",
    "sequence = 3"
   ]
  },
  {
   "cell_type": "code",
   "execution_count": 142,
   "metadata": {
    "collapsed": false,
    "pycharm": {
     "name": "#%%\n"
    }
   },
   "outputs": [],
   "source": [
    "motion_dir = os.path.join(data_dir, trial, subject, f\"{sequence:02d}\", \"motion\")"
   ]
  },
  {
   "cell_type": "code",
   "execution_count": 143,
   "metadata": {
    "collapsed": false,
    "pycharm": {
     "name": "#%%\n"
    }
   },
   "outputs": [],
   "source": [
    "accel_df = pd.read_csv(os.path.join(motion_dir, \"accelerometer\"))\n",
    "gyro_df = pd.read_csv(os.path.join(motion_dir, \"gyroscope\"))"
   ]
  },
  {
   "cell_type": "code",
   "execution_count": 144,
   "metadata": {
    "collapsed": false,
    "pycharm": {
     "name": "#%%\n"
    }
   },
   "outputs": [],
   "source": [
    "accel_df.drop_duplicates(\"timestamp\", inplace=True)\n",
    "gyro_df.drop_duplicates(\"timestamp\", inplace=True)"
   ]
  },
  {
   "cell_type": "code",
   "execution_count": 145,
   "metadata": {
    "collapsed": false,
    "pycharm": {
     "name": "#%%\n"
    }
   },
   "outputs": [],
   "source": [
    "imu_df = pd.merge(accel_df, gyro_df, on=\"timestamp\", suffixes=(\"a\", \"g\"))"
   ]
  },
  {
   "cell_type": "code",
   "execution_count": 146,
   "metadata": {
    "collapsed": false,
    "pycharm": {
     "name": "#%%\n"
    }
   },
   "outputs": [],
   "source": [
    "alpha = 0.8\n",
    "gravity = [0, 0, 0]\n",
    "\n",
    "for i in range(imu_df.shape[0]):\n",
    "    for j in range(3):\n",
    "        gravity[j] = alpha * gravity[j] + (1 - alpha) * imu_df.iloc[i, 1 + j]\n",
    "        imu_df.iloc[i, 1 + j] = imu_df.iloc[i, 1 + j] - gravity[j]"
   ]
  },
  {
   "cell_type": "code",
   "execution_count": 147,
   "metadata": {
    "collapsed": false,
    "pycharm": {
     "name": "#%%\n"
    }
   },
   "outputs": [],
   "source": [
    "# remove first second's data (as it stabilizes the gravity)\n",
    "imu_df = imu_df.iloc[400:]\n",
    "# compute dt in seconds\n",
    "imu_df.loc[:, \"dt\"] = np.concatenate([[0], (imu_df.timestamp.values[1:] - imu_df.timestamp.values[:-1]) / 1000])\n",
    "# remove first row as the dt is 0\n",
    "imu_df = imu_df.iloc[1:]\n",
    "# reset index in pandas data frame\n",
    "imu_df.reset_index(drop=True, inplace=True)"
   ]
  },
  {
   "cell_type": "code",
   "execution_count": 148,
   "metadata": {
    "collapsed": false,
    "pycharm": {
     "name": "#%%\n"
    }
   },
   "outputs": [],
   "source": [
    "# Fill 0 for displacement and angles\n",
    "imu_df.loc[:, \"dx\"] = np.zeros(len(imu_df))\n",
    "imu_df.loc[:, \"dy\"] = np.zeros(len(imu_df))\n",
    "imu_df.loc[:, \"dz\"] = np.zeros(len(imu_df))\n",
    "imu_df.loc[:, \"rx\"] = np.zeros(len(imu_df))\n",
    "imu_df.loc[:, \"ry\"] = np.zeros(len(imu_df))\n",
    "imu_df.loc[:, \"rz\"] = np.zeros(len(imu_df))"
   ]
  },
  {
   "cell_type": "code",
   "execution_count": 153,
   "metadata": {
    "collapsed": false,
    "pycharm": {
     "name": "#%%\n"
    }
   },
   "outputs": [],
   "source": [
    "# displacement = [0, 0, 0]\n",
    "velocity = [0, 0, 0]\n",
    "angle = [0, 0, 0]\n",
    "\n",
    "for i in range(len(imu_df)):\n",
    "    imu = imu_df.iloc[i].values\n",
    "    dt = imu[7]\n",
    "    for j, axis in enumerate([\"x\", \"y\", \"z\"]):\n",
    "        # velocity[j] = velocity[j] + imu[j + 1] * dt\n",
    "        # Update the displacement\n",
    "        # displacement[j] = displacement[j] + (velocity[j] * dt) + (0.5 * acceleration[j + 1] * dt * dt)\n",
    "        angle[j] += imu[j + 4] * dt\n",
    "\n",
    "        imu_df.iloc[i, 8 + j] = (velocity[j] * dt) + (0.5 * imu[j + 1] * dt * dt)\n",
    "        imu_df.iloc[i, 11 + j] = np.degrees(angle[j])\n",
    "\n",
    "        velocity[j] = velocity[j] + imu[j + 1] * dt"
   ]
  },
  {
   "cell_type": "code",
   "execution_count": 154,
   "metadata": {
    "collapsed": false,
    "pycharm": {
     "name": "#%%\n"
    }
   },
   "outputs": [],
   "source": [
    "imu_df.loc[:, \"x\"] = np.zeros(len(imu_df))\n",
    "imu_df.loc[:, \"y\"] = np.zeros(len(imu_df))\n",
    "imu_df.loc[:, \"z\"] = np.zeros(len(imu_df))"
   ]
  },
  {
   "cell_type": "code",
   "execution_count": 155,
   "metadata": {
    "collapsed": false,
    "pycharm": {
     "name": "#%%\n"
    }
   },
   "outputs": [],
   "source": [
    "for i in range(1, len(imu_df)):\n",
    "    c = imu_df.iloc[i].values           # current readings\n",
    "    p = imu_df.iloc[i - 1].values       # previous readings\n",
    "\n",
    "    R = helpers.rotate_transformation_matrix(np.identity(4), p[11], p[12], p[13])\n",
    "\n",
    "    d = np.dot(R, np.array([c[8], c[9], c[10], 1]))\n",
    "\n",
    "    imu_df.iloc[i, 14] = p[14] + d[0]\n",
    "    imu_df.iloc[i, 15] = p[15] + d[1]\n",
    "    imu_df.iloc[i, 16] = p[16] + d[2]"
   ]
  },
  {
   "cell_type": "code",
   "execution_count": 156,
   "metadata": {
    "collapsed": false,
    "pycharm": {
     "name": "#%%\n"
    }
   },
   "outputs": [],
   "source": [
    "xyz = imu_df.loc[:, [\"x\", \"y\", \"z\"]].values\n",
    "\n",
    "pcd = open3d.geometry.PointCloud()\n",
    "pcd.points = open3d.utility.Vector3dVector(xyz)\n",
    "\n",
    "open3d.visualization.draw_geometries([pcd])"
   ]
  },
  {
   "cell_type": "code",
   "execution_count": null,
   "metadata": {
    "collapsed": false,
    "pycharm": {
     "name": "#%%\n"
    }
   },
   "outputs": [],
   "source": [
    "camera = DepthCamera(\"lidar\", \"data/exp_7/metadata/device-0-aligned.json\")"
   ]
  },
  {
   "cell_type": "code",
   "execution_count": null,
   "metadata": {
    "collapsed": false,
    "pycharm": {
     "name": "#%%\n"
    }
   },
   "outputs": [],
   "source": [
    "sequence_dir = os.path.join(data_dir, trial, subject, f\"{sequence:02d}\", \"frames\")\n",
    "sequence_ts = fread.get_timstamps_from_images(sequence_dir, ext=\".depth.png\")"
   ]
  },
  {
   "cell_type": "code",
   "execution_count": null,
   "metadata": {
    "collapsed": false,
    "pycharm": {
     "name": "#%%\n"
    }
   },
   "outputs": [],
   "source": [
    "start_t = sequence_ts[0]\n",
    "end_t = sequence_ts[-1]"
   ]
  },
  {
   "cell_type": "code",
   "execution_count": null,
   "metadata": {
    "collapsed": false,
    "pycharm": {
     "name": "#%%\n"
    }
   },
   "outputs": [],
   "source": [
    "# accel_t = accel_df[(accel_df.timestamp >= start_t) & (accel_df.timestamp <= end_t)]\n",
    "accel_t = accel_df.iloc[400:].copy()\n",
    "# remove redundant data\n",
    "accel_t = accel_t.drop_duplicates(\"timestamp\")\n",
    "# calculating time difference\n",
    "accel_t.loc[:, \"dt\"] = np.concatenate([[0], (accel_t.timestamp.values[1:] - accel_t.timestamp.values[:-1]) / 1000])\n",
    "# accel_t.loc[:, \"dt\"] = (accel_t.timestamp.values - accel_t.timestamp.values[0]) / 1000\n",
    "# remove first row\n",
    "accel_t = accel_t.iloc[1:]\n",
    "\n",
    "accel_t.reset_index(drop=True, inplace=True)"
   ]
  },
  {
   "cell_type": "code",
   "execution_count": null,
   "metadata": {
    "collapsed": false,
    "pycharm": {
     "name": "#%%\n"
    }
   },
   "outputs": [],
   "source": [
    "gyro_t = gyro_df.iloc[400:].copy()\n",
    "# remove redundant data\n",
    "gyro_t = gyro_t.drop_duplicates(\"timestamp\")\n",
    "# calculating time difference\n",
    "# gyro_t.loc[:, \"dt\"] = np.concatenate([[0], (gyro_t.timestamp.values[1:] - gyro_t.timestamp.values[:-1]) / 1000])\n",
    "gyro_t.loc[:, \"dt\"] = (gyro_t.timestamp.values - gyro_t.timestamp.values[0]) / 1000\n",
    "# remove first row\n",
    "gyro_t = gyro_t.iloc[1:]"
   ]
  },
  {
   "cell_type": "code",
   "execution_count": null,
   "metadata": {
    "collapsed": false,
    "pycharm": {
     "name": "#%%\n"
    }
   },
   "outputs": [],
   "source": [
    "accel_t.loc[:, \"Ix\"] = np.zeros(len(accel_t))\n",
    "accel_t.loc[:, \"Iy\"] = np.zeros(len(accel_t))\n",
    "accel_t.loc[:, \"Iz\"] = np.zeros(len(accel_t))\n",
    "\n",
    "accel_t.loc[:, \"I2x\"] = np.zeros(len(accel_t))\n",
    "accel_t.loc[:, \"I2y\"] = np.zeros(len(accel_t))\n",
    "accel_t.loc[:, \"I2z\"] = np.zeros(len(accel_t))"
   ]
  },
  {
   "cell_type": "code",
   "execution_count": null,
   "metadata": {
    "collapsed": false,
    "pycharm": {
     "name": "#%%\n"
    }
   },
   "outputs": [],
   "source": [
    "displacement = [0, 0, 0]\n",
    "velocity = [0, 0, 0]\n",
    "\n",
    "for i in range(len(accel_t)):\n",
    "    imu = accel_t.iloc[i].values\n",
    "    for j, axis in enumerate([\"x\", \"y\", \"z\"]):\n",
    "        velocity[j] = velocity[j] + imu[j + 1] * imu[4] # 4 = dt\n",
    "        # Update the displacement\n",
    "        displacement[j] = displacement[j] + (velocity[j] * imu[4]) + (0.5 * imu[j + 1] * imu[4] * imu[4])\n",
    "\n",
    "        accel_t.iloc[i, 5 + j] = velocity[j]\n",
    "        accel_t.iloc[i, 8 + j] = displacement[j]"
   ]
  },
  {
   "cell_type": "code",
   "execution_count": null,
   "metadata": {
    "collapsed": false,
    "pycharm": {
     "name": "#%%\n"
    }
   },
   "outputs": [],
   "source": [
    "# accel_t.loc[:, \"Ix\"] = scipy.integrate.cumtrapz(accel_t.x.values, accel_t.dt.values, initial=0)\n",
    "# accel_t.loc[:, \"Iy\"] = scipy.integrate.cumtrapz(accel_t.y.values, accel_t.dt.values, initial=0)\n",
    "# accel_t.loc[:, \"Iz\"] = scipy.integrate.cumtrapz(accel_t.z.values, accel_t.dt.values, initial=0)\n",
    "#\n",
    "# accel_t.loc[:, \"I2x\"] = scipy.integrate.cumtrapz(accel_t.Ix.values, accel_t.dt.values, initial=0)\n",
    "# accel_t.loc[:, \"I2y\"] = scipy.integrate.cumtrapz(accel_t.Iy.values, accel_t.dt.values, initial=0)\n",
    "# accel_t.loc[:, \"I2z\"] = scipy.integrate.cumtrapz(accel_t.Iz.values, accel_t.dt.values, initial=0)"
   ]
  },
  {
   "cell_type": "code",
   "execution_count": null,
   "metadata": {
    "collapsed": false,
    "pycharm": {
     "name": "#%%\n"
    }
   },
   "outputs": [],
   "source": [
    "# accel_t.set_index(\"timestamp\").loc[:, [\"x\", \"y\", \"z\"]].plot()\n",
    "accel_t.set_index(\"timestamp\").loc[:, [\"I2x\", \"I2y\", \"I2z\"]].plot()\n",
    "# axis = \"z\"\n",
    "# accel_t.iloc[1000:].set_index(\"timestamp\").loc[:, [f\"I{axis}\", f\"I2{axis}\"]].plot()"
   ]
  },
  {
   "cell_type": "code",
   "execution_count": null,
   "metadata": {
    "collapsed": false,
    "pycharm": {
     "name": "#%%\n"
    }
   },
   "outputs": [],
   "source": [
    "# t = accel_t.I2x.values, accel_t.I2y.sum(), accel_t.I2z.sum()\n",
    "t = accel_t.values[-1, -3:]"
   ]
  },
  {
   "cell_type": "code",
   "execution_count": null,
   "metadata": {
    "collapsed": false,
    "pycharm": {
     "name": "#%%\n"
    }
   },
   "outputs": [],
   "source": [
    "# gyro_t = gyro_df[(accel_df.timestamp >= start_t) & (accel_df.timestamp <= end_t)]\n",
    "gyro_t = gyro_df.copy()\n",
    "# remove redundant data\n",
    "gyro_t = gyro_t.drop_duplicates(\"timestamp\")\n",
    "# calculating time difference\n",
    "# gyro_t.loc[:, \"dt\"] = np.concatenate([[0], (gyro_t.timestamp.values[1:] - gyro_t.timestamp.values[:-1]) / 1000])\n",
    "gyro_t.loc[:, \"dt\"] = (gyro_t.timestamp.values - gyro_t.timestamp.values[0]) / 1000\n",
    "# remove first row\n",
    "gyro_t = gyro_t.iloc[1:]"
   ]
  },
  {
   "cell_type": "code",
   "execution_count": null,
   "metadata": {
    "collapsed": false,
    "pycharm": {
     "name": "#%%\n"
    }
   },
   "outputs": [],
   "source": [
    "gyro_t.loc[:, \"Ix\"] = scipy.integrate.cumtrapz(gyro_t.x.values, gyro_t.dt.values, initial=0)\n",
    "gyro_t.loc[:, \"Iy\"] = scipy.integrate.cumtrapz(gyro_t.y.values, gyro_t.dt.values, initial=0)\n",
    "gyro_t.loc[:, \"Iz\"] = scipy.integrate.cumtrapz(gyro_t.z.values, gyro_t.dt.values, initial=0)"
   ]
  },
  {
   "cell_type": "code",
   "execution_count": null,
   "metadata": {
    "collapsed": false,
    "pycharm": {
     "name": "#%%\n"
    }
   },
   "outputs": [],
   "source": [
    "gyro_t.set_index(\"timestamp\").loc[:, [\"Ix\", \"Iy\", \"Iz\"]].plot()"
   ]
  },
  {
   "cell_type": "code",
   "execution_count": null,
   "metadata": {
    "collapsed": false,
    "pycharm": {
     "name": "#%%\n"
    }
   },
   "outputs": [],
   "source": [
    "# R = gyro_t.Ix.sum(), gyro_t.Iy.sum(), gyro_t.Iz.sum()\n",
    "R = gyro_t.values[-1, -3:]"
   ]
  },
  {
   "cell_type": "code",
   "execution_count": null,
   "metadata": {
    "collapsed": false,
    "pycharm": {
     "name": "#%%\n"
    }
   },
   "outputs": [],
   "source": [
    "T = helpers.rotate_transformation_matrix(np.identity(4), R[0], R[1], R[2])\n",
    "T[:3, 3] = t"
   ]
  },
  {
   "cell_type": "code",
   "execution_count": null,
   "metadata": {
    "collapsed": false,
    "pycharm": {
     "name": "#%%\n"
    }
   },
   "outputs": [],
   "source": [
    "print(f\"Translation: {t}\", end=\"\\t\")\n",
    "print(f\"Rotation: {R}\")"
   ]
  },
  {
   "cell_type": "code",
   "execution_count": null,
   "metadata": {
    "collapsed": false,
    "pycharm": {
     "name": "#%%\n"
    }
   },
   "outputs": [],
   "source": [
    "source = camera.depth_to_point_cloud(os.path.join(sequence_dir, f\"frame-{start_t}.depth.png\"))\n",
    "target = camera.depth_to_point_cloud(os.path.join(sequence_dir, f\"frame-{end_t}.depth.png\"))"
   ]
  },
  {
   "cell_type": "code",
   "execution_count": null,
   "metadata": {
    "collapsed": false,
    "pycharm": {
     "name": "#%%\n"
    }
   },
   "outputs": [],
   "source": [
    "registration.view(source, target, T)"
   ]
  },
  {
   "cell_type": "code",
   "execution_count": null,
   "metadata": {
    "collapsed": false,
    "pycharm": {
     "name": "#%%\n"
    }
   },
   "outputs": [],
   "source": [
    "accel_df = accel_df.drop_duplicates(\"timestamp\")"
   ]
  },
  {
   "cell_type": "code",
   "execution_count": null,
   "metadata": {
    "collapsed": false,
    "pycharm": {
     "name": "#%%\n"
    }
   },
   "outputs": [],
   "source": [
    "samples = accel_df.shape[0]\n",
    "duration = accel_df.timestamp.values[-1] - accel_df.timestamp.values[0]"
   ]
  },
  {
   "cell_type": "code",
   "execution_count": null,
   "metadata": {
    "collapsed": false,
    "pycharm": {
     "name": "#%%\n"
    }
   },
   "outputs": [],
   "source": [
    "samples / duration * 1000"
   ]
  },
  {
   "cell_type": "markdown",
   "metadata": {
    "collapsed": false,
    "pycharm": {
     "name": "#%% md\n"
    }
   },
   "source": [
    "Experiment to check integration with simulated data"
   ]
  },
  {
   "cell_type": "code",
   "execution_count": null,
   "metadata": {
    "collapsed": false,
    "pycharm": {
     "name": "#%%\n"
    }
   },
   "outputs": [],
   "source": [
    "imu = [[2] for _ in range(2000)] + [[0] for _ in range(3000)] + [[-2] for _ in range(2000)]\n",
    "timestamps = [[i] for i in range(7000)]\n",
    "\n",
    "data = np.concatenate([timestamps, imu], axis=1)\n",
    "\n",
    "accel_df = pd.DataFrame(data, columns=[\"timestamp\", \"x\"])"
   ]
  },
  {
   "cell_type": "code",
   "execution_count": null,
   "metadata": {
    "collapsed": false,
    "pycharm": {
     "name": "#%%\n"
    }
   },
   "outputs": [],
   "source": [
    "accel_df.loc[:, \"dt\"] = (accel_df.timestamp.values - accel_df.timestamp.values[0]) / 1000\n",
    "# remove first row\n",
    "accel_df = accel_df.iloc[1:]"
   ]
  },
  {
   "cell_type": "code",
   "execution_count": null,
   "metadata": {
    "collapsed": false,
    "pycharm": {
     "name": "#%%\n"
    }
   },
   "outputs": [],
   "source": [
    "accel_df.loc[:, \"Ix\"] = scipy.integrate.cumtrapz(accel_df.x.values, accel_df.dt.values, initial=0)"
   ]
  },
  {
   "cell_type": "code",
   "execution_count": null,
   "metadata": {
    "collapsed": false,
    "pycharm": {
     "name": "#%%\n"
    }
   },
   "outputs": [],
   "source": [
    "accel_df.loc[:, \"I2x\"] = scipy.integrate.cumtrapz(accel_df.Ix.values, accel_df.dt.values, initial=0)"
   ]
  },
  {
   "cell_type": "code",
   "execution_count": null,
   "metadata": {
    "collapsed": false,
    "pycharm": {
     "name": "#%%\n"
    }
   },
   "outputs": [],
   "source": [
    "accel_df.set_index(\"timestamp\").loc[:, [\"x\", \"Ix\", \"I2x\"]].plot()"
   ]
  },
  {
   "cell_type": "code",
   "execution_count": null,
   "metadata": {
    "collapsed": false,
    "pycharm": {
     "name": "#%%\n"
    }
   },
   "outputs": [],
   "source": [
    "d = 0.5 * 2 * 4 + 4 * 3 + 0.5 * 4 * 2\n",
    "print(f\"Total distance: {d}\")"
   ]
  },
  {
   "cell_type": "markdown",
   "metadata": {
    "collapsed": false,
    "pycharm": {
     "name": "#%% md\n"
    }
   },
   "source": [
    "Linear acceleration from Android API"
   ]
  },
  {
   "cell_type": "code",
   "execution_count": 131,
   "metadata": {
    "collapsed": false,
    "pycharm": {
     "name": "#%%\n"
    }
   },
   "outputs": [],
   "source": [
    "accel_df = pd.read_csv(\"data/android/1672368036122/acceleration.csv\", names=[\"timestamp\", \"x\", \"y\", \"z\"])\n",
    "gyro_df = pd.read_csv(\"data/android/1672368036122/gyroscope.csv\", names=[\"timestamp\", \"x\", \"y\", \"z\"])"
   ]
  },
  {
   "cell_type": "code",
   "execution_count": 132,
   "metadata": {
    "collapsed": false,
    "pycharm": {
     "name": "#%%\n"
    }
   },
   "outputs": [],
   "source": [
    "accel_df.drop_duplicates(\"timestamp\", inplace=True)\n",
    "gyro_df.drop_duplicates(\"timestamp\", inplace=True)"
   ]
  },
  {
   "cell_type": "code",
   "execution_count": 133,
   "metadata": {},
   "outputs": [
    {
     "data": {
      "text/plain": [
       "<AxesSubplot:xlabel='timestamp'>"
      ]
     },
     "execution_count": 133,
     "metadata": {},
     "output_type": "execute_result"
    },
    {
     "data": {
      "image/png": "[encoded data removed]",
      "text/plain": [
       "<Figure size 432x288 with 1 Axes>"
      ]
     },
     "metadata": {
      "needs_background": "light"
     },
     "output_type": "display_data"
    }
   ],
   "source": [
    "accel_df.loc[200:, [\"timestamp\", \"x\", \"y\", \"z\"]].set_index(\"timestamp\").plot()"
   ]
  },
  {
   "cell_type": "code",
   "execution_count": 134,
   "metadata": {
    "collapsed": false,
    "pycharm": {
     "name": "#%%\n"
    }
   },
   "outputs": [],
   "source": [
    "accel_df = accel_df.iloc[175:]\n",
    "\n",
    "accel_df.loc[:, \"gyro_t\"] = accel_df.apply(lambda x: nearest(gyro_df.timestamp.values, x.timestamp), axis=1)\n",
    "\n",
    "imu_df = pd.merge(\n",
    "    accel_df.loc[:, [\"gyro_t\", \"x\", \"y\", \"z\"]],\n",
    "    gyro_df.loc[:, [\"timestamp\", \"x\", \"y\", \"z\"]],\n",
    "    left_on=\"gyro_t\",\n",
    "    right_on=\"timestamp\",\n",
    "    suffixes=(\"a\", \"g\")\n",
    ")\n",
    "\n",
    "imu_df.drop(\"gyro_t\", axis=1, inplace=True)\n",
    "imu_df = imu_df.loc[:, [\"timestamp\", \"xa\", \"ya\", \"za\", \"xg\", \"yg\", \"zg\"]]"
   ]
  },
  {
   "cell_type": "code",
   "execution_count": 135,
   "metadata": {
    "collapsed": false,
    "pycharm": {
     "name": "#%%\n"
    }
   },
   "outputs": [],
   "source": [
    "# remove first second's data (as it stabilizes the gravity)\n",
    "# imu_df = imu_df.iloc[400:]\n",
    "# compute dt in seconds\n",
    "imu_df.loc[:, \"dt\"] = np.concatenate([[0], (imu_df.timestamp.values[1:] - imu_df.timestamp.values[:-1]) / 1000])\n",
    "# remove first row as the dt is 0\n",
    "imu_df = imu_df.iloc[1:]\n",
    "# reset index in pandas data frame\n",
    "imu_df.reset_index(drop=True, inplace=True)"
   ]
  },
  {
   "cell_type": "code",
   "execution_count": 136,
   "metadata": {
    "collapsed": false,
    "pycharm": {
     "name": "#%%\n"
    }
   },
   "outputs": [],
   "source": [
    "# Fill 0 for displacement and angles\n",
    "imu_df.loc[:, \"dx\"] = np.zeros(len(imu_df))\n",
    "imu_df.loc[:, \"dy\"] = np.zeros(len(imu_df))\n",
    "imu_df.loc[:, \"dz\"] = np.zeros(len(imu_df))\n",
    "imu_df.loc[:, \"rx\"] = np.zeros(len(imu_df))\n",
    "imu_df.loc[:, \"ry\"] = np.zeros(len(imu_df))\n",
    "imu_df.loc[:, \"rz\"] = np.zeros(len(imu_df))"
   ]
  },
  {
   "cell_type": "code",
   "execution_count": 137,
   "metadata": {
    "collapsed": false,
    "pycharm": {
     "name": "#%%\n"
    }
   },
   "outputs": [],
   "source": [
    "# displacement = [0, 0, 0]\n",
    "velocity = [0, 0, 0]\n",
    "angle = [0, 0, 0]\n",
    "\n",
    "for i in range(len(imu_df)):\n",
    "    imu = imu_df.iloc[i].values\n",
    "    dt = imu[7]\n",
    "    for j, axis in enumerate([\"x\", \"y\", \"z\"]):\n",
    "        # velocity[j] = velocity[j] + imu[j + 1] * dt\n",
    "        # Update the displacement\n",
    "        # displacement[j] = displacement[j] + (velocity[j] * dt) + (0.5 * acceleration[j + 1] * dt * dt)\n",
    "        angle[j] += imu[j + 4] * dt\n",
    "\n",
    "        imu_df.iloc[i, 8 + j] = (velocity[j] * dt) + (0.5 * imu[j + 1] * dt * dt)\n",
    "        # imu_df.iloc[i, 11 + j] = imu[j + 4] * dt\n",
    "        imu_df.iloc[i, 11 + j] = np.degrees(angle[j])\n",
    "\n",
    "        velocity[j] = velocity[j] + imu[j + 1] * dt"
   ]
  },
  {
   "cell_type": "code",
   "execution_count": 138,
   "metadata": {
    "collapsed": false,
    "pycharm": {
     "name": "#%%\n"
    }
   },
   "outputs": [],
   "source": [
    "imu_df.loc[:, \"x\"] = np.zeros(len(imu_df))\n",
    "imu_df.loc[:, \"y\"] = np.zeros(len(imu_df))\n",
    "imu_df.loc[:, \"z\"] = np.zeros(len(imu_df))"
   ]
  },
  {
   "cell_type": "code",
   "execution_count": 139,
   "metadata": {
    "collapsed": false,
    "pycharm": {
     "name": "#%%\n"
    }
   },
   "outputs": [],
   "source": [
    "for i in range(1, len(imu_df)):\n",
    "    c = imu_df.iloc[i].values           # current readings\n",
    "    p = imu_df.iloc[i - 1].values       # previous readings\n",
    "\n",
    "    R = helpers.rotate_transformation_matrix(np.identity(4), p[11], p[12], p[13])\n",
    "\n",
    "    d = np.dot(R, np.array([c[8], c[9], c[10], 1]))\n",
    "\n",
    "    imu_df.iloc[i, 14] = p[14] + d[0]\n",
    "    imu_df.iloc[i, 15] = p[15] + d[1]\n",
    "    imu_df.iloc[i, 16] = p[16] + d[2]"
   ]
  },
  {
   "cell_type": "code",
   "execution_count": 140,
   "metadata": {
    "collapsed": false,
    "pycharm": {
     "name": "#%%\n"
    }
   },
   "outputs": [],
   "source": [
    "xyz = imu_df.loc[:, [\"x\", \"y\", \"z\"]].values\n",
    "\n",
    "pcd = open3d.geometry.PointCloud()\n",
    "pcd.points = open3d.utility.Vector3dVector(xyz)\n",
    "\n",
    "open3d.visualization.draw_geometries([pcd])"
   ]
  },
  {
   "cell_type": "code",
   "execution_count": 129,
   "metadata": {
    "collapsed": false,
    "pycharm": {
     "name": "#%%\n"
    }
   },
   "outputs": [
    {
     "data": {
      "text/plain": [
       "<AxesSubplot:xlabel='dt'>"
      ]
     },
     "execution_count": 129,
     "metadata": {},
     "output_type": "execute_result"
    },
    {
     "data": {
      "image/png": "[encoded data removed]",
      "text/plain": [
       "<Figure size 432x288 with 1 Axes>"
      ]
     },
     "metadata": {
      "needs_background": "light"
     },
     "output_type": "display_data"
    }
   ],
   "source": [
    "gyro_df.loc[:, \"dt\"] = gyro_df.timestamp.values - gyro_df.timestamp.values[0]\n",
    "\n",
    "gyro_df.set_index(\"dt\").loc[:, [\"x\", \"y\", \"z\"]].plot()"
   ]
  },
  {
   "cell_type": "code",
   "execution_count": 130,
   "metadata": {},
   "outputs": [
    {
     "data": {
      "text/plain": [
       "180.02333923010465"
      ]
     },
     "execution_count": 130,
     "metadata": {},
     "output_type": "execute_result"
    }
   ],
   "source": [
    "np.rad2deg(3.142)"
   ]
  },
  {
   "cell_type": "code",
   "execution_count": null,
   "metadata": {},
   "outputs": [],
   "source": []
  }
 ],
 "metadata": {
  "kernelspec": {
   "display_name": "Python 3.7.9 ('lidar')",
   "language": "python",
   "name": "python3"
  },
  "language_info": {
   "codemirror_mode": {
    "name": "ipython",
    "version": 3
   },
   "file_extension": ".py",
   "mimetype": "text/x-python",
   "name": "python",
   "nbconvert_exporter": "python",
   "pygments_lexer": "ipython3",
   "version": "3.7.9"
  },
  "vscode": {
   "interpreter": {
    "hash": "71ec0456078ee969ee04deec14dae5ce507385324b4d068644fb8e515e3f77ec"
   }
  }
 },
 "nbformat": 4,
 "nbformat_minor": 0
}
