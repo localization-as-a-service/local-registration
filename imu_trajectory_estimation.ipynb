{
 "cells": [
  {
   "cell_type": "code",
   "execution_count": 1,
   "metadata": {
    "collapsed": false,
    "pycharm": {
     "name": "#%%\n"
    }
   },
   "outputs": [
    {
     "name": "stdout",
     "output_type": "stream",
     "text": [
      "Jupyter environment detected. Enabling Open3D WebVisualizer.\n",
      "[Open3D INFO] WebRTC GUI backend enabled.\n",
      "[Open3D INFO] WebRTCWindowSystem: HTTP handshake server disabled.\n"
     ]
    }
   ],
   "source": [
    "import numpy as np\n",
    "import pandas as pd\n",
    "import open3d\n",
    "import os\n",
    "import tqdm\n",
    "import matplotlib.pyplot as plt\n",
    "import utils.helpers as helpers\n",
    "import utils.fread as fread\n",
    "import utils.registration as registration\n",
    "import scipy\n",
    "\n",
    "from utils.depth_camera import DepthCamera"
   ]
  },
  {
   "cell_type": "code",
   "execution_count": 2,
   "metadata": {
    "collapsed": false,
    "pycharm": {
     "name": "#%%\n"
    }
   },
   "outputs": [],
   "source": [
    "def nearest(items, pivot):\n",
    "    return min(items, key=lambda x: abs(x - pivot))"
   ]
  },
  {
   "cell_type": "code",
   "execution_count": 32,
   "metadata": {
    "collapsed": false,
    "pycharm": {
     "name": "#%%\n"
    }
   },
   "outputs": [],
   "source": [
    "data_dir = \"data/exp_7\"\n",
    "trial = \"trial_1\"\n",
    "subject = \"subject-1\"\n",
    "sequence = 2"
   ]
  },
  {
   "cell_type": "code",
   "execution_count": 47,
   "metadata": {
    "collapsed": false,
    "pycharm": {
     "name": "#%%\n"
    }
   },
   "outputs": [],
   "source": [
    "motion_dir = os.path.join(data_dir, trial, subject, f\"{sequence:02d}\", \"motion\")"
   ]
  },
  {
   "cell_type": "code",
   "execution_count": 48,
   "metadata": {
    "collapsed": false,
    "pycharm": {
     "name": "#%%\n"
    }
   },
   "outputs": [],
   "source": [
    "accel_df = pd.read_csv(os.path.join(motion_dir, \"accelerometer\"))\n",
    "gyro_df = pd.read_csv(os.path.join(motion_dir, \"gyroscope\"))"
   ]
  },
  {
   "cell_type": "code",
   "execution_count": 49,
   "metadata": {
    "collapsed": false,
    "pycharm": {
     "name": "#%%\n"
    }
   },
   "outputs": [],
   "source": [
    "accel_df.drop_duplicates(\"timestamp\", inplace=True)\n",
    "gyro_df.drop_duplicates(\"timestamp\", inplace=True)"
   ]
  },
  {
   "cell_type": "code",
   "execution_count": 50,
   "metadata": {
    "collapsed": false,
    "pycharm": {
     "name": "#%%\n"
    }
   },
   "outputs": [],
   "source": [
    "imu_df = pd.merge(accel_df, gyro_df, on=\"timestamp\", suffixes=(\"a\", \"g\"))"
   ]
  },
  {
   "cell_type": "code",
   "execution_count": 51,
   "metadata": {
    "collapsed": false,
    "pycharm": {
     "name": "#%%\n"
    }
   },
   "outputs": [],
   "source": [
    "alpha = 0.8\n",
    "gravity = [0, 0, 0]\n",
    "\n",
    "for i in range(imu_df.shape[0]):\n",
    "    for j in range(3):\n",
    "        gravity[j] = alpha * gravity[j] + (1 - alpha) * imu_df.iloc[i, 1 + j]\n",
    "        imu_df.iloc[i, 1 + j] = imu_df.iloc[i, 1 + j] - gravity[j]"
   ]
  },
  {
   "cell_type": "code",
   "execution_count": 52,
   "metadata": {
    "collapsed": false,
    "pycharm": {
     "name": "#%%\n"
    }
   },
   "outputs": [],
   "source": [
    "# remove first second's data (as it stabilizes the gravity)\n",
    "imu_df = imu_df.iloc[400:]\n",
    "# compute dt in seconds\n",
    "imu_df.loc[:, \"dt\"] = np.concatenate([[0], (imu_df.timestamp.values[1:] - imu_df.timestamp.values[:-1]) / 1000])\n",
    "# remove first row as the dt is 0\n",
    "imu_df = imu_df.iloc[1:]\n",
    "# reset index in pandas data frame\n",
    "imu_df.reset_index(drop=True, inplace=True)"
   ]
  },
  {
   "cell_type": "code",
   "execution_count": 53,
   "metadata": {
    "collapsed": false,
    "pycharm": {
     "name": "#%%\n"
    }
   },
   "outputs": [],
   "source": [
    "# Fill 0 for displacement and angles\n",
    "imu_df.loc[:, \"dx\"] = np.zeros(len(imu_df))\n",
    "imu_df.loc[:, \"dy\"] = np.zeros(len(imu_df))\n",
    "imu_df.loc[:, \"dz\"] = np.zeros(len(imu_df))\n",
    "imu_df.loc[:, \"rx\"] = np.zeros(len(imu_df))\n",
    "imu_df.loc[:, \"ry\"] = np.zeros(len(imu_df))\n",
    "imu_df.loc[:, \"rz\"] = np.zeros(len(imu_df))"
   ]
  },
  {
   "cell_type": "code",
   "execution_count": 54,
   "metadata": {
    "collapsed": false,
    "pycharm": {
     "name": "#%%\n"
    }
   },
   "outputs": [],
   "source": [
    "# displacement = [0, 0, 0]\n",
    "velocity = [0, 0, 0]\n",
    "angle = [0, 0, 0]\n",
    "\n",
    "for i in range(len(imu_df)):\n",
    "    imu = imu_df.iloc[i].values\n",
    "    dt = imu[7]\n",
    "    for j, axis in enumerate([\"x\", \"y\", \"z\"]):\n",
    "        # velocity[j] = velocity[j] + imu[j + 1] * dt\n",
    "        # Update the displacement\n",
    "        # displacement[j] = displacement[j] + (velocity[j] * dt) + (0.5 * acceleration[j + 1] * dt * dt)\n",
    "        # angle[j] += imu[j + 4] * dt\n",
    "\n",
    "        imu_df.iloc[i, 8 + j] = (velocity[j] * dt) + (0.5 * imu[j + 1] * dt * dt)\n",
    "        imu_df.iloc[i, 11 + j] = imu[j + 4] * dt\n",
    "\n",
    "        velocity[j] = velocity[j] + imu[j + 1] * dt"
   ]
  },
  {
   "cell_type": "code",
   "execution_count": 55,
   "metadata": {
    "collapsed": false,
    "pycharm": {
     "name": "#%%\n"
    }
   },
   "outputs": [],
   "source": [
    "imu_df.loc[:, \"x\"] = np.zeros(len(imu_df))\n",
    "imu_df.loc[:, \"y\"] = np.zeros(len(imu_df))\n",
    "imu_df.loc[:, \"z\"] = np.zeros(len(imu_df))"
   ]
  },
  {
   "cell_type": "code",
   "execution_count": 56,
   "metadata": {
    "collapsed": false,
    "pycharm": {
     "name": "#%%\n"
    }
   },
   "outputs": [],
   "source": [
    "for i in range(1, len(imu_df)):\n",
    "    c = imu_df.iloc[i].values           # current readings\n",
    "    p = imu_df.iloc[i - 1].values       # previous readings\n",
    "\n",
    "    R = helpers.rotate_transformation_matrix(np.identity(4), p[11], p[12], p[13])\n",
    "\n",
    "    d = np.dot(R, np.array([c[8], c[9], c[10], 1]))\n",
    "\n",
    "    imu_df.iloc[i, 14] = p[14] + d[0]\n",
    "    imu_df.iloc[i, 15] = p[15] + d[1]\n",
    "    imu_df.iloc[i, 16] = p[16] + d[2]"
   ]
  },
  {
   "cell_type": "code",
   "execution_count": 57,
   "metadata": {
    "collapsed": false,
    "pycharm": {
     "name": "#%%\n"
    }
   },
   "outputs": [],
   "source": [
    "xyz = imu_df.loc[:, [\"x\", \"y\", \"z\"]].values\n",
    "\n",
    "pcd = open3d.geometry.PointCloud()\n",
    "pcd.points = open3d.utility.Vector3dVector(xyz)\n",
    "\n",
    "open3d.visualization.draw_geometries([pcd])"
   ]
  },
  {
   "cell_type": "code",
   "execution_count": null,
   "metadata": {
    "collapsed": false,
    "pycharm": {
     "name": "#%%\n"
    }
   },
   "outputs": [],
   "source": [
    "camera = DepthCamera(\"lidar\", \"data/exp_7/metadata/device-0-aligned.json\")"
   ]
  },
  {
   "cell_type": "code",
   "execution_count": null,
   "metadata": {
    "collapsed": false,
    "pycharm": {
     "name": "#%%\n"
    }
   },
   "outputs": [],
   "source": [
    "sequence_dir = os.path.join(data_dir, trial, subject, f\"{sequence:02d}\", \"frames\")\n",
    "sequence_ts = fread.get_timstamps_from_images(sequence_dir, ext=\".depth.png\")"
   ]
  },
  {
   "cell_type": "code",
   "execution_count": null,
   "metadata": {
    "collapsed": false,
    "pycharm": {
     "name": "#%%\n"
    }
   },
   "outputs": [],
   "source": [
    "start_t = sequence_ts[0]\n",
    "end_t = sequence_ts[-1]"
   ]
  },
  {
   "cell_type": "code",
   "execution_count": null,
   "metadata": {
    "collapsed": false,
    "pycharm": {
     "name": "#%%\n"
    }
   },
   "outputs": [],
   "source": [
    "# accel_t = accel_df[(accel_df.timestamp >= start_t) & (accel_df.timestamp <= end_t)]\n",
    "accel_t = accel_df.iloc[400:].copy()\n",
    "# remove redundant data\n",
    "accel_t = accel_t.drop_duplicates(\"timestamp\")\n",
    "# calculating time difference\n",
    "accel_t.loc[:, \"dt\"] = np.concatenate([[0], (accel_t.timestamp.values[1:] - accel_t.timestamp.values[:-1]) / 1000])\n",
    "# accel_t.loc[:, \"dt\"] = (accel_t.timestamp.values - accel_t.timestamp.values[0]) / 1000\n",
    "# remove first row\n",
    "accel_t = accel_t.iloc[1:]\n",
    "\n",
    "accel_t.reset_index(drop=True, inplace=True)"
   ]
  },
  {
   "cell_type": "code",
   "execution_count": null,
   "metadata": {
    "collapsed": false,
    "pycharm": {
     "name": "#%%\n"
    }
   },
   "outputs": [],
   "source": [
    "gyro_t = gyro_df.iloc[400:].copy()\n",
    "# remove redundant data\n",
    "gyro_t = gyro_t.drop_duplicates(\"timestamp\")\n",
    "# calculating time difference\n",
    "# gyro_t.loc[:, \"dt\"] = np.concatenate([[0], (gyro_t.timestamp.values[1:] - gyro_t.timestamp.values[:-1]) / 1000])\n",
    "gyro_t.loc[:, \"dt\"] = (gyro_t.timestamp.values - gyro_t.timestamp.values[0]) / 1000\n",
    "# remove first row\n",
    "gyro_t = gyro_t.iloc[1:]"
   ]
  },
  {
   "cell_type": "code",
   "execution_count": null,
   "metadata": {
    "collapsed": false,
    "pycharm": {
     "name": "#%%\n"
    }
   },
   "outputs": [],
   "source": [
    "accel_t.loc[:, \"Ix\"] = np.zeros(len(accel_t))\n",
    "accel_t.loc[:, \"Iy\"] = np.zeros(len(accel_t))\n",
    "accel_t.loc[:, \"Iz\"] = np.zeros(len(accel_t))\n",
    "\n",
    "accel_t.loc[:, \"I2x\"] = np.zeros(len(accel_t))\n",
    "accel_t.loc[:, \"I2y\"] = np.zeros(len(accel_t))\n",
    "accel_t.loc[:, \"I2z\"] = np.zeros(len(accel_t))"
   ]
  },
  {
   "cell_type": "code",
   "execution_count": null,
   "metadata": {
    "collapsed": false,
    "pycharm": {
     "name": "#%%\n"
    }
   },
   "outputs": [],
   "source": [
    "displacement = [0, 0, 0]\n",
    "velocity = [0, 0, 0]\n",
    "\n",
    "for i in range(len(accel_t)):\n",
    "    imu = accel_t.iloc[i].values\n",
    "    for j, axis in enumerate([\"x\", \"y\", \"z\"]):\n",
    "        velocity[j] = velocity[j] + imu[j + 1] * imu[4] # 4 = dt\n",
    "        # Update the displacement\n",
    "        displacement[j] = displacement[j] + (velocity[j] * imu[4]) + (0.5 * imu[j + 1] * imu[4] * imu[4])\n",
    "\n",
    "        accel_t.iloc[i, 5 + j] = velocity[j]\n",
    "        accel_t.iloc[i, 8 + j] = displacement[j]"
   ]
  },
  {
   "cell_type": "code",
   "execution_count": null,
   "metadata": {
    "collapsed": false,
    "pycharm": {
     "name": "#%%\n"
    }
   },
   "outputs": [],
   "source": [
    "# accel_t.loc[:, \"Ix\"] = scipy.integrate.cumtrapz(accel_t.x.values, accel_t.dt.values, initial=0)\n",
    "# accel_t.loc[:, \"Iy\"] = scipy.integrate.cumtrapz(accel_t.y.values, accel_t.dt.values, initial=0)\n",
    "# accel_t.loc[:, \"Iz\"] = scipy.integrate.cumtrapz(accel_t.z.values, accel_t.dt.values, initial=0)\n",
    "#\n",
    "# accel_t.loc[:, \"I2x\"] = scipy.integrate.cumtrapz(accel_t.Ix.values, accel_t.dt.values, initial=0)\n",
    "# accel_t.loc[:, \"I2y\"] = scipy.integrate.cumtrapz(accel_t.Iy.values, accel_t.dt.values, initial=0)\n",
    "# accel_t.loc[:, \"I2z\"] = scipy.integrate.cumtrapz(accel_t.Iz.values, accel_t.dt.values, initial=0)"
   ]
  },
  {
   "cell_type": "code",
   "execution_count": null,
   "metadata": {
    "collapsed": false,
    "pycharm": {
     "name": "#%%\n"
    }
   },
   "outputs": [],
   "source": [
    "# accel_t.set_index(\"timestamp\").loc[:, [\"x\", \"y\", \"z\"]].plot()\n",
    "accel_t.set_index(\"timestamp\").loc[:, [\"I2x\", \"I2y\", \"I2z\"]].plot()\n",
    "# axis = \"z\"\n",
    "# accel_t.iloc[1000:].set_index(\"timestamp\").loc[:, [f\"I{axis}\", f\"I2{axis}\"]].plot()"
   ]
  },
  {
   "cell_type": "code",
   "execution_count": null,
   "metadata": {
    "collapsed": false,
    "pycharm": {
     "name": "#%%\n"
    }
   },
   "outputs": [],
   "source": [
    "# t = accel_t.I2x.values, accel_t.I2y.sum(), accel_t.I2z.sum()\n",
    "t = accel_t.values[-1, -3:]"
   ]
  },
  {
   "cell_type": "code",
   "execution_count": null,
   "metadata": {
    "collapsed": false,
    "pycharm": {
     "name": "#%%\n"
    }
   },
   "outputs": [],
   "source": [
    "# gyro_t = gyro_df[(accel_df.timestamp >= start_t) & (accel_df.timestamp <= end_t)]\n",
    "gyro_t = gyro_df.copy()\n",
    "# remove redundant data\n",
    "gyro_t = gyro_t.drop_duplicates(\"timestamp\")\n",
    "# calculating time difference\n",
    "# gyro_t.loc[:, \"dt\"] = np.concatenate([[0], (gyro_t.timestamp.values[1:] - gyro_t.timestamp.values[:-1]) / 1000])\n",
    "gyro_t.loc[:, \"dt\"] = (gyro_t.timestamp.values - gyro_t.timestamp.values[0]) / 1000\n",
    "# remove first row\n",
    "gyro_t = gyro_t.iloc[1:]"
   ]
  },
  {
   "cell_type": "code",
   "execution_count": null,
   "metadata": {
    "collapsed": false,
    "pycharm": {
     "name": "#%%\n"
    }
   },
   "outputs": [],
   "source": [
    "gyro_t.loc[:, \"Ix\"] = scipy.integrate.cumtrapz(gyro_t.x.values, gyro_t.dt.values, initial=0)\n",
    "gyro_t.loc[:, \"Iy\"] = scipy.integrate.cumtrapz(gyro_t.y.values, gyro_t.dt.values, initial=0)\n",
    "gyro_t.loc[:, \"Iz\"] = scipy.integrate.cumtrapz(gyro_t.z.values, gyro_t.dt.values, initial=0)"
   ]
  },
  {
   "cell_type": "code",
   "execution_count": null,
   "metadata": {
    "collapsed": false,
    "pycharm": {
     "name": "#%%\n"
    }
   },
   "outputs": [],
   "source": [
    "gyro_t.set_index(\"timestamp\").loc[:, [\"Ix\", \"Iy\", \"Iz\"]].plot()"
   ]
  },
  {
   "cell_type": "code",
   "execution_count": null,
   "metadata": {
    "collapsed": false,
    "pycharm": {
     "name": "#%%\n"
    }
   },
   "outputs": [],
   "source": [
    "# R = gyro_t.Ix.sum(), gyro_t.Iy.sum(), gyro_t.Iz.sum()\n",
    "R = gyro_t.values[-1, -3:]"
   ]
  },
  {
   "cell_type": "code",
   "execution_count": null,
   "metadata": {
    "collapsed": false,
    "pycharm": {
     "name": "#%%\n"
    }
   },
   "outputs": [],
   "source": [
    "T = helpers.rotate_transformation_matrix(np.identity(4), R[0], R[1], R[2])\n",
    "T[:3, 3] = t"
   ]
  },
  {
   "cell_type": "code",
   "execution_count": null,
   "metadata": {
    "collapsed": false,
    "pycharm": {
     "name": "#%%\n"
    }
   },
   "outputs": [],
   "source": [
    "print(f\"Translation: {t}\", end=\"\\t\")\n",
    "print(f\"Rotation: {R}\")"
   ]
  },
  {
   "cell_type": "code",
   "execution_count": null,
   "metadata": {
    "collapsed": false,
    "pycharm": {
     "name": "#%%\n"
    }
   },
   "outputs": [],
   "source": [
    "source = camera.depth_to_point_cloud(os.path.join(sequence_dir, f\"frame-{start_t}.depth.png\"))\n",
    "target = camera.depth_to_point_cloud(os.path.join(sequence_dir, f\"frame-{end_t}.depth.png\"))"
   ]
  },
  {
   "cell_type": "code",
   "execution_count": null,
   "metadata": {
    "collapsed": false,
    "pycharm": {
     "name": "#%%\n"
    }
   },
   "outputs": [],
   "source": [
    "registration.view(source, target, T)"
   ]
  },
  {
   "cell_type": "code",
   "execution_count": null,
   "metadata": {
    "collapsed": false,
    "pycharm": {
     "name": "#%%\n"
    }
   },
   "outputs": [],
   "source": [
    "accel_df = accel_df.drop_duplicates(\"timestamp\")"
   ]
  },
  {
   "cell_type": "code",
   "execution_count": null,
   "metadata": {
    "collapsed": false,
    "pycharm": {
     "name": "#%%\n"
    }
   },
   "outputs": [],
   "source": [
    "samples = accel_df.shape[0]\n",
    "duration = accel_df.timestamp.values[-1] - accel_df.timestamp.values[0]"
   ]
  },
  {
   "cell_type": "code",
   "execution_count": null,
   "metadata": {
    "collapsed": false,
    "pycharm": {
     "name": "#%%\n"
    }
   },
   "outputs": [],
   "source": [
    "samples / duration * 1000"
   ]
  },
  {
   "cell_type": "markdown",
   "metadata": {
    "collapsed": false,
    "pycharm": {
     "name": "#%% md\n"
    }
   },
   "source": [
    "Experiment to check integration with simulated data"
   ]
  },
  {
   "cell_type": "code",
   "execution_count": null,
   "metadata": {
    "collapsed": false,
    "pycharm": {
     "name": "#%%\n"
    }
   },
   "outputs": [],
   "source": [
    "imu = [[2] for _ in range(2000)] + [[0] for _ in range(3000)] + [[-2] for _ in range(2000)]\n",
    "timestamps = [[i] for i in range(7000)]\n",
    "\n",
    "data = np.concatenate([timestamps, imu], axis=1)\n",
    "\n",
    "accel_df = pd.DataFrame(data, columns=[\"timestamp\", \"x\"])"
   ]
  },
  {
   "cell_type": "code",
   "execution_count": null,
   "metadata": {
    "collapsed": false,
    "pycharm": {
     "name": "#%%\n"
    }
   },
   "outputs": [],
   "source": [
    "accel_df.loc[:, \"dt\"] = (accel_df.timestamp.values - accel_df.timestamp.values[0]) / 1000\n",
    "# remove first row\n",
    "accel_df = accel_df.iloc[1:]"
   ]
  },
  {
   "cell_type": "code",
   "execution_count": null,
   "metadata": {
    "collapsed": false,
    "pycharm": {
     "name": "#%%\n"
    }
   },
   "outputs": [],
   "source": [
    "accel_df.loc[:, \"Ix\"] = scipy.integrate.cumtrapz(accel_df.x.values, accel_df.dt.values, initial=0)"
   ]
  },
  {
   "cell_type": "code",
   "execution_count": null,
   "metadata": {
    "collapsed": false,
    "pycharm": {
     "name": "#%%\n"
    }
   },
   "outputs": [],
   "source": [
    "accel_df.loc[:, \"I2x\"] = scipy.integrate.cumtrapz(accel_df.Ix.values, accel_df.dt.values, initial=0)"
   ]
  },
  {
   "cell_type": "code",
   "execution_count": null,
   "metadata": {
    "collapsed": false,
    "pycharm": {
     "name": "#%%\n"
    }
   },
   "outputs": [],
   "source": [
    "accel_df.set_index(\"timestamp\").loc[:, [\"x\", \"Ix\", \"I2x\"]].plot()"
   ]
  },
  {
   "cell_type": "code",
   "execution_count": null,
   "metadata": {
    "collapsed": false,
    "pycharm": {
     "name": "#%%\n"
    }
   },
   "outputs": [],
   "source": [
    "d = 0.5 * 2 * 4 + 4 * 3 + 0.5 * 4 * 2\n",
    "print(f\"Total distance: {d}\")"
   ]
  },
  {
   "cell_type": "markdown",
   "metadata": {
    "collapsed": false,
    "pycharm": {
     "name": "#%% md\n"
    }
   },
   "source": [
    "Linear acceleration from Android API"
   ]
  },
  {
   "cell_type": "code",
   "execution_count": 14,
   "metadata": {
    "collapsed": false,
    "pycharm": {
     "name": "#%%\n"
    }
   },
   "outputs": [],
   "source": [
    "accel_df = pd.read_csv(\"data/android/1672368036122/acceleration.csv\", names=[\"timestamp\", \"x\", \"y\", \"z\"])\n",
    "gyro_df = pd.read_csv(\"data/android/1672368036122/gyroscope.csv\", names=[\"timestamp\", \"x\", \"y\", \"z\"])"
   ]
  },
  {
   "cell_type": "code",
   "execution_count": 15,
   "metadata": {
    "collapsed": false,
    "pycharm": {
     "name": "#%%\n"
    }
   },
   "outputs": [],
   "source": [
    "accel_df.drop_duplicates(\"timestamp\", inplace=True)\n",
    "gyro_df.drop_duplicates(\"timestamp\", inplace=True)"
   ]
  },
  {
   "cell_type": "code",
   "execution_count": 16,
   "metadata": {
    "collapsed": false,
    "pycharm": {
     "name": "#%%\n"
    }
   },
   "outputs": [],
   "source": [
    "accel_df.loc[:, \"gyro_t\"] = accel_df.apply(lambda x: nearest(gyro_df.timestamp.values, x.timestamp), axis=1)\n",
    "\n",
    "imu_df = pd.merge(\n",
    "    accel_df.loc[:, [\"gyro_t\", \"x\", \"y\", \"z\"]],\n",
    "    gyro_df.loc[:, [\"timestamp\", \"x\", \"y\", \"z\"]],\n",
    "    left_on=\"gyro_t\",\n",
    "    right_on=\"timestamp\",\n",
    "    suffixes=(\"a\", \"g\")\n",
    ")\n",
    "\n",
    "imu_df.drop(\"gyro_t\", axis=1, inplace=True)\n",
    "imu_df = imu_df.loc[:, [\"timestamp\", \"xa\", \"ya\", \"za\", \"xg\", \"yg\", \"zg\"]]"
   ]
  },
  {
   "cell_type": "code",
   "execution_count": 17,
   "metadata": {
    "collapsed": false,
    "pycharm": {
     "name": "#%%\n"
    }
   },
   "outputs": [],
   "source": [
    "# remove first second's data (as it stabilizes the gravity)\n",
    "# imu_df = imu_df.iloc[400:]\n",
    "# compute dt in seconds\n",
    "imu_df.loc[:, \"dt\"] = np.concatenate([[0], (imu_df.timestamp.values[1:] - imu_df.timestamp.values[:-1]) / 1000])\n",
    "# remove first row as the dt is 0\n",
    "imu_df = imu_df.iloc[1:]\n",
    "# reset index in pandas data frame\n",
    "imu_df.reset_index(drop=True, inplace=True)"
   ]
  },
  {
   "cell_type": "code",
   "execution_count": 18,
   "metadata": {
    "collapsed": false,
    "pycharm": {
     "name": "#%%\n"
    }
   },
   "outputs": [],
   "source": [
    "# Fill 0 for displacement and angles\n",
    "imu_df.loc[:, \"dx\"] = np.zeros(len(imu_df))\n",
    "imu_df.loc[:, \"dy\"] = np.zeros(len(imu_df))\n",
    "imu_df.loc[:, \"dz\"] = np.zeros(len(imu_df))\n",
    "imu_df.loc[:, \"rx\"] = np.zeros(len(imu_df))\n",
    "imu_df.loc[:, \"ry\"] = np.zeros(len(imu_df))\n",
    "imu_df.loc[:, \"rz\"] = np.zeros(len(imu_df))"
   ]
  },
  {
   "cell_type": "code",
   "execution_count": 19,
   "metadata": {
    "collapsed": false,
    "pycharm": {
     "name": "#%%\n"
    }
   },
   "outputs": [],
   "source": [
    "# displacement = [0, 0, 0]\n",
    "velocity = [0, 0, 0]\n",
    "angle = [0, 0, 0]\n",
    "\n",
    "for i in range(len(imu_df)):\n",
    "    imu = imu_df.iloc[i].values\n",
    "    dt = imu[7]\n",
    "    for j, axis in enumerate([\"x\", \"y\", \"z\"]):\n",
    "        # velocity[j] = velocity[j] + imu[j + 1] * dt\n",
    "        # Update the displacement\n",
    "        # displacement[j] = displacement[j] + (velocity[j] * dt) + (0.5 * acceleration[j + 1] * dt * dt)\n",
    "        # angle[j] += imu[j + 4] * dt\n",
    "\n",
    "        imu_df.iloc[i, 8 + j] = (velocity[j] * dt) + (0.5 * imu[j + 1] * dt * dt)\n",
    "        imu_df.iloc[i, 11 + j] = imu[j + 4] * dt\n",
    "\n",
    "        velocity[j] = velocity[j] + imu[j + 1] * dt"
   ]
  },
  {
   "cell_type": "code",
   "execution_count": 20,
   "metadata": {
    "collapsed": false,
    "pycharm": {
     "name": "#%%\n"
    }
   },
   "outputs": [],
   "source": [
    "imu_df.loc[:, \"x\"] = np.zeros(len(imu_df))\n",
    "imu_df.loc[:, \"y\"] = np.zeros(len(imu_df))\n",
    "imu_df.loc[:, \"z\"] = np.zeros(len(imu_df))"
   ]
  },
  {
   "cell_type": "code",
   "execution_count": 21,
   "metadata": {
    "collapsed": false,
    "pycharm": {
     "name": "#%%\n"
    }
   },
   "outputs": [],
   "source": [
    "for i in range(1, len(imu_df)):\n",
    "    c = imu_df.iloc[i].values           # current readings\n",
    "    p = imu_df.iloc[i - 1].values       # previous readings\n",
    "\n",
    "    R = helpers.rotate_transformation_matrix(np.identity(4), p[11], p[12], p[13])\n",
    "\n",
    "    d = np.dot(R, np.array([c[8], c[9], c[10], 1]))\n",
    "\n",
    "    imu_df.iloc[i, 14] = p[14] + d[0]\n",
    "    imu_df.iloc[i, 15] = p[15] + d[1]\n",
    "    imu_df.iloc[i, 16] = p[16] + d[2]"
   ]
  },
  {
   "cell_type": "code",
   "execution_count": 22,
   "metadata": {
    "collapsed": false,
    "pycharm": {
     "name": "#%%\n"
    }
   },
   "outputs": [],
   "source": [
    "xyz = imu_df.loc[:, [\"x\", \"y\", \"z\"]].values\n",
    "\n",
    "pcd = open3d.geometry.PointCloud()\n",
    "pcd.points = open3d.utility.Vector3dVector(xyz)\n",
    "\n",
    "open3d.visualization.draw_geometries([pcd])"
   ]
  },
  {
   "cell_type": "code",
   "execution_count": 23,
   "metadata": {
    "collapsed": false,
    "pycharm": {
     "name": "#%%\n"
    }
   },
   "outputs": [],
   "source": [
    "gyro_t = pd.read_csv(\"data/android/1672368005956/gyroscope.csv\", names=[\"timestamp\", \"x\", \"y\", \"z\"])"
   ]
  },
  {
   "cell_type": "code",
   "execution_count": 24,
   "metadata": {
    "collapsed": false,
    "pycharm": {
     "name": "#%%\n"
    }
   },
   "outputs": [],
   "source": [
    "gyro_t = gyro_t.drop_duplicates(\"timestamp\")\n",
    "# calculating time difference\n",
    "# gyro_t.loc[:, \"dt\"] = np.concatenate([[0], (gyro_t.timestamp.values[1:] - gyro_t.timestamp.values[:-1]) / 1000])\n",
    "gyro_t.loc[:, \"dt\"] = (gyro_t.timestamp.values - gyro_t.timestamp.values[0]) / 1000\n",
    "# remove first row\n",
    "gyro_t = gyro_t.iloc[1:]"
   ]
  },
  {
   "cell_type": "code",
   "execution_count": 25,
   "metadata": {
    "collapsed": false,
    "pycharm": {
     "name": "#%%\n"
    }
   },
   "outputs": [],
   "source": [
    "gyro_t.loc[:, \"Ix\"] = scipy.integrate.cumtrapz(gyro_t.x.values, gyro_t.dt.values, initial=0)\n",
    "gyro_t.loc[:, \"Iy\"] = scipy.integrate.cumtrapz(gyro_t.y.values, gyro_t.dt.values, initial=0)\n",
    "gyro_t.loc[:, \"Iz\"] = scipy.integrate.cumtrapz(gyro_t.z.values, gyro_t.dt.values, initial=0)"
   ]
  },
  {
   "cell_type": "code",
   "execution_count": 26,
   "metadata": {
    "collapsed": false,
    "pycharm": {
     "name": "#%%\n"
    }
   },
   "outputs": [
    {
     "data": {
      "text/plain": [
       "<AxesSubplot:xlabel='timestamp'>"
      ]
     },
     "execution_count": 26,
     "metadata": {},
     "output_type": "execute_result"
    },
    {
     "data": {
      "image/png": "[encoded data removed]",
      "text/plain": [
       "<Figure size 640x480 with 1 Axes>"
      ]
     },
     "metadata": {},
     "output_type": "display_data"
    }
   ],
   "source": [
    "gyro_df.set_index(\"timestamp\").loc[:, [\"x\", \"y\", \"z\"]].plot()"
   ]
  },
  {
   "cell_type": "code",
   "execution_count": 27,
   "metadata": {
    "collapsed": false,
    "pycharm": {
     "name": "#%%\n"
    }
   },
   "outputs": [
    {
     "data": {
      "text/plain": [
       "<AxesSubplot:xlabel='timestamp'>"
      ]
     },
     "execution_count": 27,
     "metadata": {},
     "output_type": "execute_result"
    },
    {
     "data": {
      "image/png": "[encoded data removed]",
      "text/plain": [
       "<Figure size 640x480 with 1 Axes>"
      ]
     },
     "metadata": {},
     "output_type": "display_data"
    }
   ],
   "source": [
    "gyro_t.set_index(\"timestamp\").loc[:, [\"Ix\", \"Iy\", \"Iz\"]].plot()"
   ]
  },
  {
   "cell_type": "code",
   "execution_count": 28,
   "metadata": {
    "collapsed": false,
    "pycharm": {
     "name": "#%%\n"
    }
   },
   "outputs": [
    {
     "ename": "NameError",
     "evalue": "name 'accel_t' is not defined",
     "output_type": "error",
     "traceback": [
      "\u001b[1;31m---------------------------------------------------------------------------\u001b[0m",
      "\u001b[1;31mNameError\u001b[0m                                 Traceback (most recent call last)",
      "Cell \u001b[1;32mIn [28], line 1\u001b[0m\n\u001b[1;32m----> 1\u001b[0m accel_t\u001b[39m.\u001b[39mloc[:, \u001b[39m\"\u001b[39m\u001b[39mgyro_t\u001b[39m\u001b[39m\"\u001b[39m] \u001b[39m=\u001b[39m accel_t\u001b[39m.\u001b[39mapply(\u001b[39mlambda\u001b[39;00m x: nearest(gyro_t\u001b[39m.\u001b[39mtimestamp\u001b[39m.\u001b[39mvalues, x\u001b[39m.\u001b[39mtimestamp), axis\u001b[39m=\u001b[39m\u001b[39m1\u001b[39m)\n",
      "\u001b[1;31mNameError\u001b[0m: name 'accel_t' is not defined"
     ]
    }
   ],
   "source": [
    "accel_t.loc[:, \"gyro_t\"] = accel_t.apply(lambda x: nearest(gyro_t.timestamp.values, x.timestamp), axis=1)"
   ]
  },
  {
   "cell_type": "code",
   "execution_count": null,
   "metadata": {
    "collapsed": false,
    "pycharm": {
     "name": "#%%\n"
    }
   },
   "outputs": [],
   "source": [
    "trajectory_t = pd.merge(\n",
    "    accel_t.loc[:, [\"gyro_t\", \"I2x\", \"I2y\", \"I2z\"]],\n",
    "    gyro_t.loc[:, [\"timestamp\", \"Ix\", \"Iy\", \"Iz\"]],\n",
    "    left_on=\"gyro_t\",\n",
    "    right_on=\"timestamp\"\n",
    ")"
   ]
  },
  {
   "cell_type": "code",
   "execution_count": null,
   "metadata": {
    "collapsed": false,
    "pycharm": {
     "name": "#%%\n"
    }
   },
   "outputs": [],
   "source": [
    "xyz = []\n",
    "\n",
    "for i in range(len(trajectory_t)):\n",
    "    data = trajectory_t.iloc[i]\n",
    "    R = helpers.rotate_transformation_matrix(np.identity(4), data.Ix, data.Iy, data.Iz)\n",
    "    x = np.array([data.I2x, data.I2y, data.I2z, 1])\n",
    "\n",
    "    p = np.dot(R, x)\n",
    "    xyz.append(p[:3].tolist())\n",
    "\n",
    "xyz = np.array(xyz)"
   ]
  },
  {
   "cell_type": "code",
   "execution_count": null,
   "metadata": {
    "collapsed": false,
    "pycharm": {
     "name": "#%%\n"
    }
   },
   "outputs": [],
   "source": [
    "pcd = open3d.geometry.PointCloud()\n",
    "pcd.points = open3d.utility.Vector3dVector(xyz)"
   ]
  },
  {
   "cell_type": "code",
   "execution_count": null,
   "metadata": {
    "collapsed": false,
    "pycharm": {
     "name": "#%%\n"
    }
   },
   "outputs": [],
   "source": [
    "open3d.visualization.draw_geometries([pcd])"
   ]
  },
  {
   "cell_type": "code",
   "execution_count": null,
   "metadata": {
    "collapsed": false,
    "pycharm": {
     "name": "#%%\n"
    }
   },
   "outputs": [],
   "source": []
  }
 ],
 "metadata": {
  "kernelspec": {
   "display_name": "local-reg",
   "language": "python",
   "name": "python3"
  },
  "language_info": {
   "codemirror_mode": {
    "name": "ipython",
    "version": 3
   },
   "file_extension": ".py",
   "mimetype": "text/x-python",
   "name": "python",
   "nbconvert_exporter": "python",
   "pygments_lexer": "ipython3",
   "version": "3.9.15"
  },
  "vscode": {
   "interpreter": {
    "hash": "a6ae5a769a6f761bb0fad38ece807810e6e8c011c16e85fd10062a6c7c41b6a2"
   }
  }
 },
 "nbformat": 4,
 "nbformat_minor": 0
}
