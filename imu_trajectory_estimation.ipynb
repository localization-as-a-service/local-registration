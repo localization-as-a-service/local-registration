{
 "cells": [
  {
   "cell_type": "code",
   "execution_count": 1,
   "outputs": [
    {
     "name": "stdout",
     "output_type": "stream",
     "text": [
      "Jupyter environment detected. Enabling Open3D WebVisualizer.\n",
      "[Open3D INFO] WebRTC GUI backend enabled.\n",
      "[Open3D INFO] WebRTCWindowSystem: HTTP handshake server disabled.\n"
     ]
    }
   ],
   "source": [
    "import numpy as np\n",
    "import pandas as pd\n",
    "import open3d\n",
    "import os\n",
    "import tqdm\n",
    "import utils.helpers as helpers\n",
    "import utils.fread as fread\n",
    "import utils.registration as registration\n",
    "import scipy\n",
    "\n",
    "from utils.depth_camera import DepthCamera"
   ],
   "metadata": {
    "collapsed": false,
    "pycharm": {
     "name": "#%%\n"
    }
   }
  },
  {
   "cell_type": "code",
   "execution_count": 62,
   "outputs": [],
   "source": [
    "data_dir = \"data/exp_7\"\n",
    "trial = \"trial_1\"\n",
    "subject = \"subject-1\"\n",
    "sequence = 1"
   ],
   "metadata": {
    "collapsed": false,
    "pycharm": {
     "name": "#%%\n"
    }
   }
  },
  {
   "cell_type": "code",
   "execution_count": 63,
   "outputs": [],
   "source": [
    "motion_dir = os.path.join(data_dir, trial, subject, f\"{sequence:02d}\", \"motion\")"
   ],
   "metadata": {
    "collapsed": false,
    "pycharm": {
     "name": "#%%\n"
    }
   }
  },
  {
   "cell_type": "code",
   "execution_count": 64,
   "outputs": [],
   "source": [
    "accel_df = pd.read_csv(os.path.join(motion_dir, \"accelerometer\"))\n",
    "gyro_df = pd.read_csv(os.path.join(motion_dir, \"gyroscope\"))"
   ],
   "metadata": {
    "collapsed": false,
    "pycharm": {
     "name": "#%%\n"
    }
   }
  },
  {
   "cell_type": "code",
   "execution_count": 65,
   "outputs": [
    {
     "name": "stderr",
     "output_type": "stream",
     "text": [
      "100%|██████████| 11964/11964 [00:02<00:00, 4182.99it/s]\n"
     ]
    }
   ],
   "source": [
    "alpha = 0.9\n",
    "gravity = [0, 0, 0]\n",
    "\n",
    "for i in tqdm.trange(accel_df.shape[0]):\n",
    "    for j in range(3):\n",
    "        gravity[j] = alpha * gravity[j] + (1 - alpha) * accel_df.iloc[i, 1 + j]\n",
    "        accel_df.iloc[i, 1 + j] = accel_df.iloc[i, 1 + j] - gravity[j]"
   ],
   "metadata": {
    "collapsed": false,
    "pycharm": {
     "name": "#%%\n"
    }
   }
  },
  {
   "cell_type": "code",
   "execution_count": 66,
   "outputs": [],
   "source": [
    "camera = DepthCamera(\"lidar\", \"data/exp_7/metadata/device-0-aligned.json\")"
   ],
   "metadata": {
    "collapsed": false,
    "pycharm": {
     "name": "#%%\n"
    }
   }
  },
  {
   "cell_type": "code",
   "execution_count": 67,
   "outputs": [],
   "source": [
    "sequence_dir = os.path.join(data_dir, trial, subject, f\"{sequence:02d}\", \"frames\")\n",
    "sequence_ts = fread.get_timstamps_from_images(sequence_dir, ext=\".depth.png\")"
   ],
   "metadata": {
    "collapsed": false,
    "pycharm": {
     "name": "#%%\n"
    }
   }
  },
  {
   "cell_type": "code",
   "execution_count": 68,
   "outputs": [],
   "source": [
    "start_t = sequence_ts[0]\n",
    "end_t = sequence_ts[-1]"
   ],
   "metadata": {
    "collapsed": false,
    "pycharm": {
     "name": "#%%\n"
    }
   }
  },
  {
   "cell_type": "code",
   "execution_count": 69,
   "outputs": [],
   "source": [
    "accel_t = accel_df[(accel_df.timestamp >= start_t) & (accel_df.timestamp <= end_t)]\n",
    "# remove redundant data\n",
    "accel_t = accel_t.drop_duplicates(\"timestamp\")\n",
    "# calculating time difference\n",
    "# accel_t.loc[:, \"dt\"] = np.concatenate([[0], (accel_t.timestamp.values[1:] - accel_t.timestamp.values[:-1]) / 1000])\n",
    "accel_t.loc[:, \"dt\"] = (accel_t.timestamp.values - accel_t.timestamp.values[0]) / 1000\n",
    "# remove first row\n",
    "accel_t = accel_t.iloc[1:]"
   ],
   "metadata": {
    "collapsed": false,
    "pycharm": {
     "name": "#%%\n"
    }
   }
  },
  {
   "cell_type": "code",
   "execution_count": 70,
   "outputs": [],
   "source": [
    "accel_t.loc[:, \"Ix\"] = scipy.integrate.cumtrapz(accel_t.x.values, accel_t.dt.values, initial=0)\n",
    "accel_t.loc[:, \"Iy\"] = scipy.integrate.cumtrapz(accel_t.y.values, accel_t.dt.values, initial=0)\n",
    "accel_t.loc[:, \"Iz\"] = scipy.integrate.cumtrapz(accel_t.z.values, accel_t.dt.values, initial=0)"
   ],
   "metadata": {
    "collapsed": false,
    "pycharm": {
     "name": "#%%\n"
    }
   }
  },
  {
   "cell_type": "code",
   "execution_count": 71,
   "outputs": [],
   "source": [
    "accel_t.loc[:, \"I2x\"] = scipy.integrate.cumtrapz(accel_t.Ix.values, accel_t.dt.values, initial=0)\n",
    "accel_t.loc[:, \"I2y\"] = scipy.integrate.cumtrapz(accel_t.Iy.values, accel_t.dt.values, initial=0)\n",
    "accel_t.loc[:, \"I2z\"] = scipy.integrate.cumtrapz(accel_t.Iz.values, accel_t.dt.values, initial=0)"
   ],
   "metadata": {
    "collapsed": false,
    "pycharm": {
     "name": "#%%\n"
    }
   }
  },
  {
   "cell_type": "code",
   "execution_count": 72,
   "outputs": [],
   "source": [
    "# t = accel_t.I2x.values, accel_t.I2y.sum(), accel_t.I2z.sum()\n",
    "t = accel_t.values[-1, -3:]"
   ],
   "metadata": {
    "collapsed": false,
    "pycharm": {
     "name": "#%%\n"
    }
   }
  },
  {
   "cell_type": "code",
   "execution_count": 73,
   "outputs": [],
   "source": [
    "gyro_t = gyro_df[(accel_df.timestamp >= start_t) & (accel_df.timestamp <= end_t)]\n",
    "# remove redundant data\n",
    "gyro_t = gyro_t.drop_duplicates(\"timestamp\")\n",
    "# calculating time difference\n",
    "# gyro_t.loc[:, \"dt\"] = np.concatenate([[0], (gyro_t.timestamp.values[1:] - gyro_t.timestamp.values[:-1]) / 1000])\n",
    "gyro_t.loc[:, \"dt\"] = (gyro_t.timestamp.values - gyro_t.timestamp.values[0]) / 1000\n",
    "# remove first row\n",
    "gyro_t = gyro_t.iloc[1:]"
   ],
   "metadata": {
    "collapsed": false,
    "pycharm": {
     "name": "#%%\n"
    }
   }
  },
  {
   "cell_type": "code",
   "execution_count": 74,
   "outputs": [],
   "source": [
    "gyro_t.loc[:, \"Ix\"] = scipy.integrate.cumtrapz(gyro_t.x.values, gyro_t.dt.values, initial=0)\n",
    "gyro_t.loc[:, \"Iy\"] = scipy.integrate.cumtrapz(gyro_t.y.values, gyro_t.dt.values, initial=0)\n",
    "gyro_t.loc[:, \"Iz\"] = scipy.integrate.cumtrapz(gyro_t.z.values, gyro_t.dt.values, initial=0)"
   ],
   "metadata": {
    "collapsed": false,
    "pycharm": {
     "name": "#%%\n"
    }
   }
  },
  {
   "cell_type": "code",
   "execution_count": 75,
   "outputs": [],
   "source": [
    "# R = gyro_t.Ix.sum(), gyro_t.Iy.sum(), gyro_t.Iz.sum()\n",
    "R = gyro_t.values[-1, -3:]"
   ],
   "metadata": {
    "collapsed": false,
    "pycharm": {
     "name": "#%%\n"
    }
   }
  },
  {
   "cell_type": "code",
   "execution_count": 76,
   "outputs": [],
   "source": [
    "T = helpers.rotate_transformation_matrix(np.identity(4), R[0], R[1], R[2])\n",
    "T[:3, 3] = t"
   ],
   "metadata": {
    "collapsed": false,
    "pycharm": {
     "name": "#%%\n"
    }
   }
  },
  {
   "cell_type": "code",
   "execution_count": 77,
   "outputs": [
    {
     "name": "stdout",
     "output_type": "stream",
     "text": [
      "Translation: [-0.01919421  0.00721959  0.02827663]\tRotation: [0.02045962 2.10212987 0.4097772 ]\n"
     ]
    }
   ],
   "source": [
    "print(f\"Translation: {t}\", end=\"\\t\")\n",
    "print(f\"Rotation: {R}\")"
   ],
   "metadata": {
    "collapsed": false,
    "pycharm": {
     "name": "#%%\n"
    }
   }
  },
  {
   "cell_type": "code",
   "execution_count": 78,
   "outputs": [],
   "source": [
    "source = camera.depth_to_point_cloud(os.path.join(sequence_dir, f\"frame-{start_t}.depth.png\"))\n",
    "target = camera.depth_to_point_cloud(os.path.join(sequence_dir, f\"frame-{end_t}.depth.png\"))"
   ],
   "metadata": {
    "collapsed": false,
    "pycharm": {
     "name": "#%%\n"
    }
   }
  },
  {
   "cell_type": "code",
   "execution_count": 79,
   "outputs": [],
   "source": [
    "registration.view(source, target, T)"
   ],
   "metadata": {
    "collapsed": false,
    "pycharm": {
     "name": "#%%\n"
    }
   }
  },
  {
   "cell_type": "code",
   "execution_count": 23,
   "outputs": [],
   "source": [
    "accel_df = accel_df.drop_duplicates(\"timestamp\")"
   ],
   "metadata": {
    "collapsed": false,
    "pycharm": {
     "name": "#%%\n"
    }
   }
  },
  {
   "cell_type": "code",
   "execution_count": 24,
   "outputs": [],
   "source": [
    "samples = accel_df.shape[0]\n",
    "duration = accel_df.timestamp.values[-1] - accel_df.timestamp.values[0]"
   ],
   "metadata": {
    "collapsed": false,
    "pycharm": {
     "name": "#%%\n"
    }
   }
  },
  {
   "cell_type": "code",
   "execution_count": 26,
   "outputs": [
    {
     "data": {
      "text/plain": "401.9453652399042"
     },
     "execution_count": 26,
     "metadata": {},
     "output_type": "execute_result"
    }
   ],
   "source": [
    "samples / duration * 1000"
   ],
   "metadata": {
    "collapsed": false,
    "pycharm": {
     "name": "#%%\n"
    }
   }
  },
  {
   "cell_type": "code",
   "execution_count": null,
   "outputs": [],
   "source": [],
   "metadata": {
    "collapsed": false,
    "pycharm": {
     "name": "#%%\n"
    }
   }
  }
 ],
 "metadata": {
  "kernelspec": {
   "display_name": "Python 3",
   "language": "python",
   "name": "python3"
  },
  "language_info": {
   "codemirror_mode": {
    "name": "ipython",
    "version": 2
   },
   "file_extension": ".py",
   "mimetype": "text/x-python",
   "name": "python",
   "nbconvert_exporter": "python",
   "pygments_lexer": "ipython2",
   "version": "2.7.6"
  }
 },
 "nbformat": 4,
 "nbformat_minor": 0
}