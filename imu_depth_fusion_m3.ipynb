{
 "cells": [
  {
   "cell_type": "code",
   "execution_count": 1,
   "metadata": {},
   "outputs": [
    {
     "name": "stdout",
     "output_type": "stream",
     "text": [
      "Jupyter environment detected. Enabling Open3D WebVisualizer.\n",
      "[Open3D INFO] WebRTC GUI backend enabled.\n",
      "[Open3D INFO] WebRTCWindowSystem: HTTP handshake server disabled.\n"
     ]
    }
   ],
   "source": [
    "import numpy as np\n",
    "import pandas as pd\n",
    "import open3d\n",
    "import os\n",
    "import tqdm\n",
    "import matplotlib.pyplot as plt\n",
    "import utils.helpers as helpers\n",
    "import utils.fread as fread\n",
    "import utils.registration as registration\n",
    "import copy\n",
    "\n",
    "from utils.depth_camera import DepthCamera\n",
    "from utils.config import Config\n",
    "\n",
    "import utils.registration as registration\n",
    "import utils.fread as fread\n",
    "import utils.FCGF as FCGF\n",
    "import utils.helpers as helpers\n",
    "\n",
    "from scipy import signal\n",
    "from scipy.ndimage import gaussian_filter1d\n",
    "from scipy import interpolate"
   ]
  },
  {
   "cell_type": "code",
   "execution_count": 83,
   "metadata": {},
   "outputs": [],
   "source": [
    "config = Config(\n",
    "    sequence_dir=\"data/raw_data\",\n",
    "    feature_dir=\"data/features\",\n",
    "    output_dir=\"data/trajectories/estimated_imu+depth\",\n",
    "    experiment=\"exp_8\",\n",
    "    trial=\"trial_3\",\n",
    "    subject=\"subject-1\",\n",
    "    sequence=\"01\",\n",
    "    groundtruth_dir=\"data/trajectories/groundtruth\",\n",
    "    voxel_size=0.03\n",
    ")"
   ]
  },
  {
   "cell_type": "code",
   "execution_count": 84,
   "metadata": {},
   "outputs": [],
   "source": [
    "pose_file = os.path.join(config.get_groundtruth_dir(), f\"{config.get_file_name()}.pose.npz\")\n",
    "motion_dir = config.get_motion_dir(include_secondary=False)"
   ]
  },
  {
   "cell_type": "code",
   "execution_count": 85,
   "metadata": {},
   "outputs": [
    {
     "name": "stdout",
     "output_type": "stream",
     "text": [
      "Frame rate: 401.49 Hz\n"
     ]
    }
   ],
   "source": [
    "accel_df = pd.read_csv(os.path.join(motion_dir, \"accel.csv\"))\n",
    "gyro_df = pd.read_csv(os.path.join(motion_dir, \"gyro.csv\"))\n",
    "\n",
    "accel_df.drop_duplicates(\"timestamp\", inplace=True)\n",
    "gyro_df.drop_duplicates(\"timestamp\", inplace=True)\n",
    "\n",
    "gravity_df = pd.DataFrame(columns=[\"timestamp\", \"x\", \"y\", \"z\"])\n",
    "\n",
    "imu_df = pd.merge(accel_df, gyro_df, on=\"timestamp\", suffixes=(\"a\", \"g\"))\n",
    "\n",
    "raw_accel_df = imu_df[[\"timestamp\", \"xa\", \"ya\", \"za\"]].copy()\n",
    "\n",
    "frame_rate = accel_df.shape[0] / (accel_df.timestamp.values[-1] - accel_df.timestamp.values[0]) * 1000\n",
    "\n",
    "# compute dt in seconds\n",
    "imu_df.loc[:, \"dt\"] = np.concatenate([[0], (imu_df.timestamp.values[1:] - imu_df.timestamp.values[:-1]) / 1000])\n",
    "# remove first row as the dt is 0\n",
    "imu_df = imu_df.iloc[1:]\n",
    "# reset index in pandas data frame\n",
    "imu_df.reset_index(drop=True, inplace=True)\n",
    "\n",
    "# Fill 0 for displacement, angles, and coordinates\n",
    "imu_df.loc[:, \"x\"] = np.zeros(len(imu_df))\n",
    "imu_df.loc[:, \"y\"] = np.zeros(len(imu_df))\n",
    "imu_df.loc[:, \"z\"] = np.zeros(len(imu_df))\n",
    "\n",
    "print(f\"Frame rate: {frame_rate:.2f} Hz\")"
   ]
  },
  {
   "cell_type": "code",
   "execution_count": 86,
   "metadata": {},
   "outputs": [],
   "source": [
    "# # apply gaussian filter to smooth acceleration and gyro data\n",
    "# imu_df.loc[:, \"xa\"] = gaussian_filter1d(imu_df.xa.values, sigma=10)\n",
    "# imu_df.loc[:, \"ya\"] = gaussian_filter1d(imu_df.ya.values, sigma=10)\n",
    "# imu_df.loc[:, \"za\"] = gaussian_filter1d(imu_df.za.values, sigma=10)\n",
    "# imu_df.loc[:, \"xg\"] = gaussian_filter1d(imu_df.xg.values, sigma=10)\n",
    "# imu_df.loc[:, \"yg\"] = gaussian_filter1d(imu_df.yg.values, sigma=10)\n",
    "# imu_df.loc[:, \"zg\"] = gaussian_filter1d(imu_df.zg.values, sigma=10)"
   ]
  },
  {
   "cell_type": "code",
   "execution_count": 87,
   "metadata": {},
   "outputs": [],
   "source": [
    "win_len = int(frame_rate * 4) # 4 seconds window\n",
    "gravity = imu_df.iloc[:win_len, [1, 2, 3]].mean().values"
   ]
  },
  {
   "cell_type": "code",
   "execution_count": 88,
   "metadata": {},
   "outputs": [],
   "source": [
    "imu_df[[\"xa\", \"ya\", \"za\"]] = imu_df[[\"xa\", \"ya\", \"za\"]] - gravity\n",
    "    \n",
    "accel_mavg = imu_df[[\"xa\", \"ya\", \"za\"]].rolling(window=win_len).mean()\n",
    "accel_mavg.fillna(0, inplace=True)\n",
    "\n",
    "# imu_df[[\"xa\", \"ya\", \"za\"]] = imu_df[[\"xa\", \"ya\", \"za\"]] - accel_mavg\n",
    "\n",
    "imu_df = imu_df.iloc[win_len:]"
   ]
  },
  {
   "cell_type": "code",
   "execution_count": 89,
   "metadata": {},
   "outputs": [
    {
     "name": "stderr",
     "output_type": "stream",
     "text": [
      "100%|██████████| 8431/8431 [00:03<00:00, 2429.39it/s]\n"
     ]
    }
   ],
   "source": [
    "# calculate displacement and rotation\n",
    "imu_df.iloc[0, 8:11] = [0, 0, 0]\n",
    "\n",
    "rotation_matrix = np.identity(4)\n",
    "velocity = [0, 0, 0]\n",
    "\n",
    "for i in tqdm.trange(1, len(imu_df)):\n",
    "    v = imu_df.iloc[i].values\n",
    "    dt = v[7]\n",
    "    \n",
    "    # current displacement and rotation\n",
    "    da = np.degrees([v[j + 4] * dt for j in range(3)])\n",
    "    rotation_matrix = helpers.rotate_transformation_matrix(rotation_matrix, da[0], da[1], da[2])\n",
    "    \n",
    "    acceleration = imu_df.iloc[i, [1, 2, 3]].values\n",
    "\n",
    "    d = [(velocity[j] * dt) + (0.5 * acceleration[j] * dt * dt) for j in range(3)]\n",
    "    d = np.dot(rotation_matrix, np.array([*d, 1]))\n",
    "    \n",
    "    imu_df.iloc[i, 8] = imu_df.iloc[i - 1, 8] + d[0]\n",
    "    imu_df.iloc[i, 9] = imu_df.iloc[i - 1, 9] + d[1]\n",
    "    imu_df.iloc[i, 10] = imu_df.iloc[i - 1, 10] + d[2]\n",
    "    \n",
    "    velocity = [velocity[j] + acceleration[j] * dt for j in range(3)]"
   ]
  },
  {
   "cell_type": "code",
   "execution_count": 90,
   "metadata": {},
   "outputs": [
    {
     "data": {
      "text/plain": [
       "PointCloud with 8432 points."
      ]
     },
     "execution_count": 90,
     "metadata": {},
     "output_type": "execute_result"
    }
   ],
   "source": [
    "estimated_trajectory = helpers.make_pcd(imu_df.loc[:, [\"x\", \"y\", \"z\"]].values)\n",
    "estimated_trajectory.paint_uniform_color([1, 0, 0])"
   ]
  },
  {
   "cell_type": "code",
   "execution_count": 91,
   "metadata": {},
   "outputs": [],
   "source": [
    "depth_camera = DepthCamera(\"secondary\", os.path.join(config.sequence_dir, config.experiment, \"metadata\", \"device-0-aligned.json\"))"
   ]
  },
  {
   "cell_type": "code",
   "execution_count": 92,
   "metadata": {},
   "outputs": [],
   "source": [
    "sequence_ts = fread.get_timstamps_from_images(config.get_sequence_dir(include_secondary=False), ext=\".depth.png\")\n",
    "\n",
    "poses = np.load(pose_file)\n",
    "trajectory_t = poses[\"trajectory_t\"]\n",
    "local_t = poses[\"local_t\"]\n",
    "\n",
    "start_ind = 30 * 5\n",
    "# start_t = helpers.nearest(sequence_ts, imu_df.timestamp.values[0])\n",
    "# start_ind = np.where(sequence_ts == start_t)[0][0]\n",
    "sequence_ts = sequence_ts[start_ind:]\n",
    "trajectory_t = trajectory_t[start_ind:]"
   ]
  },
  {
   "cell_type": "code",
   "execution_count": 93,
   "metadata": {},
   "outputs": [
    {
     "name": "stderr",
     "output_type": "stream",
     "text": [
      "100%|██████████| 466/466 [00:17<00:00, 26.88it/s]\n"
     ]
    }
   ],
   "source": [
    "local_pcds = []\n",
    "\n",
    "for t in tqdm.trange(len(sequence_ts)):\n",
    "    depth_img_file = os.path.join(config.get_sequence_dir(include_secondary=False), f\"frame-{sequence_ts[t]}.depth.png\")\n",
    "    pcd = depth_camera.depth_to_point_cloud(depth_img_file)\n",
    "    pcd = pcd.voxel_down_sample(voxel_size=config.voxel_size)\n",
    "    local_pcds.append(pcd)"
   ]
  },
  {
   "cell_type": "code",
   "execution_count": 94,
   "metadata": {},
   "outputs": [],
   "source": [
    "trajectory_pcd = []\n",
    "\n",
    "for t in range(len(sequence_ts)):\n",
    "    local_pcd_copy = copy.deepcopy(local_pcds[t])\n",
    "    local_pcd_copy.transform(trajectory_t[t])\n",
    "    trajectory_pcd.append(local_pcd_copy)\n",
    "    \n",
    "trajectory_pcd = helpers.merge_pcds(trajectory_pcd, config.voxel_size)\n",
    "\n",
    "open3d.visualization.draw_geometries([trajectory_pcd])"
   ]
  },
  {
   "cell_type": "code",
   "execution_count": 95,
   "metadata": {},
   "outputs": [
    {
     "data": {
      "text/plain": [
       "PointCloud with 316 points."
      ]
     },
     "execution_count": 95,
     "metadata": {},
     "output_type": "execute_result"
    }
   ],
   "source": [
    "gt_xyz = trajectory_t[start_ind:, :3, 3]\n",
    "gt_trajectory = helpers.make_pcd(gt_xyz)\n",
    "gt_trajectory.paint_uniform_color([0, 1, 0])"
   ]
  },
  {
   "cell_type": "code",
   "execution_count": 96,
   "metadata": {},
   "outputs": [
    {
     "name": "stdout",
     "output_type": "stream",
     "text": [
      "GT Distance:  5.514354376025714\n",
      "Estimated Distance:  5.169729637192636\n"
     ]
    }
   ],
   "source": [
    "print(\"GT Distance: \", np.linalg.norm(gt_xyz[-1] - gt_xyz[0]))\n",
    "print(\"Estimated Distance: \", np.linalg.norm(imu_df.loc[:, [\"x\", \"y\", \"z\"]].values[-1] - imu_df.loc[:, [\"x\", \"y\", \"z\"]].values[0]))"
   ]
  },
  {
   "cell_type": "code",
   "execution_count": 97,
   "metadata": {},
   "outputs": [],
   "source": [
    "open3d.visualization.draw_geometries([gt_trajectory, estimated_trajectory])"
   ]
  },
  {
   "cell_type": "code",
   "execution_count": 46,
   "metadata": {},
   "outputs": [],
   "source": [
    "elapsed_time = np.array((sequence_ts - sequence_ts[0]) // 1e3, dtype=np.int32)\n",
    "# calibration_ts = np.argwhere(elapsed_time == 0).flatten()"
   ]
  },
  {
   "cell_type": "code",
   "execution_count": 47,
   "metadata": {},
   "outputs": [],
   "source": [
    "pcd_reg_time = 1 # seconds\n",
    "imu_reg_time = 2 # seconds"
   ]
  },
  {
   "cell_type": "code",
   "execution_count": 15,
   "metadata": {},
   "outputs": [],
   "source": [
    "# template = np.array([[0] * pcd_reg_time + [1] * imu_reg_time])\n",
    "# duration = np.ceil(elapsed_time[-1] / (pcd_reg_time + imu_reg_time)).astype(np.int16) + 1\n",
    "# mapping = np.repeat(template, duration, axis=0).flatten()\n",
    "# pattern = mapping[np.expand_dims(elapsed_time.astype(np.int16), axis=1)].flatten()"
   ]
  },
  {
   "cell_type": "code",
   "execution_count": 48,
   "metadata": {},
   "outputs": [],
   "source": [
    "duration = np.ceil(elapsed_time[-1] / (pcd_reg_time + imu_reg_time)).astype(np.int16) + 1\n",
    "pcd_start_ids = np.arange(duration) * (pcd_reg_time + imu_reg_time)\n",
    "imu_start_ids = pcd_start_ids + pcd_reg_time"
   ]
  },
  {
   "cell_type": "code",
   "execution_count": 49,
   "metadata": {},
   "outputs": [],
   "source": [
    "pcd_inds = np.concatenate([np.expand_dims(pcd_start_ids, axis=1), np.expand_dims(imu_start_ids, axis=1)], axis=1)\n",
    "imu_inds = np.concatenate([np.expand_dims(imu_start_ids[:-1], axis=1), np.expand_dims(pcd_start_ids[1:], axis=1)], axis=1)\n",
    "\n",
    "inds = np.concatenate([pcd_inds[:-1], imu_inds], axis=1)"
   ]
  },
  {
   "cell_type": "code",
   "execution_count": 50,
   "metadata": {},
   "outputs": [],
   "source": [
    "# find first indices of each second\n",
    "elapsed_time_inds = np.argwhere(np.diff(elapsed_time)).flatten() + 1\n",
    "# add zero to the beginning\n",
    "elapsed_time_inds = np.concatenate([[0], elapsed_time_inds])"
   ]
  },
  {
   "cell_type": "code",
   "execution_count": 110,
   "metadata": {},
   "outputs": [],
   "source": [
    "start_pcd_t, end_pcd_t, start_imu_t, end_imu_t = inds[0]"
   ]
  },
  {
   "cell_type": "code",
   "execution_count": 18,
   "metadata": {},
   "outputs": [],
   "source": [
    "calibration_ts = np.arange(elapsed_time_inds[start_pcd_t], elapsed_time_inds[end_pcd_t])\n",
    "imu_sequence_ts = np.arange(elapsed_time_inds[start_imu_t], elapsed_time_inds[end_imu_t])"
   ]
  },
  {
   "cell_type": "code",
   "execution_count": null,
   "metadata": {},
   "outputs": [],
   "source": [
    "# velocity\n",
    "velocities = np.diff(gt_xyz[calibration_ts], axis=0) * 1e3 / np.diff(sequence_ts[calibration_ts]).reshape(-1, 1)\n",
    "linear_acceleration = np.diff(velocities, axis=0) * 1e3 / np.diff(sequence_ts[calibration_ts][1:]).reshape(-1, 1)"
   ]
  },
  {
   "cell_type": "code",
   "execution_count": null,
   "metadata": {},
   "outputs": [],
   "source": [
    "calibration_imu_df = imu_df[(imu_df.timestamp >= sequence_ts[calibration_ts[2]]) & (imu_df.timestamp <= sequence_ts[calibration_ts[-1]])].copy()"
   ]
  },
  {
   "cell_type": "code",
   "execution_count": null,
   "metadata": {},
   "outputs": [],
   "source": [
    "rotation_matrices = trajectory_t[start_ind:, :3, :3][calibration_ts]\n",
    "\n",
    "euler_angles = np.array([helpers.rotation_matrix_to_euler_angles(R) for R in rotation_matrices])\n",
    "angular_velocity = np.diff(euler_angles, axis=0) * 1e3 / np.diff(sequence_ts[calibration_ts]).reshape(-1, 1)\n",
    "\n",
    "resampled_angular_velocity = []\n",
    "resampled_angular_velocity.append(interpolate.interp1d(sequence_ts[calibration_ts][1:], angular_velocity[:, 0], kind=\"cubic\")(calibration_imu_df.timestamp.values))\n",
    "resampled_angular_velocity.append(interpolate.interp1d(sequence_ts[calibration_ts][1:], angular_velocity[:, 1], kind=\"cubic\")(calibration_imu_df.timestamp.values))\n",
    "resampled_angular_velocity.append(interpolate.interp1d(sequence_ts[calibration_ts][1:], angular_velocity[:, 2], kind=\"cubic\")(calibration_imu_df.timestamp.values))\n",
    "\n",
    "resampled_angular_velocity = np.array(resampled_angular_velocity).T"
   ]
  },
  {
   "cell_type": "code",
   "execution_count": null,
   "metadata": {},
   "outputs": [],
   "source": [
    "fig, axs = plt.subplots(3, 1, figsize=(10, 5), sharex=True)\n",
    "\n",
    "calibration_imu_df.plot(x=\"timestamp\", y=\"xg\", ax=axs[0], label=\"imu\")\n",
    "axs[0].plot(calibration_imu_df.timestamp.values, resampled_angular_velocity[:, 0], label=\"pcd\")\n",
    "axs[0].legend()\n",
    "\n",
    "calibration_imu_df.plot(x=\"timestamp\", y=\"yg\", ax=axs[1], label=\"imu\")\n",
    "axs[1].plot(calibration_imu_df.timestamp.values, resampled_angular_velocity[:, 1], label=\"pcd\")\n",
    "axs[1].legend()\n",
    "\n",
    "calibration_imu_df.plot(x=\"timestamp\", y=\"zg\", ax=axs[2], label=\"imu\")\n",
    "axs[2].plot(calibration_imu_df.timestamp.values, resampled_angular_velocity[:, 2], label=\"pcd\")\n",
    "axs[2].legend()"
   ]
  },
  {
   "cell_type": "code",
   "execution_count": null,
   "metadata": {},
   "outputs": [],
   "source": [
    "corr = np.correlate(calibration_imu_df.zg.values, resampled_angular_velocity[:, 2], mode='full')\n",
    "shifts = np.arange(-calibration_imu_df.shape[0] + 1, calibration_imu_df.shape[0])  # All possible shifts\n",
    "\n",
    "plt.plot(shifts, corr)\n",
    "plt.xlabel('Shift')\n",
    "plt.ylabel('Cross-correlation')\n",
    "plt.show()"
   ]
  },
  {
   "cell_type": "code",
   "execution_count": null,
   "metadata": {},
   "outputs": [],
   "source": [
    "delta = (np.argmax(corr) - calibration_imu_df.shape[0] + 1) * 1000 / frame_rate\n",
    "print(f\"Time shift: {delta} ms\")"
   ]
  },
  {
   "cell_type": "code",
   "execution_count": null,
   "metadata": {},
   "outputs": [],
   "source": [
    "fig, axs = plt.subplots(3, 1, figsize=(10, 5), sharex=True)\n",
    "\n",
    "calibration_imu_df.plot(x=\"timestamp\", y=\"xg\", ax=axs[0], label=\"imu\")\n",
    "axs[0].plot(calibration_imu_df.timestamp.values + delta, resampled_angular_velocity[:, 0], label=\"pcd\")\n",
    "axs[0].legend()\n",
    "\n",
    "calibration_imu_df.plot(x=\"timestamp\", y=\"yg\", ax=axs[1], label=\"imu\")\n",
    "axs[1].plot(calibration_imu_df.timestamp.values + delta, resampled_angular_velocity[:, 1], label=\"pcd\")\n",
    "axs[1].legend()\n",
    "\n",
    "calibration_imu_df.plot(x=\"timestamp\", y=\"zg\", ax=axs[2], label=\"imu\")\n",
    "axs[2].plot(calibration_imu_df.timestamp.values + delta, resampled_angular_velocity[:, 2], label=\"pcd\")\n",
    "axs[2].legend()"
   ]
  },
  {
   "cell_type": "code",
   "execution_count": null,
   "metadata": {},
   "outputs": [],
   "source": [
    "gyro_bias = resampled_angular_velocity.mean(axis=0) - calibration_imu_df.loc[:, [\"xg\", \"yg\", \"zg\"]].values.mean(axis=0)"
   ]
  },
  {
   "cell_type": "code",
   "execution_count": null,
   "metadata": {},
   "outputs": [],
   "source": [
    "fig, axs = plt.subplots(3, 1, figsize=(10, 5), sharex=True)\n",
    "\n",
    "calibration_imu_df.plot(x=\"timestamp\", y=\"xa\", ax=axs[0], label=\"imu\")\n",
    "axs[0].plot(sequence_ts[calibration_ts][2:] + delta, linear_acceleration[:, 0], label=\"pcd\")\n",
    "axs[0].set_title(\"X axis\")\n",
    "axs[0].legend()\n",
    "\n",
    "calibration_imu_df.plot(x=\"timestamp\", y=\"ya\", ax=axs[1], label=\"imu\")\n",
    "axs[1].plot(sequence_ts[calibration_ts][2:] + delta, linear_acceleration[:, 1], label=\"pcd\")\n",
    "axs[1].set_title(\"Y axis\")\n",
    "axs[1].legend()\n",
    "\n",
    "calibration_imu_df.plot(x=\"timestamp\", y=\"za\", ax=axs[2], label=\"imu\")\n",
    "axs[2].plot(sequence_ts[calibration_ts][2:] + delta, linear_acceleration[:, 2], label=\"pcd\")\n",
    "axs[2].set_title(\"Z axis\")\n",
    "axs[2].legend()"
   ]
  },
  {
   "cell_type": "code",
   "execution_count": null,
   "metadata": {},
   "outputs": [],
   "source": [
    "start_t = calibration_ts[-2] \n",
    "end_t = calibration_ts[-1]\n",
    "\n",
    "source = copy.deepcopy(local_pcds[end_t])\n",
    "target = copy.deepcopy(local_pcds[start_t])\n",
    "\n",
    "source.paint_uniform_color([1, 0.706, 0])\n",
    "target.paint_uniform_color([0, 0.651, 0.929])\n",
    "\n",
    "gt_transform = np.dot(helpers.inv_transform(trajectory_t[start_t]), trajectory_t[end_t])\n",
    "\n",
    "velocity = gt_transform[:3, 3] * 1e3 / (sequence_ts[end_t] - sequence_ts[start_t])\n",
    "print(f\"dt={sequence_ts[end_t] - sequence_ts[start_t]:.2f} ms, velocity={velocity}\")"
   ]
  },
  {
   "cell_type": "code",
   "execution_count": null,
   "metadata": {},
   "outputs": [],
   "source": [
    "# calculate displacement and rotation\n",
    "# rotation_matrix = trajectory_t[end_t]\n",
    "# translation = trajectory_t[end_t, :3, 3]\n",
    "\n",
    "rotation_matrix = np.identity(4)\n",
    "# rotation_matrix[:3, :3] = trajectory_t[end_t, :3, :3]\n",
    "translation = np.zeros(3)\n",
    "\n",
    "start_t = start_t + 1\n",
    "end_t = elapsed_time_inds[end_imu_t]\n",
    "\n",
    "imu_slice_df = imu_df[(imu_df.timestamp >= sequence_ts[start_t] + delta) & (imu_df.timestamp <= sequence_ts[end_t] + delta)].copy()\n",
    "\n",
    "for i in tqdm.tqdm(range(1, len(imu_slice_df))):\n",
    "    v = imu_slice_df.iloc[i].values\n",
    "    \n",
    "    dt = v[7]\n",
    "    \n",
    "    # current displacement and rotation\n",
    "    da = np.degrees([(v[j + 4] + gyro_bias[j]) * dt for j in range(3)])\n",
    "    \n",
    "    acceleration = imu_slice_df.iloc[i, [1, 2, 3]].values\n",
    "\n",
    "    d = [(velocity[j] * dt) + (0.5 * acceleration[j] * dt * dt) for j in range(3)]\n",
    "    d = np.dot(rotation_matrix, np.array([*d, 1]))\n",
    "    \n",
    "    translation = translation + d[:3]\n",
    "    \n",
    "    imu_slice_df.iloc[i, 8:] = translation\n",
    "    \n",
    "    velocity = [velocity[j] + acceleration[j] * dt for j in range(3)]\n",
    "    \n",
    "    rotation_matrix = helpers.rotate_transformation_matrix(rotation_matrix, da[0], da[1], da[2])"
   ]
  },
  {
   "cell_type": "code",
   "execution_count": null,
   "metadata": {},
   "outputs": [],
   "source": [
    "# trans_mat = np.identity(4)\n",
    "# trans_mat[:3, 3] = translation\n",
    "# trans_mat[:3, :3] = rotation_matrix[:3, :3]\n",
    "\n",
    "# source = copy.deepcopy(local_pcds[end_t])\n",
    "# target = copy.deepcopy(local_pcds[start_t])\n",
    "\n",
    "# source.paint_uniform_color([1, 0.706, 0])\n",
    "# target.paint_uniform_color([0, 0.651, 0.929])\n",
    "\n",
    "# refined_transform = registration.icp_refinement(source, target, 0.05, trans_init=trans_mat, max_iteration=500)\n",
    "\n",
    "# registration.view(source, target, trans_mat)"
   ]
  },
  {
   "cell_type": "code",
   "execution_count": null,
   "metadata": {},
   "outputs": [],
   "source": [
    "imu_slice = helpers.make_pcd(imu_slice_df[[\"x\", \"y\", \"z\"]].values)\n",
    "gt_slice = helpers.make_pcd(trajectory_t[start_t:end_t, :3, 3])\n",
    "\n",
    "imu_slice.paint_uniform_color([1, 0.706, 0])\n",
    "gt_slice.paint_uniform_color([0, 0.651, 0.929])\n",
    "\n",
    "imu_slice.transform(trajectory_t[calibration_ts[-1]])"
   ]
  },
  {
   "attachments": {},
   "cell_type": "markdown",
   "metadata": {},
   "source": [
    "looping algorithm"
   ]
  },
  {
   "cell_type": "code",
   "execution_count": null,
   "metadata": {},
   "outputs": [],
   "source": [
    "# first iteration calulcate the time shift\n",
    "start_pcd_t, end_pcd_t, start_imu_t, end_imu_t = inds[0]\n",
    "\n",
    "calibration_ts = np.arange(elapsed_time_inds[start_pcd_t], elapsed_time_inds[end_pcd_t])\n",
    "imu_sequence_ts = np.arange(elapsed_time_inds[start_imu_t], elapsed_time_inds[end_imu_t])\n",
    "\n",
    "velocities = np.diff(gt_xyz[calibration_ts], axis=0) * 1e3 / np.diff(sequence_ts[calibration_ts]).reshape(-1, 1)\n",
    "linear_acceleration = np.diff(velocities, axis=0) * 1e3 / np.diff(sequence_ts[calibration_ts][1:]).reshape(-1, 1)\n",
    "\n",
    "calibration_imu_df = imu_df[(imu_df.timestamp >= sequence_ts[calibration_ts[2]]) & (imu_df.timestamp <= sequence_ts[calibration_ts[-1]])].copy()\n",
    "\n",
    "rotation_matrices = trajectory_t[start_ind:, :3, :3][calibration_ts]\n",
    "\n",
    "euler_angles = np.array([helpers.rotation_matrix_to_euler_angles(R) for R in rotation_matrices])\n",
    "angular_velocity = np.diff(euler_angles, axis=0) * 1e3 / np.diff(sequence_ts[calibration_ts]).reshape(-1, 1)\n",
    "\n",
    "resampled_angular_velocity = []\n",
    "resampled_angular_velocity.append(interpolate.interp1d(sequence_ts[calibration_ts][1:], angular_velocity[:, 0], kind=\"cubic\")(calibration_imu_df.timestamp.values))\n",
    "resampled_angular_velocity.append(interpolate.interp1d(sequence_ts[calibration_ts][1:], angular_velocity[:, 1], kind=\"cubic\")(calibration_imu_df.timestamp.values))\n",
    "resampled_angular_velocity.append(interpolate.interp1d(sequence_ts[calibration_ts][1:], angular_velocity[:, 2], kind=\"cubic\")(calibration_imu_df.timestamp.values))\n",
    "\n",
    "resampled_angular_velocity = np.array(resampled_angular_velocity).T\n",
    "\n",
    "corr = np.correlate(calibration_imu_df.xg.values, resampled_angular_velocity[:, 0], mode='full')\n",
    "\n",
    "delta = (np.argmax(corr) - calibration_imu_df.shape[0] + 1) * 1000 / frame_rate\n",
    "print(f\"Time shift: {delta} ms\")\n",
    "\n",
    "calibration_imu_df = imu_df[(imu_df.timestamp >= sequence_ts[calibration_ts[2]] + delta) & (imu_df.timestamp <= sequence_ts[calibration_ts[-1]] + delta)].copy()\n",
    "\n",
    "resampled_angular_velocity = []\n",
    "resampled_angular_velocity.append(interpolate.interp1d(sequence_ts[calibration_ts][1:] + delta, angular_velocity[:, 0], kind=\"cubic\")(calibration_imu_df.timestamp.values))\n",
    "resampled_angular_velocity.append(interpolate.interp1d(sequence_ts[calibration_ts][1:] + delta, angular_velocity[:, 1], kind=\"cubic\")(calibration_imu_df.timestamp.values))\n",
    "resampled_angular_velocity.append(interpolate.interp1d(sequence_ts[calibration_ts][1:] + delta, angular_velocity[:, 2], kind=\"cubic\")(calibration_imu_df.timestamp.values))\n",
    "resampled_angular_velocity = np.array(resampled_angular_velocity).T\n",
    "\n",
    "gyro_bias = resampled_angular_velocity.mean(axis=0) - calibration_imu_df.loc[:, [\"xg\", \"yg\", \"zg\"]].values.mean(axis=0)\n",
    "\n",
    "start_t = calibration_ts[-2] \n",
    "end_t = calibration_ts[-1]\n",
    "\n",
    "gt_transform = np.dot(helpers.inv_transform(trajectory_t[start_t]), trajectory_t[end_t])\n",
    "\n",
    "velocity = gt_transform[:3, 3] * 1e3 / (sequence_ts[end_t] - sequence_ts[start_t])\n",
    "print(f\"dt={sequence_ts[end_t] - sequence_ts[start_t]:.2f} ms, velocity={velocity}\")\n",
    "\n",
    "# calculate displacement and rotation\n",
    "rotation_matrix = np.identity(4)\n",
    "translation = np.zeros(3)\n",
    "\n",
    "start_t = start_t + 1\n",
    "end_t = elapsed_time_inds[end_imu_t]\n",
    "\n",
    "imu_slice_df = imu_df[(imu_df.timestamp >= sequence_ts[start_t] + delta) & (imu_df.timestamp <= sequence_ts[end_t] + delta)].copy()\n",
    "\n",
    "for i in range(1, len(imu_slice_df)):\n",
    "    v = imu_slice_df.iloc[i].values\n",
    "    \n",
    "    dt = v[7]\n",
    "    \n",
    "    # current displacement and rotation\n",
    "    da = np.degrees([(v[j + 4] - gyro_bias[j]) * dt for j in range(3)])\n",
    "    \n",
    "    acceleration = imu_slice_df.iloc[i, [1, 2, 3]].values\n",
    "\n",
    "    d = [(velocity[j] * dt) + (0.5 * acceleration[j] * dt * dt) for j in range(3)]\n",
    "    d = np.dot(rotation_matrix, np.array([*d, 1]))\n",
    "    \n",
    "    translation = translation + d[:3]\n",
    "    \n",
    "    imu_slice_df.iloc[i, 8:] = translation\n",
    "    \n",
    "    velocity = [velocity[j] + acceleration[j] * dt for j in range(3)]\n",
    "    \n",
    "    rotation_matrix = helpers.rotate_transformation_matrix(rotation_matrix, da[0], da[1], da[2])\n",
    "    \n",
    "imu_slice = helpers.make_pcd(imu_slice_df[[\"x\", \"y\", \"z\"]].values)\n",
    "gt_slice = helpers.make_pcd(trajectory_t[start_pcd_t:end_t, :3, 3])\n",
    "\n",
    "imu_slice.paint_uniform_color([1, 0.706, 0])\n",
    "gt_slice.paint_uniform_color([0, 0.651, 0.929])\n",
    "\n",
    "imu_slice.transform(trajectory_t[calibration_ts[-1]])"
   ]
  },
  {
   "cell_type": "code",
   "execution_count": null,
   "metadata": {},
   "outputs": [],
   "source": [
    "open3d.visualization.draw_geometries([gt_slice, imu_slice])"
   ]
  },
  {
   "cell_type": "code",
   "execution_count": 66,
   "metadata": {},
   "outputs": [],
   "source": [
    "trajectory_complete = open3d.geometry.PointCloud()\n",
    "prev_transformation_mat = np.identity(4)\n",
    "trajectory_df = pd.DataFrame(columns=[\"timestamp\", \"x\", \"y\", \"z\"])\n",
    "\n",
    "for i in range(len(inds) - 1):\n",
    "\n",
    "    # first iteration calulcate the time shift\n",
    "    start_pcd_t, end_pcd_t, start_imu_t, end_imu_t = inds[i]\n",
    "\n",
    "    calibration_ts = np.arange(elapsed_time_inds[start_pcd_t], elapsed_time_inds[end_pcd_t])\n",
    "    calibration_imu_df = imu_df[(imu_df.timestamp >= sequence_ts[calibration_ts[2]]) & (imu_df.timestamp <= sequence_ts[calibration_ts[-1]])].copy()\n",
    "\n",
    "    start_t = calibration_ts[-2] \n",
    "    end_t = calibration_ts[-1]\n",
    "\n",
    "    gt_transform = np.dot(helpers.inv_transform(trajectory_t[start_t]), trajectory_t[end_t])\n",
    "\n",
    "    velocity = gt_transform[:3, 3] * 1e3 / (sequence_ts[end_t] - sequence_ts[start_t])\n",
    "\n",
    "    # calculate displacement and rotation\n",
    "    rotation_matrix = np.identity(4)\n",
    "    translation = np.zeros(3)\n",
    "\n",
    "    start_t = start_t + 1\n",
    "    end_t = elapsed_time_inds[end_imu_t]\n",
    "\n",
    "    imu_slice_df = imu_df[(imu_df.timestamp >= sequence_ts[start_t]) & (imu_df.timestamp <= sequence_ts[end_t])].copy()\n",
    "\n",
    "    for i in range(1, len(imu_slice_df)):\n",
    "        v = imu_slice_df.iloc[i].values\n",
    "        \n",
    "        dt = v[7]\n",
    "        \n",
    "        # current displacement and rotation\n",
    "        da = np.degrees([v[j + 4]* dt for j in range(3)])\n",
    "        \n",
    "        acceleration = imu_slice_df.iloc[i, [1, 2, 3]].values\n",
    "\n",
    "        d = [(velocity[j] * dt) + (0.5 * acceleration[j] * dt * dt) for j in range(3)]\n",
    "        d = np.dot(rotation_matrix, np.array([*d, 1]))\n",
    "        \n",
    "        translation = translation + d[:3]\n",
    "        \n",
    "        imu_slice_df.iloc[i, 8:] = translation\n",
    "        \n",
    "        velocity = [velocity[j] + acceleration[j] * dt for j in range(3)]\n",
    "        \n",
    "        rotation_matrix = helpers.rotate_transformation_matrix(rotation_matrix, da[0], da[1], da[2])\n",
    "        \n",
    "    # imu_slice = helpers.make_pcd(imu_slice_df[[\"x\", \"y\", \"z\"]].values)\n",
    "    # gt_slice = helpers.make_pcd(trajectory_t[start_pcd_t:start_imu_t, :3, 3])\n",
    "\n",
    "    # imu_slice.paint_uniform_color([1, 0.706, 0])\n",
    "    # gt_slice.paint_uniform_color([0, 0.651, 0.929])\n",
    "\n",
    "    # imu_slice.transform(trajectory_t[calibration_ts[-1]])\n",
    "    \n",
    "    imu_slice = helpers.make_pcd(imu_slice_df[[\"x\", \"y\", \"z\"]].values)\n",
    "    gt_slice = helpers.make_pcd(trajectory_t[elapsed_time_inds[start_pcd_t]:elapsed_time_inds[start_imu_t], :3, 3])\n",
    "\n",
    "    imu_slice.paint_uniform_color([1, 0.706, 0])\n",
    "    gt_slice.paint_uniform_color([0, 0.651, 0.929])\n",
    "\n",
    "    imu_slice.transform(trajectory_t[calibration_ts[-1]])\n",
    "    # for next iteration\n",
    "    rotation_matrix[:3, 3] = translation\n",
    "    rotation_matrix = np.dot(trajectory_t[calibration_ts[-1]], rotation_matrix)\n",
    "    rotation_matrix = np.dot(helpers.inv_transform(trajectory_t[calibration_ts[0]]), rotation_matrix)\n",
    "    \n",
    "    trajectory = gt_slice + imu_slice\n",
    "    trajectory.transform(helpers.inv_transform(trajectory_t[calibration_ts[0]]))\n",
    "    \n",
    "    trajectory.transform(prev_transformation_mat)\n",
    "    \n",
    "    timestamps = np.concatenate((sequence_ts[elapsed_time_inds[start_pcd_t]:elapsed_time_inds[start_imu_t]], imu_slice_df.timestamp.values))\n",
    "    data = np.concatenate((timestamps.reshape(-1, 1), np.asarray(trajectory.points)), axis=1)\n",
    "\n",
    "    trajectory_df = pd.concat([trajectory_df, pd.DataFrame(data, columns=[\"timestamp\", \"x\", \"y\", \"z\"])])\n",
    "    \n",
    "    prev_transformation_mat = np.dot(prev_transformation_mat, rotation_matrix)\n",
    "        \n",
    "    trajectory_complete += trajectory\n",
    "    \n",
    "    # open3d.visualization.draw_geometries([trajectory])"
   ]
  },
  {
   "cell_type": "code",
   "execution_count": 52,
   "metadata": {},
   "outputs": [],
   "source": [
    "gt_trajectory = helpers.make_pcd(trajectory_t[elapsed_time_inds[0]:elapsed_time_inds[end_imu_t], :3, 3])\n",
    "gt_trajectory.transform(helpers.inv_transform(trajectory_t[elapsed_time_inds[0]]))\n",
    "\n",
    "timestamps = sequence_ts[elapsed_time_inds[0]:elapsed_time_inds[end_imu_t]]\n",
    "xyz = np.asarray(gt_trajectory.points)\n",
    "\n",
    "gt_trajectory_df = pd.DataFrame(np.concatenate((timestamps.reshape(-1, 1), xyz), axis=1), columns=[\"timestamp\", \"x\", \"y\", \"z\"])"
   ]
  },
  {
   "cell_type": "code",
   "execution_count": 82,
   "metadata": {},
   "outputs": [],
   "source": [
    "open3d.visualization.draw_geometries([trajectory_complete, gt_trajectory])"
   ]
  },
  {
   "cell_type": "code",
   "execution_count": 54,
   "metadata": {},
   "outputs": [],
   "source": [
    "closest_timestamps = np.array([helpers.nearest(trajectory_df.timestamp.values, t) for t in gt_trajectory_df.timestamp.values], dtype=np.int64)"
   ]
  },
  {
   "cell_type": "code",
   "execution_count": 79,
   "metadata": {},
   "outputs": [],
   "source": [
    "trajectory_df = trajectory_df[trajectory_df.timestamp.isin(closest_timestamps)].drop_duplicates(\"timestamp\")"
   ]
  },
  {
   "cell_type": "code",
   "execution_count": 80,
   "metadata": {},
   "outputs": [],
   "source": [
    "average_distance_error = np.mean(np.linalg.norm(trajectory_df[[\"x\", \"y\", \"z\"]].values - gt_trajectory_df[[\"x\", \"y\", \"z\"]].values, axis=1))"
   ]
  },
  {
   "cell_type": "code",
   "execution_count": 81,
   "metadata": {},
   "outputs": [
    {
     "data": {
      "text/plain": [
       "0.361772555395381"
      ]
     },
     "execution_count": 81,
     "metadata": {},
     "output_type": "execute_result"
    }
   ],
   "source": [
    "average_distance_error"
   ]
  },
  {
   "cell_type": "code",
   "execution_count": null,
   "metadata": {},
   "outputs": [],
   "source": []
  }
 ],
 "metadata": {
  "kernelspec": {
   "display_name": "Python 3",
   "language": "python",
   "name": "python3"
  },
  "language_info": {
   "codemirror_mode": {
    "name": "ipython",
    "version": 3
   },
   "file_extension": ".py",
   "mimetype": "text/x-python",
   "name": "python",
   "nbconvert_exporter": "python",
   "pygments_lexer": "ipython3",
   "version": "3.9.15"
  },
  "orig_nbformat": 4,
  "vscode": {
   "interpreter": {
    "hash": "0867b0a0ec4aa79c375d84191bb807ed1d4e37587ac53650fe54c5bacc252e88"
   }
  }
 },
 "nbformat": 4,
 "nbformat_minor": 2
}
