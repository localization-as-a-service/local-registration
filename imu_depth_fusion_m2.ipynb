{
 "cells": [
  {
   "cell_type": "code",
   "execution_count": 1,
   "metadata": {},
   "outputs": [
    {
     "name": "stdout",
     "output_type": "stream",
     "text": [
      "Jupyter environment detected. Enabling Open3D WebVisualizer.\n",
      "[Open3D INFO] WebRTC GUI backend enabled.\n",
      "[Open3D INFO] WebRTCWindowSystem: HTTP handshake server disabled.\n"
     ]
    }
   ],
   "source": [
    "import numpy as np\n",
    "import pandas as pd\n",
    "import open3d\n",
    "import os\n",
    "import tqdm\n",
    "import matplotlib.pyplot as plt\n",
    "import utils.helpers as helpers\n",
    "import utils.fread as fread\n",
    "import utils.registration as registration\n",
    "import copy\n",
    "\n",
    "from utils.depth_camera import DepthCamera\n",
    "from utils.config import Config\n",
    "\n",
    "import utils.registration as registration\n",
    "import utils.fread as fread\n",
    "import utils.FCGF as FCGF\n",
    "import utils.helpers as helpers\n",
    "\n",
    "from scipy import signal\n",
    "from scipy.ndimage import gaussian_filter1d\n",
    "from scipy import interpolate"
   ]
  },
  {
   "cell_type": "code",
   "execution_count": 2,
   "metadata": {},
   "outputs": [],
   "source": [
    "config = Config(\n",
    "    sequence_dir=\"data/raw_data\",\n",
    "    feature_dir=\"data/features\",\n",
    "    output_dir=\"data/trajectories/estimated_imu+depth\",\n",
    "    experiment=\"exp_8\",\n",
    "    trial=\"trial_2\",\n",
    "    subject=\"subject-1\",\n",
    "    sequence=\"02\",\n",
    "    groundtruth_dir=\"data/trajectories/groundtruth\",\n",
    "    voxel_size=0.03\n",
    ")"
   ]
  },
  {
   "cell_type": "code",
   "execution_count": 3,
   "metadata": {},
   "outputs": [],
   "source": [
    "pose_file = os.path.join(config.get_groundtruth_dir(), f\"{config.get_file_name()}.pose.npz\")\n",
    "motion_dir = config.get_motion_dir(include_secondary=False)"
   ]
  },
  {
   "cell_type": "code",
   "execution_count": 4,
   "metadata": {},
   "outputs": [
    {
     "name": "stdout",
     "output_type": "stream",
     "text": [
      "Frame rate: 400.91 Hz\n",
      "Window length: 1603 frames\n"
     ]
    }
   ],
   "source": [
    "accel_df = pd.read_csv(os.path.join(motion_dir, \"accel.csv\"))\n",
    "gyro_df = pd.read_csv(os.path.join(motion_dir, \"gyro.csv\"))\n",
    "\n",
    "accel_df.drop_duplicates(\"timestamp\", inplace=True)\n",
    "gyro_df.drop_duplicates(\"timestamp\", inplace=True)\n",
    "\n",
    "gravity_df = pd.DataFrame(columns=[\"timestamp\", \"x\", \"y\", \"z\"])\n",
    "\n",
    "imu_df = pd.merge(accel_df, gyro_df, on=\"timestamp\", suffixes=(\"a\", \"g\"))\n",
    "\n",
    "raw_accel_df = imu_df[[\"timestamp\", \"xa\", \"ya\", \"za\"]].copy()\n",
    "\n",
    "frame_rate = accel_df.shape[0] / (accel_df.timestamp.values[-1] - accel_df.timestamp.values[0]) * 1000\n",
    "\n",
    "win_len = int(frame_rate * 4) # 4 seconds window\n",
    "\n",
    "gravity = imu_df.iloc[:win_len, [1, 2, 3]].mean().values\n",
    "# compute dt in seconds\n",
    "imu_df.loc[:, \"dt\"] = np.concatenate([[0], (imu_df.timestamp.values[1:] - imu_df.timestamp.values[:-1]) / 1000])\n",
    "# remove first row as the dt is 0\n",
    "imu_df = imu_df.iloc[1:]\n",
    "# reset index in pandas data frame\n",
    "imu_df.reset_index(drop=True, inplace=True)\n",
    "\n",
    "# Fill 0 for displacement, angles, and coordinates\n",
    "imu_df.loc[:, \"x\"] = np.zeros(len(imu_df))\n",
    "imu_df.loc[:, \"y\"] = np.zeros(len(imu_df))\n",
    "imu_df.loc[:, \"z\"] = np.zeros(len(imu_df))\n",
    "\n",
    "print(f\"Frame rate: {frame_rate:.2f} Hz\")\n",
    "print(f\"Window length: {win_len} frames\")"
   ]
  },
  {
   "cell_type": "code",
   "execution_count": 5,
   "metadata": {},
   "outputs": [],
   "source": [
    "# apply gaussian filter to smooth acceleration and gyro data\n",
    "imu_df.loc[:, \"xa\"] = gaussian_filter1d(imu_df.xa.values, sigma=10)\n",
    "imu_df.loc[:, \"ya\"] = gaussian_filter1d(imu_df.ya.values, sigma=10)\n",
    "imu_df.loc[:, \"za\"] = gaussian_filter1d(imu_df.za.values, sigma=10)\n",
    "imu_df.loc[:, \"xg\"] = gaussian_filter1d(imu_df.xg.values, sigma=10)\n",
    "imu_df.loc[:, \"yg\"] = gaussian_filter1d(imu_df.yg.values, sigma=10)\n",
    "imu_df.loc[:, \"zg\"] = gaussian_filter1d(imu_df.zg.values, sigma=10)"
   ]
  },
  {
   "cell_type": "code",
   "execution_count": null,
   "metadata": {},
   "outputs": [],
   "source": [
    "# # calculate displacement and rotation\n",
    "# rotation_matrix = np.identity(4)\n",
    "# velocity = [0, 0, 0]\n",
    "\n",
    "# for i in tqdm.tqdm(range(1, len(imu_df))):\n",
    "#     v = imu_df.iloc[i].values\n",
    "#     da = np.degrees([v[j + 4] * v[7] for j in range(3)])\n",
    "    \n",
    "#     acceleration = imu_df.iloc[i, [1, 2, 3]].values\n",
    "#     gravity_rotated = np.dot(rotation_matrix, np.array([*gravity, 1]))\n",
    "#     acceleration = acceleration - gravity_rotated[:3]\n",
    "    \n",
    "#     imu_df.iloc[i, 1] = acceleration[0]\n",
    "#     imu_df.iloc[i, 2] = acceleration[1]\n",
    "#     imu_df.iloc[i, 3] = acceleration[2]\n",
    "    \n",
    "#     # rotation_matrix = helpers.rotate_transformation_matrix(rotation_matrix, da[0], da[1], da[2])\n",
    "\n",
    "# accel_mavg = imu_df[[\"xa\", \"ya\", \"za\"]].rolling(window=win_len).mean()\n",
    "# accel_mavg.fillna(0, inplace=True)\n",
    "\n",
    "# imu_df[[\"xa\", \"ya\", \"za\"]] = imu_df[[\"xa\", \"ya\", \"za\"]] - accel_mavg"
   ]
  },
  {
   "cell_type": "code",
   "execution_count": null,
   "metadata": {},
   "outputs": [],
   "source": [
    "# imu_df = imu_df.iloc[win_len:]"
   ]
  },
  {
   "cell_type": "code",
   "execution_count": null,
   "metadata": {},
   "outputs": [],
   "source": [
    "# # calculate displacement and rotation\n",
    "# rotation_matrix = np.identity(4)\n",
    "\n",
    "# velocity = [0, 0, 0]\n",
    "\n",
    "# for i in tqdm.tqdm(range(1, len(imu_df))):\n",
    "#     v = imu_df.iloc[i].values\n",
    "    \n",
    "#     dt = v[7]\n",
    "    \n",
    "#     # current displacement and rotation\n",
    "#     da = np.degrees([v[j + 4] * dt for j in range(3)])\n",
    "    \n",
    "#     acceleration = imu_df.iloc[i, [1, 2, 3]].values\n",
    "\n",
    "#     d = [(velocity[j] * dt) + (0.5 * acceleration[j] * dt * dt) for j in range(3)]\n",
    "#     d = np.dot(rotation_matrix, np.array([*d, 1]))\n",
    "    \n",
    "#     imu_df.iloc[i, 8] = imu_df.iloc[i - 1, 8] + d[0]\n",
    "#     imu_df.iloc[i, 9] = imu_df.iloc[i - 1, 9] + d[1]\n",
    "#     imu_df.iloc[i, 10] = imu_df.iloc[i - 1, 10] + d[2]\n",
    "    \n",
    "#     velocity = [velocity[j] + acceleration[j] * dt for j in range(3)]\n",
    "    \n",
    "#     rotation_matrix = helpers.rotate_transformation_matrix(rotation_matrix, da[0], da[1], da[2])"
   ]
  },
  {
   "cell_type": "code",
   "execution_count": 6,
   "metadata": {},
   "outputs": [],
   "source": [
    "sequence_ts = fread.get_timstamps_from_images(config.get_sequence_dir(include_secondary=False), ext=\".depth.png\")\n",
    "\n",
    "depth_camera = DepthCamera(\"secondary\", os.path.join(config.sequence_dir, config.experiment, \"metadata\", \"device-0-aligned.json\"))\n",
    "\n",
    "poses = np.load(pose_file)\n",
    "trajectory_t = poses[\"trajectory_t\"]\n",
    "local_t = poses[\"local_t\"]\n",
    "\n",
    "start_ind = 30 * 5\n",
    "sequence_ts = sequence_ts[start_ind:]"
   ]
  },
  {
   "cell_type": "code",
   "execution_count": null,
   "metadata": {},
   "outputs": [],
   "source": [
    "# local_pcds = []\n",
    "\n",
    "# for t in tqdm.trange(len(sequence_ts)):\n",
    "#     depth_img_file = os.path.join(config.get_sequence_dir(include_secondary=False), f\"frame-{sequence_ts[t]}.depth.png\")\n",
    "#     pcd = depth_camera.depth_to_point_cloud(depth_img_file)\n",
    "#     pcd = pcd.voxel_down_sample(voxel_size=0.03)\n",
    "#     local_pcds.append(pcd)"
   ]
  },
  {
   "cell_type": "code",
   "execution_count": 7,
   "metadata": {},
   "outputs": [],
   "source": [
    "gt_xyz = trajectory_t[start_ind:, :3, 3]\n",
    "gt_trajectory = helpers.make_pcd(gt_xyz)"
   ]
  },
  {
   "cell_type": "code",
   "execution_count": null,
   "metadata": {},
   "outputs": [],
   "source": [
    "# open3d.visualization.draw_geometries([gt_trajectory])"
   ]
  },
  {
   "attachments": {},
   "cell_type": "markdown",
   "metadata": {},
   "source": [
    "First second is used to find the gravity vector"
   ]
  },
  {
   "cell_type": "code",
   "execution_count": 8,
   "metadata": {},
   "outputs": [],
   "source": [
    "def rotation_matrix_to_euler_angles(R):\n",
    "    sy = np.sqrt(R[0,0]**2 + R[1,0]**2)\n",
    "    singular = sy < 1e-6\n",
    "\n",
    "    if not singular:\n",
    "        x = np.arctan2(R[2,1], R[2,2])\n",
    "        y = np.arctan2(-R[2,0], sy)\n",
    "        z = np.arctan2(R[1,0], R[0,0])\n",
    "    else:\n",
    "        x = np.arctan2(-R[1,2], R[1,1])\n",
    "        y = np.arctan2(-R[2,0], sy)\n",
    "        z = 0\n",
    "\n",
    "    return np.array([x, y, z])"
   ]
  },
  {
   "cell_type": "code",
   "execution_count": 9,
   "metadata": {},
   "outputs": [],
   "source": [
    "elapsed_time = (sequence_ts - sequence_ts[0]) // 1e3\n",
    "calibration_ts = np.argwhere(elapsed_time == 0).flatten()"
   ]
  },
  {
   "cell_type": "code",
   "execution_count": null,
   "metadata": {},
   "outputs": [],
   "source": [
    "# velocity\n",
    "velocities = np.diff(gt_xyz[calibration_ts], axis=0) * 1e3 / np.diff(sequence_ts[calibration_ts]).reshape(-1, 1)\n",
    "linear_acceleration = np.diff(velocities, axis=0) * 1e3 / np.diff(sequence_ts[calibration_ts][1:]).reshape(-1, 1)"
   ]
  },
  {
   "cell_type": "code",
   "execution_count": null,
   "metadata": {},
   "outputs": [],
   "source": [
    "calibration_imu_df = imu_df[(imu_df.timestamp >= sequence_ts[calibration_ts[2]]) & (imu_df.timestamp <= sequence_ts[calibration_ts[-1]])].copy()"
   ]
  },
  {
   "cell_type": "code",
   "execution_count": null,
   "metadata": {},
   "outputs": [],
   "source": [
    "rotation_matrices = trajectory_t[start_ind:, :3, :3][calibration_ts]\n",
    "\n",
    "euler_angles = np.array([rotation_matrix_to_euler_angles(R) for R in rotation_matrices])\n",
    "angular_velocity = np.diff(euler_angles, axis=0) * 1e3 / np.diff(sequence_ts[calibration_ts]).reshape(-1, 1)\n",
    "\n",
    "resampled_angular_velocity = []\n",
    "resampled_angular_velocity.append(interpolate.interp1d(sequence_ts[calibration_ts][1:], angular_velocity[:, 0], kind=\"cubic\")(calibration_imu_df.timestamp.values))\n",
    "resampled_angular_velocity.append(interpolate.interp1d(sequence_ts[calibration_ts][1:], angular_velocity[:, 1], kind=\"cubic\")(calibration_imu_df.timestamp.values))\n",
    "resampled_angular_velocity.append(interpolate.interp1d(sequence_ts[calibration_ts][1:], angular_velocity[:, 2], kind=\"cubic\")(calibration_imu_df.timestamp.values))\n",
    "\n",
    "resampled_angular_velocity = np.array(resampled_angular_velocity).T"
   ]
  },
  {
   "cell_type": "code",
   "execution_count": null,
   "metadata": {},
   "outputs": [],
   "source": [
    "fig, axs = plt.subplots(3, 1, figsize=(10, 5), sharex=True)\n",
    "\n",
    "calibration_imu_df.plot(x=\"timestamp\", y=\"xg\", ax=axs[0], label=\"imu\")\n",
    "axs[0].plot(calibration_imu_df.timestamp.values, resampled_angular_velocity[:, 0], label=\"pcd\")\n",
    "axs[0].legend()\n",
    "\n",
    "calibration_imu_df.plot(x=\"timestamp\", y=\"yg\", ax=axs[1], label=\"imu\")\n",
    "axs[1].plot(calibration_imu_df.timestamp.values, resampled_angular_velocity[:, 1], label=\"pcd\")\n",
    "axs[1].legend()\n",
    "\n",
    "calibration_imu_df.plot(x=\"timestamp\", y=\"zg\", ax=axs[2], label=\"imu\")\n",
    "axs[2].plot(calibration_imu_df.timestamp.values, resampled_angular_velocity[:, 2], label=\"pcd\")\n",
    "axs[2].legend()"
   ]
  },
  {
   "cell_type": "code",
   "execution_count": null,
   "metadata": {},
   "outputs": [],
   "source": [
    "corr = np.correlate(calibration_imu_df.xg.values, resampled_angular_velocity[:, 0], mode='full')"
   ]
  },
  {
   "cell_type": "code",
   "execution_count": null,
   "metadata": {},
   "outputs": [],
   "source": [
    "shifts = np.arange(-calibration_imu_df.shape[0] + 1, calibration_imu_df.shape[0])  # All possible shifts\n",
    "\n",
    "plt.plot(shifts, corr)\n",
    "plt.xlabel('Shift')\n",
    "plt.ylabel('Cross-correlation')\n",
    "plt.show()"
   ]
  },
  {
   "cell_type": "code",
   "execution_count": null,
   "metadata": {},
   "outputs": [],
   "source": [
    "delta = (np.argmax(corr) - calibration_imu_df.shape[0] + 1) * 1000 / frame_rate\n",
    "\n",
    "print(f\"Time shift: {delta} ms\")"
   ]
  },
  {
   "cell_type": "code",
   "execution_count": null,
   "metadata": {},
   "outputs": [],
   "source": [
    "fig, axs = plt.subplots(3, 1, figsize=(10, 5), sharex=True)\n",
    "\n",
    "calibration_imu_df.plot(x=\"timestamp\", y=\"xg\", ax=axs[0], label=\"imu\")\n",
    "axs[0].plot(calibration_imu_df.timestamp.values + delta, resampled_angular_velocity[:, 0], label=\"pcd\")\n",
    "axs[0].legend()\n",
    "\n",
    "calibration_imu_df.plot(x=\"timestamp\", y=\"yg\", ax=axs[1], label=\"imu\")\n",
    "axs[1].plot(calibration_imu_df.timestamp.values + delta, resampled_angular_velocity[:, 1], label=\"pcd\")\n",
    "axs[1].legend()\n",
    "\n",
    "calibration_imu_df.plot(x=\"timestamp\", y=\"zg\", ax=axs[2], label=\"imu\")\n",
    "axs[2].plot(calibration_imu_df.timestamp.values + delta, resampled_angular_velocity[:, 2], label=\"pcd\")\n",
    "axs[2].legend()"
   ]
  },
  {
   "cell_type": "code",
   "execution_count": null,
   "metadata": {},
   "outputs": [],
   "source": [
    "fig, axs = plt.subplots(3, 1, figsize=(10, 5), sharex=True)\n",
    "\n",
    "calibration_imu_df.plot(x=\"timestamp\", y=\"xg\", ax=axs[0], label=\"imu\")\n",
    "axs[0].plot(sequence_ts[calibration_ts][1:] + delta, angular_velocity[:, 0], label=\"pcd\")\n",
    "axs[0].legend()\n",
    "\n",
    "calibration_imu_df.plot(x=\"timestamp\", y=\"yg\", ax=axs[1], label=\"imu\")\n",
    "axs[1].plot(sequence_ts[calibration_ts][1:] + delta, angular_velocity[:, 1], label=\"pcd\")\n",
    "axs[1].legend()\n",
    "\n",
    "calibration_imu_df.plot(x=\"timestamp\", y=\"zg\", ax=axs[2], label=\"imu\")\n",
    "axs[2].plot(sequence_ts[calibration_ts][1:] + delta, angular_velocity[:, 2], label=\"pcd\")\n",
    "axs[2].legend()"
   ]
  },
  {
   "cell_type": "code",
   "execution_count": null,
   "metadata": {},
   "outputs": [],
   "source": [
    "fig, axs = plt.subplots(3, 1, figsize=(10, 5), sharex=True)\n",
    "\n",
    "calibration_imu_df.plot(x=\"timestamp\", y=\"xa\", ax=axs[0], label=\"imu\")\n",
    "axs[0].plot(sequence_ts[calibration_ts][2:] + delta, linear_acceleration[:, 0], label=\"pcd\")\n",
    "axs[0].set_title(\"X axis\")\n",
    "axs[0].legend()\n",
    "\n",
    "calibration_imu_df.plot(x=\"timestamp\", y=\"ya\", ax=axs[1], label=\"imu\")\n",
    "axs[1].plot(sequence_ts[calibration_ts][2:] + delta, linear_acceleration[:, 1], label=\"pcd\")\n",
    "axs[1].set_title(\"Y axis\")\n",
    "axs[1].legend()\n",
    "\n",
    "calibration_imu_df.plot(x=\"timestamp\", y=\"za\", ax=axs[2], label=\"imu\")\n",
    "axs[2].plot(sequence_ts[calibration_ts][2:] + delta, linear_acceleration[:, 2], label=\"pcd\")\n",
    "axs[2].set_title(\"Z axis\")\n",
    "axs[2].legend()"
   ]
  },
  {
   "cell_type": "code",
   "execution_count": null,
   "metadata": {},
   "outputs": [],
   "source": [
    "calibration_imu_df = calibration_imu_df[calibration_imu_df.timestamp < sequence_ts[calibration_ts][-1] + delta].copy()"
   ]
  },
  {
   "cell_type": "code",
   "execution_count": null,
   "metadata": {},
   "outputs": [],
   "source": [
    "linear_acceleration_interp = []\n",
    "linear_acceleration_interp.append(interpolate.interp1d(sequence_ts[calibration_ts][2:] + delta, linear_acceleration[:, 0], kind=\"cubic\")(calibration_imu_df.timestamp.values))\n",
    "linear_acceleration_interp.append(interpolate.interp1d(sequence_ts[calibration_ts][2:] + delta, linear_acceleration[:, 1], kind=\"cubic\")(calibration_imu_df.timestamp.values))\n",
    "linear_acceleration_interp.append(interpolate.interp1d(sequence_ts[calibration_ts][2:] + delta, linear_acceleration[:, 2], kind=\"cubic\")(calibration_imu_df.timestamp.values))\n",
    "\n",
    "linear_acceleration_interp = np.array(linear_acceleration_interp).T\n",
    "\n",
    "velocity_interp = []\n",
    "velocity_interp.append(interpolate.interp1d(sequence_ts[calibration_ts][1:] + delta, velocities[:, 0], kind=\"cubic\")(calibration_imu_df.timestamp.values))\n",
    "velocity_interp.append(interpolate.interp1d(sequence_ts[calibration_ts][1:] + delta, velocities[:, 1], kind=\"cubic\")(calibration_imu_df.timestamp.values))\n",
    "velocity_interp.append(interpolate.interp1d(sequence_ts[calibration_ts][1:] + delta, velocities[:, 2], kind=\"cubic\")(calibration_imu_df.timestamp.values))\n",
    "\n",
    "velocity_interp = np.array(velocity_interp).T"
   ]
  },
  {
   "cell_type": "code",
   "execution_count": null,
   "metadata": {},
   "outputs": [],
   "source": [
    "# plot linear acceleration and interpolated linear acceleration in subplots\n",
    "fig, axs = plt.subplots(3, 1, figsize=(10, 5))\n",
    "\n",
    "axs[0].plot(sequence_ts[calibration_ts][2:], linear_acceleration[:, 0], label=\"Acceleration\")\n",
    "axs[0].plot(calibration_imu_df.timestamp.values, linear_acceleration_interp[:, 0], label=\"Interpolated & Adjusted\")\n",
    "\n",
    "axs[1].plot(sequence_ts[calibration_ts][2:], linear_acceleration[:, 1], label=\"Acceleration\")\n",
    "axs[1].plot(calibration_imu_df.timestamp.values, linear_acceleration_interp[:, 1], label=\"Interpolated & Adjusted\")\n",
    "\n",
    "axs[2].plot(sequence_ts[calibration_ts][2:], linear_acceleration[:, 2], label=\"Acceleration\")\n",
    "axs[2].plot(calibration_imu_df.timestamp.values, linear_acceleration_interp[:, 2], label=\"Interpolated & Adjusted\")"
   ]
  },
  {
   "cell_type": "code",
   "execution_count": null,
   "metadata": {},
   "outputs": [],
   "source": [
    "# calculate displacement and rotation\n",
    "rotation_matrix = np.identity(4)\n",
    "gravity = []\n",
    "\n",
    "for i in tqdm.trange(len(calibration_imu_df)):\n",
    "    v = calibration_imu_df.iloc[i].values\n",
    "    dt = v[7]\n",
    "    \n",
    "    da = np.degrees([v[j + 4] * dt for j in range(3)])\n",
    "    rotation_matrix = helpers.rotate_transformation_matrix(rotation_matrix, da[0], da[1], da[2])\n",
    "    \n",
    "    acceleration = calibration_imu_df.iloc[i, [1, 2, 3]].values\n",
    "    gt = np.dot(rotation_matrix[:3, :3], acceleration) - linear_acceleration_interp[i]\n",
    "    # gt = acceleration - np.dot(rotation_matrix[:3, :3], linear_acceleration_interp[i])\n",
    "    \n",
    "    gravity.append(gt)\n",
    "    \n",
    "gravity = np.array(gravity)\n",
    "\n",
    "np.linalg.norm(gravity, axis=1).mean()"
   ]
  },
  {
   "cell_type": "code",
   "execution_count": null,
   "metadata": {},
   "outputs": [],
   "source": [
    "# calculate displacement and rotation\n",
    "rotation_matrix = np.identity(4)\n",
    "\n",
    "velocity = [0, 0, 0]\n",
    "# velocity = velocity_interp[-1]\n",
    "\n",
    "for i in tqdm.tqdm(range(1, len(calibration_imu_df))):\n",
    "    v = calibration_imu_df.iloc[i].values\n",
    "    \n",
    "    dt = v[7]\n",
    "    # current displacement and rotation\n",
    "    da = np.degrees([v[j + 4] * dt for j in range(3)])\n",
    "    \n",
    "    acceleration = calibration_imu_df.iloc[i, [1, 2, 3]].values\n",
    "\n",
    "    d = [(velocity[j] * dt) + (0.5 * acceleration[j] * dt * dt) for j in range(3)]\n",
    "    d = np.dot(rotation_matrix, np.array([*d, 1]))\n",
    "    \n",
    "    calibration_imu_df.iloc[i, 8] = calibration_imu_df.iloc[i - 1, 8] + d[0]\n",
    "    calibration_imu_df.iloc[i, 9] = calibration_imu_df.iloc[i - 1, 9] + d[1]\n",
    "    calibration_imu_df.iloc[i, 10] = calibration_imu_df.iloc[i - 1, 10] + d[2]\n",
    "    \n",
    "    velocity = [velocity[j] + acceleration[j] * dt for j in range(3)]\n",
    "    \n",
    "    rotation_matrix = helpers.rotate_transformation_matrix(rotation_matrix, da[0], da[1], da[2])"
   ]
  },
  {
   "cell_type": "code",
   "execution_count": null,
   "metadata": {},
   "outputs": [],
   "source": [
    "imu_xyz = calibration_imu_df.loc[:, [\"x\", \"y\", \"z\"]].values\n",
    "imu_velocity = np.diff(imu_xyz, axis=0) * 1e3 / np.diff(calibration_imu_df.timestamp.values).reshape(-1, 1)\n",
    "imu_acceleration = np.diff(imu_velocity, axis=0) * 1e3 / np.diff(calibration_imu_df.timestamp.values[1:]).reshape(-1, 1)\n",
    "\n",
    "imu_acceleration[:, 0] = gaussian_filter1d(imu_acceleration[:, 0], 10)\n",
    "imu_acceleration[:, 1] = gaussian_filter1d(imu_acceleration[:, 1], 10)\n",
    "imu_acceleration[:, 2] = gaussian_filter1d(imu_acceleration[:, 2], 10)"
   ]
  },
  {
   "cell_type": "code",
   "execution_count": null,
   "metadata": {},
   "outputs": [],
   "source": [
    "fig, axs = plt.subplots(3, 1, figsize=(10, 5), sharex=True)\n",
    "\n",
    "calibration_imu_df.plot(x=\"timestamp\", y=\"xa\", ax=axs[0], label=\"local\")\n",
    "axs[0].plot(calibration_imu_df.timestamp.values[2:], imu_acceleration[:, 0], label=\"global\")\n",
    "axs[0].set_title(\"X axis\")\n",
    "axs[0].legend()\n",
    "\n",
    "calibration_imu_df.plot(x=\"timestamp\", y=\"ya\", ax=axs[1], label=\"local\")\n",
    "axs[1].plot(calibration_imu_df.timestamp.values[2:], imu_acceleration[:, 1], label=\"global\")\n",
    "axs[1].set_title(\"Y axis\")\n",
    "axs[1].legend()\n",
    "\n",
    "calibration_imu_df.plot(x=\"timestamp\", y=\"za\", ax=axs[2], label=\"local\")\n",
    "axs[2].plot(calibration_imu_df.timestamp.values[2:], imu_acceleration[:, 2], label=\"global\")\n",
    "axs[2].set_title(\"Z axis\")\n",
    "axs[2].legend()"
   ]
  },
  {
   "cell_type": "code",
   "execution_count": null,
   "metadata": {},
   "outputs": [],
   "source": [
    "calibration_imu_df.iloc[2:, 1:4] = imu_acceleration"
   ]
  },
  {
   "cell_type": "code",
   "execution_count": null,
   "metadata": {},
   "outputs": [],
   "source": [
    "# calculate displacement and rotation\n",
    "rotation_matrix = np.identity(4)\n",
    "\n",
    "velocity = [0, 0, 0]\n",
    "\n",
    "for i in tqdm.tqdm(range(1, len(calibration_imu_df))):\n",
    "    v = calibration_imu_df.iloc[i].values\n",
    "    \n",
    "    dt = v[7]\n",
    "    da = np.degrees([v[j + 4] * dt for j in range(3)])\n",
    "    \n",
    "    acceleration = calibration_imu_df.iloc[i, [1, 2, 3]].values\n",
    "    acceleration = np.dot(helpers.inv_transform(rotation_matrix), np.array([*acceleration, 1]))\n",
    "    # acceleration = np.dot(rotation_matrix, np.array([*acceleration, 1]))\n",
    "    acceleration = acceleration[:3]\n",
    "    \n",
    "    calibration_imu_df.iloc[i, 1] = acceleration[0]\n",
    "    calibration_imu_df.iloc[i, 2] = acceleration[1]\n",
    "    calibration_imu_df.iloc[i, 3] = acceleration[2]\n",
    "    \n",
    "    rotation_matrix = helpers.rotate_transformation_matrix(rotation_matrix, da[0], da[1], da[2])"
   ]
  },
  {
   "cell_type": "code",
   "execution_count": null,
   "metadata": {},
   "outputs": [],
   "source": [
    "gravity = calibration_imu_df.loc[:, [\"xa\", \"ya\", \"za\"]].values - linear_acceleration_interp"
   ]
  },
  {
   "cell_type": "code",
   "execution_count": null,
   "metadata": {},
   "outputs": [],
   "source": [
    "fig, axs = plt.subplots(3, 1, figsize=(10, 5), sharex=True)\n",
    "\n",
    "calibration_imu_df.plot(x=\"timestamp\", y=\"xa\", ax=axs[0], label=\"imu\")\n",
    "axs[0].plot(calibration_imu_df.timestamp.values, linear_acceleration_interp[:, 0], label=\"pcd\")\n",
    "axs[0].plot(calibration_imu_df.timestamp.values, gravity[:, 0], label=\"gravity\")\n",
    "axs[0].set_title(\"X axis\")\n",
    "axs[0].legend()\n",
    "\n",
    "calibration_imu_df.plot(x=\"timestamp\", y=\"ya\", ax=axs[1], label=\"imu\")\n",
    "axs[1].plot(calibration_imu_df.timestamp.values, linear_acceleration_interp[:, 1], label=\"pcd\")\n",
    "axs[1].plot(calibration_imu_df.timestamp.values, gravity[:, 1], label=\"gravity\")\n",
    "axs[1].set_title(\"Y axis\")\n",
    "axs[1].legend()\n",
    "\n",
    "calibration_imu_df.plot(x=\"timestamp\", y=\"za\", ax=axs[2], label=\"imu\")\n",
    "axs[2].plot(calibration_imu_df.timestamp.values, linear_acceleration_interp[:, 2], label=\"pcd\")\n",
    "axs[2].plot(calibration_imu_df.timestamp.values, gravity[:, 2], label=\"gravity\")\n",
    "axs[2].set_title(\"Z axis\")\n",
    "axs[2].legend()"
   ]
  },
  {
   "cell_type": "code",
   "execution_count": null,
   "metadata": {},
   "outputs": [],
   "source": [
    "print(f\"gravity magnitude: {np.linalg.norm(gravity, axis=1).mean()}\")"
   ]
  },
  {
   "cell_type": "code",
   "execution_count": null,
   "metadata": {},
   "outputs": [],
   "source": [
    "gravity = np.mean(gravity, axis=0)"
   ]
  },
  {
   "cell_type": "code",
   "execution_count": null,
   "metadata": {},
   "outputs": [],
   "source": [
    "imu_sequence_df = imu_df[imu_df.timestamp > sequence_ts[calibration_ts][-1] + delta].copy()\n",
    "# imu_sequence_df = imu_df.copy()"
   ]
  },
  {
   "cell_type": "code",
   "execution_count": null,
   "metadata": {},
   "outputs": [],
   "source": [
    "# calculate displacement and rotation\n",
    "rotation_matrix = np.identity(4)\n",
    "velocity = [0, 0, 0]\n",
    "\n",
    "for i in tqdm.tqdm(range(1, len(imu_sequence_df))):\n",
    "    v = imu_sequence_df.iloc[i].values\n",
    "    da = np.degrees([v[j + 4] * v[7] for j in range(3)])\n",
    "    \n",
    "    acceleration = imu_sequence_df.iloc[i, [1, 2, 3]].values\n",
    "    # gravity_rotated = np.dot(helpers.inv_transform(rotation_matrix), np.array([*gravity, 1]))\n",
    "    gravity_rotated = np.dot(rotation_matrix, np.array([*gravity, 1]))\n",
    "    acceleration = acceleration - gravity_rotated[:3]\n",
    "    \n",
    "    imu_sequence_df.iloc[i, 1] = acceleration[0]\n",
    "    imu_sequence_df.iloc[i, 2] = acceleration[1]\n",
    "    imu_sequence_df.iloc[i, 3] = acceleration[2]\n",
    "    \n",
    "    # rotation_matrix = helpers.rotate_transformation_matrix(rotation_matrix, da[0], da[1], da[2])\n",
    "\n",
    "accel_mavg = imu_sequence_df[[\"xa\", \"ya\", \"za\"]].rolling(window=win_len).mean()\n",
    "accel_mavg.fillna(0, inplace=True)\n",
    "\n",
    "imu_sequence_df[[\"xa\", \"ya\", \"za\"]] = imu_sequence_df[[\"xa\", \"ya\", \"za\"]] - accel_mavg"
   ]
  },
  {
   "cell_type": "code",
   "execution_count": null,
   "metadata": {},
   "outputs": [],
   "source": [
    "# calculate displacement and rotation\n",
    "# rotation_matrix = np.identity(4)\n",
    "rotation_matrix = trajectory_t[start_ind + calibration_ts[-1]]\n",
    "\n",
    "# velocity = [0, 0, 0]\n",
    "velocity = velocity_interp[-1]\n",
    "\n",
    "for i in tqdm.tqdm(range(1, len(imu_sequence_df))):\n",
    "    v = imu_sequence_df.iloc[i].values\n",
    "    \n",
    "    dt = v[7]\n",
    "    \n",
    "    # current displacement and rotation\n",
    "    da = np.degrees([v[j + 4] * dt for j in range(3)])\n",
    "    \n",
    "    acceleration = imu_sequence_df.iloc[i, [1, 2, 3]].values\n",
    "\n",
    "    d = [(velocity[j] * dt) + (0.5 * acceleration[j] * dt * dt) for j in range(3)]\n",
    "    d = np.dot(rotation_matrix, np.array([*d, 1]))\n",
    "    \n",
    "    imu_sequence_df.iloc[i, 8] = imu_sequence_df.iloc[i - 1, 8] + d[0]\n",
    "    imu_sequence_df.iloc[i, 9] = imu_sequence_df.iloc[i - 1, 9] + d[1]\n",
    "    imu_sequence_df.iloc[i, 10] = imu_sequence_df.iloc[i - 1, 10] + d[2]\n",
    "    \n",
    "    velocity = [velocity[j] + acceleration[j] * dt for j in range(3)]\n",
    "    \n",
    "    rotation_matrix = helpers.rotate_transformation_matrix(rotation_matrix, da[0], da[1], da[2])"
   ]
  },
  {
   "cell_type": "code",
   "execution_count": null,
   "metadata": {},
   "outputs": [],
   "source": [
    "estimated_xyz = imu_sequence_df[[\"x\", \"y\", \"z\"]].values\n",
    "estimated_trajectory = helpers.make_pcd(estimated_xyz)\n",
    "estimated_trajectory.paint_uniform_color([1, 0, 0])"
   ]
  },
  {
   "cell_type": "code",
   "execution_count": null,
   "metadata": {},
   "outputs": [],
   "source": [
    "gt_xyz = trajectory_t[calibration_ts[-1] + start_ind:, :3, 3]\n",
    "# gt_xyz = trajectory_t[:, :3, 3]\n",
    "gt_trajectory = helpers.make_pcd(gt_xyz)\n",
    "gt_trajectory.paint_uniform_color([0, 1, 0])"
   ]
  },
  {
   "cell_type": "code",
   "execution_count": null,
   "metadata": {},
   "outputs": [],
   "source": [
    "open3d.visualization.draw_geometries([estimated_trajectory, gt_trajectory])"
   ]
  },
  {
   "attachments": {},
   "cell_type": "markdown",
   "metadata": {},
   "source": [
    "### Alternating algorithm for PCD registration"
   ]
  },
  {
   "cell_type": "code",
   "execution_count": 64,
   "metadata": {},
   "outputs": [],
   "source": [
    "pcd_reg_time = 1 # seconds\n",
    "imu_reg_time = 3 # seconds"
   ]
  },
  {
   "cell_type": "code",
   "execution_count": 65,
   "metadata": {},
   "outputs": [],
   "source": [
    "template = np.array([[0] * pcd_reg_time + [1] * imu_reg_time])\n",
    "duration = np.ceil(elapsed_time[-1] / (pcd_reg_time + imu_reg_time)).astype(np.int16)\n",
    "mapping = np.repeat(template, duration, axis=0).flatten()\n",
    "pattern = mapping[[np.expand_dims(elapsed_time.astype(np.int16), axis=1)]].flatten()"
   ]
  },
  {
   "cell_type": "code",
   "execution_count": 71,
   "metadata": {},
   "outputs": [],
   "source": [
    "start_ids = np.arange(duration) * (pcd_reg_time + imu_reg_time)"
   ]
  },
  {
   "cell_type": "code",
   "execution_count": 72,
   "metadata": {},
   "outputs": [],
   "source": [
    "imu_start_ids = start_ids + pcd_reg_time"
   ]
  },
  {
   "cell_type": "code",
   "execution_count": 75,
   "metadata": {},
   "outputs": [
    {
     "data": {
      "text/plain": [
       "array([[ 0,  1],\n",
       "       [ 4,  5],\n",
       "       [ 8,  9],\n",
       "       [12, 13]])"
      ]
     },
     "execution_count": 75,
     "metadata": {},
     "output_type": "execute_result"
    }
   ],
   "source": [
    "np.concatenate([np.expand_dims(start_ids, axis=1), np.expand_dims(imu_start_ids, axis=1)], axis=1)"
   ]
  }
 ],
 "metadata": {
  "kernelspec": {
   "display_name": "local-reg",
   "language": "python",
   "name": "python3"
  },
  "language_info": {
   "codemirror_mode": {
    "name": "ipython",
    "version": 3
   },
   "file_extension": ".py",
   "mimetype": "text/x-python",
   "name": "python",
   "nbconvert_exporter": "python",
   "pygments_lexer": "ipython3",
   "version": "3.9.15"
  },
  "orig_nbformat": 4,
  "vscode": {
   "interpreter": {
    "hash": "a6ae5a769a6f761bb0fad38ece807810e6e8c011c16e85fd10062a6c7c41b6a2"
   }
  }
 },
 "nbformat": 4,
 "nbformat_minor": 2
}
