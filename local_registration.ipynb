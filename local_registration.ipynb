{
 "cells": [
  {
   "cell_type": "code",
   "execution_count": 25,
   "metadata": {},
   "outputs": [],
   "source": [
    "import open3d\n",
    "import numpy as np\n",
    "import os\n",
    "import utils.fread as fread\n",
    "import utils.helpers as helpers\n",
    "import utils.registration as registration\n",
    "import utils.FCGF as FCGF\n",
    "import copy\n",
    "import tqdm"
   ]
  },
  {
   "cell_type": "code",
   "execution_count": 2,
   "metadata": {},
   "outputs": [],
   "source": [
    "sequence_dir = \"../localization-data/data/point_clouds/exp_5/trial_1/subject-1/01\"\n",
    "sequence_ts = fread.get_timstamps(sequence_dir, ext=\".secondary.pcd\")\n",
    "\n",
    "num_frames = len(sequence_ts)"
   ]
  },
  {
   "cell_type": "code",
   "execution_count": 4,
   "metadata": {},
   "outputs": [],
   "source": [
    "source = helpers.read_pcd(os.path.join(sequence_dir, f\"{sequence_ts[0]}.secondary.pcd\"))\n",
    "target = helpers.read_pcd(os.path.join(sequence_dir, f\"{sequence_ts[1]}.secondary.pcd\"))"
   ]
  },
  {
   "cell_type": "code",
   "execution_count": 5,
   "metadata": {},
   "outputs": [],
   "source": [
    "source = helpers.downsample(source, 0.05)\n",
    "target = helpers.downsample(target, 0.05)\n",
    "\n",
    "source_fpfh = registration.compute_fpfh(source, 0.05)\n",
    "target_fpfh = registration.compute_fpfh(target, 0.05)"
   ]
  },
  {
   "cell_type": "code",
   "execution_count": 7,
   "metadata": {},
   "outputs": [],
   "source": [
    "result = registration.ransac_feature_matching(source, target, source_fpfh, target_fpfh, 4, 0.05, p2p=False)\n",
    "\n",
    "registration.describe(source, target, result)"
   ]
  },
  {
   "cell_type": "code",
   "execution_count": 9,
   "metadata": {},
   "outputs": [],
   "source": [
    "registration.view(source, target, result.transformation)"
   ]
  },
  {
   "cell_type": "markdown",
   "metadata": {},
   "source": [
    "Registering a sequence"
   ]
  },
  {
   "cell_type": "code",
   "execution_count": 29,
   "metadata": {},
   "outputs": [
    {
     "name": "stderr",
     "output_type": "stream",
     "text": [
      "100%|██████████| 368/368 [00:08<00:00, 45.63it/s]\n"
     ]
    }
   ],
   "source": [
    "local_pcds = []\n",
    "fpfh_feats = []\n",
    "\n",
    "for t in tqdm.trange(num_frames):\n",
    "    pcd = helpers.read_pcd(os.path.join(sequence_dir, f\"{sequence_ts[t]}.secondary.pcd\"))\n",
    "    pcd = helpers.downsample(pcd, 0.05)\n",
    "    fpfh = registration.compute_fpfh(pcd, 0.05)\n",
    "    local_pcds.append(pcd)\n",
    "    fpfh_feats.append(fpfh) "
   ]
  },
  {
   "cell_type": "code",
   "execution_count": 27,
   "metadata": {},
   "outputs": [
    {
     "name": "stderr",
     "output_type": "stream",
     "text": [
      "100%|██████████| 367/367 [00:48<00:00,  7.59it/s]\n"
     ]
    }
   ],
   "source": [
    "local_t = [np.identity(4)]\n",
    "\n",
    "for t in tqdm.trange(num_frames - 1):\n",
    "    source, source_fpfh = copy.deepcopy(local_pcds[t + 1]), fpfh_feats[t + 1]\n",
    "    target, target_fpfh = copy.deepcopy(local_pcds[t]), fpfh_feats[t]\n",
    "\n",
    "    ransac_reg = registration.ransac_feature_matching(source, target, source_fpfh, target_fpfh, n_ransac=4, threshold=0.05)\n",
    "        \n",
    "    local_t.append(ransac_reg.transformation)"
   ]
  },
  {
   "cell_type": "code",
   "execution_count": 30,
   "metadata": {},
   "outputs": [
    {
     "name": "stderr",
     "output_type": "stream",
     "text": [
      "100%|██████████| 368/368 [00:00<00:00, 8806.03it/s]\n"
     ]
    }
   ],
   "source": [
    "trajectory_t = [np.identity(4)]\n",
    "\n",
    "for t in tqdm.trange(num_frames):\n",
    "    if t > 0:\n",
    "        trajectory_t.append(np.dot(trajectory_t[t - 1], local_t[t]))\n",
    "    local_pcds[t].transform(trajectory_t[t])"
   ]
  },
  {
   "cell_type": "code",
   "execution_count": 31,
   "metadata": {},
   "outputs": [],
   "source": [
    "open3d.visualization.draw_geometries(local_pcds)"
   ]
  },
  {
   "cell_type": "code",
   "execution_count": 3,
   "metadata": {},
   "outputs": [
    {
     "name": "stderr",
     "output_type": "stream",
     "text": [
      "100%|██████████| 368/368 [00:11<00:00, 31.24it/s]\n"
     ]
    }
   ],
   "source": [
    "local_pcds = []\n",
    "\n",
    "for t in tqdm.trange(num_frames):\n",
    "    pcd = helpers.read_pcd(os.path.join(sequence_dir, f\"{sequence_ts[t]}.secondary.pcd\"))\n",
    "    pcd = helpers.downsample(pcd, 0.05)\n",
    "    local_pcds.append(pcd)"
   ]
  },
  {
   "cell_type": "code",
   "execution_count": 4,
   "metadata": {},
   "outputs": [
    {
     "name": "stderr",
     "output_type": "stream",
     "text": [
      "100%|██████████| 367/367 [00:59<00:00,  6.22it/s]\n"
     ]
    }
   ],
   "source": [
    "fpfh_feats = [registration.compute_fpfh(local_pcds[0], 0.05)]\n",
    "local_t = [np.identity(4)]\n",
    "\n",
    "for t in tqdm.trange(num_frames - 1):\n",
    "    source, source_fpfh = local_pcds[t + 1], registration.compute_fpfh(local_pcds[t + 1], 0.05)\n",
    "    target, target_fpfh = local_pcds[t], fpfh_feats[t]\n",
    "\n",
    "    ransac_reg = registration.ransac_feature_matching(source, target, source_fpfh, target_fpfh, n_ransac=4, threshold=0.05)\n",
    "        \n",
    "    local_t.append(ransac_reg.transformation)\n",
    "    fpfh_feats.append(source_fpfh)"
   ]
  },
  {
   "cell_type": "code",
   "execution_count": 5,
   "metadata": {},
   "outputs": [
    {
     "name": "stderr",
     "output_type": "stream",
     "text": [
      "100%|██████████| 368/368 [00:00<00:00, 10933.65it/s]\n"
     ]
    }
   ],
   "source": [
    "trajectory_t = [np.identity(4)]\n",
    "\n",
    "for t in tqdm.trange(num_frames):\n",
    "    if t > 0:\n",
    "        trajectory_t.append(np.dot(trajectory_t[t - 1], local_t[t]))\n",
    "    local_pcds[t].transform(trajectory_t[t])"
   ]
  },
  {
   "cell_type": "code",
   "execution_count": 6,
   "metadata": {},
   "outputs": [],
   "source": [
    "open3d.visualization.draw_geometries(local_pcds)"
   ]
  },
  {
   "attachments": {},
   "cell_type": "markdown",
   "metadata": {},
   "source": [
    "Testing groundtruth poses"
   ]
  },
  {
   "cell_type": "code",
   "execution_count": 33,
   "metadata": {},
   "outputs": [],
   "source": [
    "features_dir = \"data/features\"\n",
    "experiment = \"exp_7\"\n",
    "trial = 1\n",
    "subject = \"subject-1\"\n",
    "sequence = 2\n",
    "voxel_size = 0.03\n",
    "\n",
    "sequence_dir = os.path.join(features_dir, experiment, f\"trial_{trial}\", str(voxel_size), subject, f\"{sequence:02d}\")\n",
    "sequence_ts = fread.get_timstamps(sequence_dir, ext=\".secondary.npz\")\n",
    "\n",
    "num_frames = len(sequence_ts)\n",
    "\n",
    "file_name = f\"{experiment}__trial_{trial}__{subject}__{sequence:02d}\"\n",
    "\n",
    "pose_file = os.path.join(\"data/trajectories/groundtruth\", experiment, f\"{file_name}.pose.npz\")"
   ]
  },
  {
   "cell_type": "code",
   "execution_count": 34,
   "metadata": {},
   "outputs": [],
   "source": [
    "poses = np.load(pose_file)"
   ]
  },
  {
   "cell_type": "code",
   "execution_count": 35,
   "metadata": {},
   "outputs": [],
   "source": [
    "local_t = poses[\"local_t\"]\n",
    "trajectory_t = poses[\"trajectory_t\"]"
   ]
  },
  {
   "cell_type": "code",
   "execution_count": 36,
   "metadata": {},
   "outputs": [
    {
     "name": "stderr",
     "output_type": "stream",
     "text": [
      "100%|██████████| 395/395 [00:12<00:00, 31.65it/s]\n"
     ]
    }
   ],
   "source": [
    "local_pcds = []\n",
    "\n",
    "for t in tqdm.trange(num_frames):\n",
    "    feature_file = os.path.join(sequence_dir, f\"{sequence_ts[t]}.secondary.npz\")\n",
    "    pcd, _, _ = FCGF.get_features(feature_file)\n",
    "    local_pcds.append(pcd)"
   ]
  },
  {
   "cell_type": "code",
   "execution_count": 37,
   "metadata": {},
   "outputs": [
    {
     "name": "stderr",
     "output_type": "stream",
     "text": [
      "100%|██████████| 395/395 [00:00<00:00, 13530.23it/s]\n"
     ]
    }
   ],
   "source": [
    "for t in tqdm.trange(num_frames):\n",
    "    local_pcds[t].transform(trajectory_t[t])"
   ]
  },
  {
   "cell_type": "code",
   "execution_count": 38,
   "metadata": {},
   "outputs": [],
   "source": [
    "trajectory_pcd = helpers.merge_pcds(local_pcds, 0.03)"
   ]
  },
  {
   "cell_type": "code",
   "execution_count": 39,
   "metadata": {},
   "outputs": [],
   "source": [
    "open3d.visualization.draw_geometries([trajectory_pcd])"
   ]
  },
  {
   "cell_type": "code",
   "execution_count": 41,
   "metadata": {},
   "outputs": [],
   "source": [
    "xyz = trajectory_t[:, :3, 3]\n",
    "\n",
    "pcd = open3d.geometry.PointCloud()\n",
    "pcd.points = open3d.utility.Vector3dVector(xyz)"
   ]
  },
  {
   "cell_type": "code",
   "execution_count": 42,
   "metadata": {},
   "outputs": [],
   "source": [
    "open3d.visualization.draw_geometries([pcd])"
   ]
  },
  {
   "cell_type": "code",
   "execution_count": 44,
   "metadata": {},
   "outputs": [
    {
     "data": {
      "text/plain": [
       "array([-7.31623922, -0.74977918,  5.76653422])"
      ]
     },
     "execution_count": 44,
     "metadata": {},
     "output_type": "execute_result"
    }
   ],
   "source": [
    "xyz[-1]"
   ]
  },
  {
   "cell_type": "code",
   "execution_count": null,
   "metadata": {},
   "outputs": [],
   "source": []
  }
 ],
 "metadata": {
  "kernelspec": {
   "display_name": "local-reg",
   "language": "python",
   "name": "python3"
  },
  "language_info": {
   "codemirror_mode": {
    "name": "ipython",
    "version": 3
   },
   "file_extension": ".py",
   "mimetype": "text/x-python",
   "name": "python",
   "nbconvert_exporter": "python",
   "pygments_lexer": "ipython3",
   "version": "3.9.15 (main, Nov 24 2022, 14:39:17) [MSC v.1916 64 bit (AMD64)]"
  },
  "orig_nbformat": 4,
  "vscode": {
   "interpreter": {
    "hash": "a6ae5a769a6f761bb0fad38ece807810e6e8c011c16e85fd10062a6c7c41b6a2"
   }
  }
 },
 "nbformat": 4,
 "nbformat_minor": 2
}
