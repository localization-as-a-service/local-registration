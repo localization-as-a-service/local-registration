{
 "cells": [
  {
   "cell_type": "code",
   "execution_count": 4,
   "metadata": {},
   "outputs": [],
   "source": [
    "import open3d\n",
    "import numpy as np\n",
    "import os\n",
    "import utils.fread as fread\n",
    "import utils.FCGF as FCGF\n",
    "import utils.registration as registration"
   ]
  },
  {
   "cell_type": "code",
   "execution_count": 2,
   "metadata": {},
   "outputs": [],
   "source": [
    "sequence_dir = \"../localization-data/data/features/exp_5/trial_1/0.03/subject-1/01\"\n",
    "sequence_ts = fread.get_timstamps(sequence_dir)"
   ]
  },
  {
   "cell_type": "code",
   "execution_count": 3,
   "metadata": {},
   "outputs": [
    {
     "ename": "AttributeError",
     "evalue": "module 'open3d.cpu.pybind.geometry' has no attribute 'estimate_normals'",
     "output_type": "error",
     "traceback": [
      "\u001b[1;31m---------------------------------------------------------------------------\u001b[0m",
      "\u001b[1;31mAttributeError\u001b[0m                            Traceback (most recent call last)",
      "Cell \u001b[1;32mIn[3], line 1\u001b[0m\n\u001b[1;32m----> 1\u001b[0m source \u001b[39m=\u001b[39m FCGF\u001b[39m.\u001b[39;49mget_features(os\u001b[39m.\u001b[39;49mpath\u001b[39m.\u001b[39;49mjoin(sequence_dir, \u001b[39mf\u001b[39;49m\u001b[39m\"\u001b[39;49m\u001b[39m{\u001b[39;49;00msequence_ts[\u001b[39m0\u001b[39;49m]\u001b[39m}\u001b[39;49;00m\u001b[39m.secondary.npz\u001b[39;49m\u001b[39m\"\u001b[39;49m), pcd_only\u001b[39m=\u001b[39;49m\u001b[39mTrue\u001b[39;49;00m)\n",
      "File \u001b[1;32mc:\\Users\\darshanakg.2021\\Projects\\local-registration\\utils\\FCGF.py:14\u001b[0m, in \u001b[0;36mget_features\u001b[1;34m(feature_file, pcd_only)\u001b[0m\n\u001b[0;32m     11\u001b[0m keypts \u001b[39m=\u001b[39m open3d\u001b[39m.\u001b[39mgeometry\u001b[39m.\u001b[39mPointCloud()\n\u001b[0;32m     12\u001b[0m keypts\u001b[39m.\u001b[39mpoints \u001b[39m=\u001b[39m open3d\u001b[39m.\u001b[39mutility\u001b[39m.\u001b[39mVector3dVector(data[\u001b[39m\"\u001b[39m\u001b[39mkeypts\u001b[39m\u001b[39m\"\u001b[39m])\n\u001b[1;32m---> 14\u001b[0m open3d\u001b[39m.\u001b[39;49mgeometry\u001b[39m.\u001b[39;49mestimate_normals(keypts)\n\u001b[0;32m     16\u001b[0m \u001b[39mif\u001b[39;00m pcd_only:\n\u001b[0;32m     17\u001b[0m     \u001b[39mreturn\u001b[39;00m keypts\n",
      "\u001b[1;31mAttributeError\u001b[0m: module 'open3d.cpu.pybind.geometry' has no attribute 'estimate_normals'"
     ]
    }
   ],
   "source": [
    "source = FCGF.get_features(os.path.join(sequence_dir, f\"{sequence_ts[0]}.secondary.npz\"), pcd_only=True)"
   ]
  },
  {
   "cell_type": "code",
   "execution_count": 5,
   "metadata": {},
   "outputs": [],
   "source": [
    "data = np.load(os.path.join(sequence_dir, f\"{sequence_ts[0]}.secondary.npz\"))"
   ]
  },
  {
   "cell_type": "code",
   "execution_count": 6,
   "metadata": {},
   "outputs": [
    {
     "ename": "AttributeError",
     "evalue": "'open3d.cpu.pybind.t.geometry.PointCloud' object has no attribute 'points'",
     "output_type": "error",
     "traceback": [
      "\u001b[1;31m---------------------------------------------------------------------------\u001b[0m",
      "\u001b[1;31mAttributeError\u001b[0m                            Traceback (most recent call last)",
      "Cell \u001b[1;32mIn[6], line 2\u001b[0m\n\u001b[0;32m      1\u001b[0m pcd \u001b[39m=\u001b[39m open3d\u001b[39m.\u001b[39mt\u001b[39m.\u001b[39mgeometry\u001b[39m.\u001b[39mPointCloud()\n\u001b[1;32m----> 2\u001b[0m pcd\u001b[39m.\u001b[39;49mpoints \u001b[39m=\u001b[39m open3d\u001b[39m.\u001b[39mutility\u001b[39m.\u001b[39mVector3dVector(data[\u001b[39m\"\u001b[39m\u001b[39mkeypts\u001b[39m\u001b[39m\"\u001b[39m])\n",
      "\u001b[1;31mAttributeError\u001b[0m: 'open3d.cpu.pybind.t.geometry.PointCloud' object has no attribute 'points'"
     ]
    }
   ],
   "source": [
    "pcd = open3d.t.geometry.PointCloud()\n",
    "pcd.points = open3d.utility.Vector3dVector(data[\"keypts\"])"
   ]
  },
  {
   "cell_type": "code",
   "execution_count": null,
   "metadata": {},
   "outputs": [],
   "source": [
    "    keypts = open3d.geometry.PointCloud()\n",
    "    keypts.points = open3d.utility.Vector3dVector(data[\"keypts\"])\n",
    "    \n",
    "    open3d.geometry.estimate_normals(keypts)\n",
    "    \n",
    "    if pcd_only:\n",
    "        return keypts\n",
    "    scores = data[\"scores\"]\n",
    "    features = open3d.registration.Feature()\n",
    "    features.data = data[\"features\"].T\n",
    "    return keypts, features, scores"
   ]
  }
 ],
 "metadata": {
  "kernelspec": {
   "display_name": "Python 3.9.15",
   "language": "python",
   "name": "python3"
  },
  "language_info": {
   "codemirror_mode": {
    "name": "ipython",
    "version": 3
   },
   "file_extension": ".py",
   "mimetype": "text/x-python",
   "name": "python",
   "nbconvert_exporter": "python",
   "pygments_lexer": "ipython3",
   "version": "3.9.15"
  },
  "orig_nbformat": 4,
  "vscode": {
   "interpreter": {
    "hash": "0867b0a0ec4aa79c375d84191bb807ed1d4e37587ac53650fe54c5bacc252e88"
   }
  }
 },
 "nbformat": 4,
 "nbformat_minor": 2
}
