{
 "cells": [
  {
   "cell_type": "code",
   "execution_count": 1,
   "metadata": {},
   "outputs": [],
   "source": [
    "import os\n",
    "import glob\n",
    "import open3d\n",
    "import numpy as np\n",
    "\n",
    "from PIL import Image\n",
    "from copy import deepcopy\n",
    "from utils.depth_camera import DepthCamera"
   ]
  },
  {
   "cell_type": "code",
   "execution_count": 2,
   "metadata": {},
   "outputs": [],
   "source": [
    "def read_first_depth_img(experiment_dir, device_id):\n",
    "    \"\"\"\n",
    "    Read the first depth image from a trial.\n",
    "    \"\"\"\n",
    "    depth_img_path = glob.glob(f\"{experiment_dir}/trial_0/global/device-{device_id}/*.depth.png\")[0]\n",
    "    device = DepthCamera(f\"device-{device_id}\", f\"{experiment_dir}/metadata/device-{device_id}-aligned.json\")\n",
    "    return device.depth_to_point_cloud(depth_img_path)\n",
    "\n",
    "\n",
    "def read_extrinsics(experiment_dir, device_id):\n",
    "    \"\"\"\n",
    "    Read the extrinsics from a trial.\n",
    "    \"\"\"\n",
    "    return np.loadtxt(f\"{experiment_dir}/trial_1/global/transformations/device-{device_id}.txt\")\n",
    "\n",
    "\n",
    "def write_extrinsics(experiment_dir, trial, device_id, transformation):\n",
    "    \"\"\"\n",
    "    write the extrinsics from a trial.\n",
    "    \"\"\"\n",
    "    if not os.path.exists(f\"{experiment_dir}/{trial}/global/transformations\"):\n",
    "        os.makedirs(f\"{experiment_dir}/{trial}/global/transformations\")\n",
    "        \n",
    "    return np.savetxt(f\"{experiment_dir}/{trial}/global/transformations/device-{device_id}.txt\", transformation)\n",
    "\n",
    "\n",
    "def preprocess_pcd(pcd, voxel_size, down_sample=True):\n",
    "    if down_sample:\n",
    "        pcd = open3d.voxel_down_sample(pcd, voxel_size)\n",
    "\n",
    "    radius_normal = voxel_size * 2\n",
    "    open3d.geometry.estimate_normals(pcd, open3d.geometry.KDTreeSearchParamHybrid(radius=radius_normal, max_nn=30))\n",
    "\n",
    "    radius_feature = voxel_size * 5\n",
    "    pcd_fpfh = open3d.registration.compute_fpfh_feature(pcd, open3d.geometry.KDTreeSearchParamHybrid(radius=radius_feature, max_nn=100))\n",
    "    return pcd, pcd_fpfh\n",
    "\n",
    "\n",
    "def execute_global_registration(source_down, target_down, source_feat, target_feat, n_ransac, threshold):\n",
    "    result = open3d.registration.registration_ransac_based_on_feature_matching(\n",
    "        source_down, target_down, source_feat, target_feat, threshold,\n",
    "        open3d.registration.TransformationEstimationPointToPoint(False), n_ransac, \n",
    "        [open3d.registration.CorrespondenceCheckerBasedOnEdgeLength(0.9), open3d.registration.CorrespondenceCheckerBasedOnDistance(threshold)],\n",
    "        open3d.registration.RANSACConvergenceCriteria(4000000, 500))\n",
    "    return result\n",
    "\n",
    "\n",
    "def refine_registration(source, target, distance_threshold, trans_init):\n",
    "    result = open3d.registration.registration_icp(\n",
    "        source, target, distance_threshold, trans_init,\n",
    "        open3d.registration.TransformationEstimationPointToPlane(),\n",
    "        open3d.registration.ICPConvergenceCriteria(max_iteration=1000)\n",
    "    )\n",
    "    return result\n",
    "\n",
    "\n",
    "def visualize(source, target, transformation):\n",
    "    source_temp = deepcopy(source)\n",
    "    target_temp = deepcopy(target)\n",
    "    \n",
    "    source_temp.paint_uniform_color([1, 0.706, 0])\n",
    "    target_temp.paint_uniform_color([0, 0.651, 0.929])\n",
    "    \n",
    "    source_temp.transform(transformation)\n",
    "    \n",
    "    open3d.visualization.draw_geometries([source_temp, target_temp])\n",
    "    \n",
    "    \n",
    "def rotate_transformation_matrix(t, rx, ry, rz):\n",
    "    # Convert degrees to radians\n",
    "    rx, ry, rz = np.radians(rx), np.radians(ry), np.radians(rz)\n",
    "\n",
    "    RX = np.array([\n",
    "        [1, 0, 0, 0],\n",
    "        [0, np.cos(rx), -np.sin(rx), 0],\n",
    "        [0, np.sin(rx), np.cos(rx), 0],\n",
    "        [0, 0, 0, 1]\n",
    "    ])\n",
    "\n",
    "    RY = np.array([\n",
    "        [np.cos(ry), 0, np.sin(ry), 0],\n",
    "        [0, 1, 0, 0],\n",
    "        [-np.sin(ry), 0, np.cos(ry), 0],\n",
    "        [0, 0, 0, 1]\n",
    "    ])\n",
    "\n",
    "    RZ = np.array([\n",
    "        [np.cos(rz), -np.sin(rz), 0, 0],\n",
    "        [np.sin(rz), np.cos(rz), 0, 0],\n",
    "        [0, 0, 1, 0],\n",
    "        [0, 0, 0, 1]\n",
    "    ])\n",
    "\n",
    "    return np.dot(np.dot(np.dot(t, RZ), RY), RX)"
   ]
  },
  {
   "cell_type": "code",
   "execution_count": 3,
   "metadata": {},
   "outputs": [],
   "source": [
    "dev_0_pcd = read_first_depth_img(\"data/raw_data/exp_9\", 0)\n",
    "dev_1_pcd = read_first_depth_img(\"data/raw_data/exp_9\", 1)\n",
    "dev_2_pcd = read_first_depth_img(\"data/raw_data/exp_9\", 2)"
   ]
  },
  {
   "cell_type": "code",
   "execution_count": 8,
   "metadata": {},
   "outputs": [
    {
     "data": {
      "text/plain": [
       "True"
      ]
     },
     "execution_count": 8,
     "metadata": {},
     "output_type": "execute_result"
    }
   ],
   "source": [
    "open3d.io.write_point_cloud(\"temp/dev_0.pcd\", dev_0_pcd)\n",
    "open3d.io.write_point_cloud(\"temp/dev_1.pcd\", dev_1_pcd)\n",
    "open3d.io.write_point_cloud(\"temp/dev_2.pcd\", dev_2_pcd)"
   ]
  },
  {
   "cell_type": "code",
   "execution_count": 5,
   "metadata": {},
   "outputs": [],
   "source": [
    "dev_0_trans_init = np.loadtxt(\"temp/dev_0.txt\")\n",
    "dev_1_trans_init = np.loadtxt(\"temp/dev_1.txt\")\n",
    "dev_2_trans_init = np.loadtxt(\"temp/dev_2.txt\")"
   ]
  },
  {
   "cell_type": "code",
   "execution_count": 6,
   "metadata": {},
   "outputs": [
    {
     "data": {
      "text/plain": [
       "True"
      ]
     },
     "execution_count": 6,
     "metadata": {},
     "output_type": "execute_result"
    }
   ],
   "source": [
    "dev_0_pcd = open3d.voxel_down_sample(dev_0_pcd, 0.03)\n",
    "dev_1_pcd = open3d.voxel_down_sample(dev_1_pcd, 0.03)\n",
    "dev_2_pcd = open3d.voxel_down_sample(dev_2_pcd, 0.03)\n",
    "\n",
    "open3d.geometry.estimate_normals(dev_0_pcd)\n",
    "open3d.geometry.estimate_normals(dev_1_pcd)\n",
    "open3d.geometry.estimate_normals(dev_2_pcd)"
   ]
  },
  {
   "cell_type": "code",
   "execution_count": 12,
   "metadata": {},
   "outputs": [],
   "source": [
    "dev_0_trans_init = read_extrinsics(\"data/raw_data/exp_5\", 0)\n",
    "dev_1_trans_init = read_extrinsics(\"data/raw_data/exp_5\", 1)\n",
    "dev_2_trans_init = read_extrinsics(\"data/raw_data/exp_5\", 2)"
   ]
  },
  {
   "cell_type": "code",
   "execution_count": 6,
   "metadata": {},
   "outputs": [
    {
     "data": {
      "text/plain": [
       "geometry::PointCloud with 123815 points."
      ]
     },
     "execution_count": 6,
     "metadata": {},
     "output_type": "execute_result"
    }
   ],
   "source": [
    "dev_0_pcd.transform(dev_0_trans_init)\n",
    "dev_1_pcd.transform(dev_1_trans_init)\n",
    "dev_2_pcd.transform(dev_2_trans_init)"
   ]
  },
  {
   "cell_type": "code",
   "execution_count": 7,
   "metadata": {},
   "outputs": [],
   "source": [
    "open3d.visualization.draw_geometries([dev_0_pcd, dev_1_pcd, dev_2_pcd])"
   ]
  },
  {
   "cell_type": "code",
   "execution_count": 15,
   "metadata": {},
   "outputs": [],
   "source": [
    "global_merged_pcd = open3d.geometry.PointCloud()\n",
    "\n",
    "global_merged_pcd += dev_0_pcd\n",
    "global_merged_pcd += dev_1_pcd\n",
    "global_merged_pcd += dev_2_pcd\n",
    "\n",
    "global_merged_pcd = open3d.voxel_down_sample(global_merged_pcd, 0.03)\n",
    "\n",
    "open3d.visualization.draw_geometries([global_merged_pcd])\n",
    "\n",
    "# open3d.io.write_point_cloud(\"temp/larc/global_merged.pcd\", global_merged_pcd)\n",
    "\n",
    "# open3d.io.write_point_cloud(\"data/reference/larc_kitchen_3cams.pcd\", global_merged_pcd)"
   ]
  },
  {
   "cell_type": "code",
   "execution_count": 18,
   "metadata": {},
   "outputs": [
    {
     "data": {
      "text/plain": [
       "True"
      ]
     },
     "execution_count": 18,
     "metadata": {},
     "output_type": "execute_result"
    }
   ],
   "source": [
    "global_pcd = open3d.io.read_point_cloud(\"temp/lidar_1637299401488642900.pcd\")\n",
    "global_pcd = open3d.voxel_down_sample(global_pcd, 0.03)\n",
    "global_pcd.paint_uniform_color([1, 0.706, 0])\n",
    "\n",
    "open3d.geometry.estimate_normals(global_pcd)"
   ]
  },
  {
   "cell_type": "code",
   "execution_count": 19,
   "metadata": {},
   "outputs": [],
   "source": [
    "open3d.visualization.draw_geometries([dev_0_pcd, dev_1_pcd, dev_2_pcd, global_pcd])"
   ]
  },
  {
   "cell_type": "code",
   "execution_count": 15,
   "metadata": {},
   "outputs": [
    {
     "name": "stdout",
     "output_type": "stream",
     "text": [
      "registration::RegistrationResult with fitness = 0.777096, inlier_rmse = 0.024847, and correspondence_set size of 16462\n",
      "Access transformation to get result.\n"
     ]
    }
   ],
   "source": [
    "\n",
    "T = np.identity(4)\n",
    "\n",
    "T = rotate_transformation_matrix(T, -30, 0, 180)\n",
    "\n",
    "T[:, 3] = np.array([-1.5, 2.8, -2.5, 1])\n",
    "\n",
    "result = open3d.registration.registration_icp(\n",
    "    dev_0_pcd, global_pcd, 0.05, T,\n",
    "    open3d.registration.TransformationEstimationPointToPlane(),\n",
    "    open3d.registration.ICPConvergenceCriteria(max_iteration=2000)\n",
    ")\n",
    "\n",
    "print(result)\n",
    "\n",
    "visualize(dev_0_pcd, global_pcd, result.transformation)\n",
    "\n",
    "dev_0_trans_init = deepcopy(result.transformation)"
   ]
  },
  {
   "cell_type": "code",
   "execution_count": 16,
   "metadata": {},
   "outputs": [
    {
     "name": "stdout",
     "output_type": "stream",
     "text": [
      "registration::RegistrationResult with fitness = 0.641067, inlier_rmse = 0.018456, and correspondence_set size of 12379\n",
      "Access transformation to get result.\n"
     ]
    }
   ],
   "source": [
    "T = np.identity(4)\n",
    "\n",
    "T = rotate_transformation_matrix(T, -30, 180, 180)\n",
    "\n",
    "T[:, 3] = np.array([-1.9, 2.8, 4.2, 1])\n",
    "\n",
    "result = open3d.registration.registration_icp(\n",
    "    dev_1_pcd, global_pcd, 0.03, T,\n",
    "    open3d.registration.TransformationEstimationPointToPlane(),\n",
    "    open3d.registration.ICPConvergenceCriteria(max_iteration=2000)\n",
    ")\n",
    "\n",
    "print(result)\n",
    "\n",
    "visualize(dev_1_pcd, global_pcd, T)\n",
    "visualize(dev_1_pcd, global_pcd, result.transformation)\n",
    "\n",
    "dev_1_trans_init = deepcopy(result.transformation)"
   ]
  },
  {
   "cell_type": "code",
   "execution_count": 37,
   "metadata": {},
   "outputs": [
    {
     "name": "stdout",
     "output_type": "stream",
     "text": [
      "registration::RegistrationResult with fitness = 0.648896, inlier_rmse = 0.019138, and correspondence_set size of 17016\n",
      "Access transformation to get result.\n"
     ]
    }
   ],
   "source": [
    "T = np.identity(4)\n",
    "\n",
    "T = rotate_transformation_matrix(T, -30, 85, 180)\n",
    "\n",
    "T[:, 3] = np.array([2.8, 3.2, 0.5, 1])\n",
    "\n",
    "result = open3d.registration.registration_icp(\n",
    "    dev_2_pcd, global_pcd, 0.03, T,\n",
    "    open3d.registration.TransformationEstimationPointToPlane(),\n",
    "    open3d.registration.ICPConvergenceCriteria(max_iteration=2000)\n",
    ")\n",
    "\n",
    "print(result)\n",
    "\n",
    "visualize(dev_2_pcd, global_pcd, T)\n",
    "visualize(dev_2_pcd, global_pcd, result.transformation)\n",
    "\n",
    "dev_2_trans_init = deepcopy(result.transformation)"
   ]
  },
  {
   "cell_type": "code",
   "execution_count": 6,
   "metadata": {},
   "outputs": [],
   "source": [
    "global_pcd = open3d.io.read_point_cloud(\"temp/lidar_1637299401488642900.pcd\")\n",
    "global_pcd_down, global_pcd_fpfh = preprocess_pcd(global_pcd, voxel_size=0.03)\n",
    "\n",
    "dev_0_pcd_down, dev_0_pcd_fpfh = preprocess_pcd(dev_0_pcd, 0.03)\n",
    "dev_1_pcd_down, dev_1_pcd_fpfh = preprocess_pcd(dev_1_pcd, 0.03)\n",
    "dev_2_pcd_down, dev_2_pcd_fpfh = preprocess_pcd(dev_2_pcd, 0.03)"
   ]
  },
  {
   "cell_type": "code",
   "execution_count": 7,
   "metadata": {},
   "outputs": [
    {
     "name": "stdout",
     "output_type": "stream",
     "text": [
      "registration::RegistrationResult with fitness = 0.083868, inlier_rmse = 0.029257, and correspondence_set size of 1737\n",
      "Access transformation to get result.\n"
     ]
    }
   ],
   "source": [
    "icp_result = refine_registration(dev_0_pcd_down, global_pcd_down, 0.05, np.identity(4))\n",
    "print(icp_result)"
   ]
  },
  {
   "cell_type": "code",
   "execution_count": 8,
   "metadata": {},
   "outputs": [],
   "source": [
    "visualize(dev_0_pcd_down, global_pcd_down, icp_result.transformation)"
   ]
  },
  {
   "cell_type": "code",
   "execution_count": 131,
   "metadata": {},
   "outputs": [
    {
     "data": {
      "text/plain": [
       "geometry::PointCloud with 29618 points."
      ]
     },
     "execution_count": 131,
     "metadata": {},
     "output_type": "execute_result"
    }
   ],
   "source": [
    "dev_1_pcd_down.transform(icp_result.transformation)"
   ]
  },
  {
   "cell_type": "code",
   "execution_count": 132,
   "metadata": {},
   "outputs": [
    {
     "name": "stdout",
     "output_type": "stream",
     "text": [
      "registration::RegistrationResult with fitness = 0.409074, inlier_rmse = 0.024551, and correspondence_set size of 12037\n",
      "Access transformation to get result.\n"
     ]
    }
   ],
   "source": [
    "target = dev_1_pcd_down + dev_2_pcd_down\n",
    "icp_result = refine_registration(dev_0_pcd_down, target, 0.05, np.identity(4))\n",
    "print(icp_result)\n",
    "\n",
    "dev_0_trans_init = np.dot(icp_result.transformation, dev_0_trans_init)"
   ]
  },
  {
   "cell_type": "code",
   "execution_count": 134,
   "metadata": {},
   "outputs": [],
   "source": [
    "visualize(dev_0_pcd_down, target, icp_result.transformation)"
   ]
  },
  {
   "cell_type": "code",
   "execution_count": 133,
   "metadata": {},
   "outputs": [
    {
     "data": {
      "text/plain": [
       "geometry::PointCloud with 29425 points."
      ]
     },
     "execution_count": 133,
     "metadata": {},
     "output_type": "execute_result"
    }
   ],
   "source": [
    "dev_0_pcd_down.transform(icp_result.transformation)"
   ]
  },
  {
   "cell_type": "code",
   "execution_count": 135,
   "metadata": {},
   "outputs": [],
   "source": [
    "source = dev_0_pcd_down + dev_1_pcd_down + dev_2_pcd_down\n",
    "open3d.visualization.draw_geometries([source])"
   ]
  },
  {
   "cell_type": "code",
   "execution_count": 136,
   "metadata": {},
   "outputs": [
    {
     "name": "stdout",
     "output_type": "stream",
     "text": [
      "registration::RegistrationResult with fitness = 0.594485, inlier_rmse = 0.026896, and correspondence_set size of 52773\n",
      "Access transformation to get result.\n"
     ]
    }
   ],
   "source": [
    "icp_result = refine_registration(source, global_pcd_down, 0.05, np.identity(4))\n",
    "print(icp_result)\n",
    "\n",
    "dev_0_trans_init = np.dot(icp_result.transformation, dev_0_trans_init)\n",
    "dev_1_trans_init = np.dot(icp_result.transformation, dev_1_trans_init)\n",
    "dev_2_trans_init = np.dot(icp_result.transformation, dev_2_trans_init)"
   ]
  },
  {
   "cell_type": "code",
   "execution_count": 137,
   "metadata": {},
   "outputs": [],
   "source": [
    "visualize(source, global_pcd_down, icp_result.transformation)"
   ]
  },
  {
   "cell_type": "code",
   "execution_count": 9,
   "metadata": {},
   "outputs": [],
   "source": [
    "dev_0_trans_init = np.loadtxt(\"temp/larc/dev_0.txt\")\n",
    "dev_1_trans_init = np.loadtxt(\"temp/larc/dev_1.txt\")\n",
    "dev_2_trans_init = np.loadtxt(\"temp/larc/dev_2.txt\")"
   ]
  },
  {
   "cell_type": "code",
   "execution_count": 8,
   "metadata": {},
   "outputs": [],
   "source": [
    "for trial in os.listdir(\"data/raw_data/exp_9/\"):\n",
    "    if trial.startswith(\"trial\"):\n",
    "        write_extrinsics(\"data/raw_data/exp_9\", trial, 0, dev_0_trans_init)\n",
    "        write_extrinsics(\"data/raw_data/exp_9\", trial, 1, dev_1_trans_init)\n",
    "        write_extrinsics(\"data/raw_data/exp_9\", trial, 2, dev_2_trans_init)"
   ]
  },
  {
   "cell_type": "code",
   "execution_count": 15,
   "metadata": {},
   "outputs": [],
   "source": [
    "ransac_result = execute_global_registration(dev_1_pcd_down, dev_2_pcd_down, dev_1_pcd_fpfh, dev_2_pcd_fpfh, 4, 0.05)\n",
    "# icp_result = refine_registration(dev_0_pcd_down, dev_1_pcd_down, 0.05, ransac_result.transformation)"
   ]
  },
  {
   "cell_type": "code",
   "execution_count": 16,
   "metadata": {},
   "outputs": [
    {
     "data": {
      "text/plain": [
       "registration::RegistrationResult with fitness = 0.000000, inlier_rmse = 0.000000, and correspondence_set size of 0\n",
       "Access transformation to get result."
      ]
     },
     "execution_count": 16,
     "metadata": {},
     "output_type": "execute_result"
    }
   ],
   "source": [
    "ransac_result"
   ]
  },
  {
   "cell_type": "code",
   "execution_count": 9,
   "metadata": {},
   "outputs": [
    {
     "data": {
      "text/plain": [
       "geometry::PointCloud with 37129 points."
      ]
     },
     "execution_count": 9,
     "metadata": {},
     "output_type": "execute_result"
    }
   ],
   "source": [
    "dev_0_pcd_down.transform(icp_result.transformation)"
   ]
  },
  {
   "cell_type": "code",
   "execution_count": 10,
   "metadata": {},
   "outputs": [],
   "source": [
    "open3d.visualization.draw_geometries([dev_0_pcd_down, dev_1_pcd_down])"
   ]
  },
  {
   "cell_type": "code",
   "execution_count": 5,
   "metadata": {},
   "outputs": [],
   "source": [
    "camera = DepthCamera(\"device-3\", \"metadata/device-3-aligned.json\")\n",
    "\n",
    "conv_pcd = camera.depth_to_point_cloud(\"temp/frame-1658916263265080400.depth.png\")\n",
    "\n",
    "org_pcd = open3d.io.read_point_cloud(\"temp/frame-1658916263265080400.pcd\")\n",
    "\n",
    "conv_pcd.paint_uniform_color([1, 0, 0])\n",
    "org_pcd.paint_uniform_color([0, 1, 0])\n",
    "\n",
    "T = np.identity(4)\n",
    "T[0, 3] = 1\n",
    "\n",
    "# org_pcd.transform(T)\n",
    "\n",
    "open3d.visualization.draw_geometries([conv_pcd, org_pcd])"
   ]
  },
  {
   "cell_type": "code",
   "execution_count": 6,
   "metadata": {},
   "outputs": [],
   "source": [
    "def convert_to_point_cloud(intrinsic, depth_image, depth_scale=1000, step=1):\n",
    "    fx, fy = intrinsic.get_focal_length()\n",
    "    cx, cy = intrinsic.get_principal_point()\n",
    "    \n",
    "    if depth_image.mode != \"I\":\n",
    "        raise Exception(\"Depth image is not in intensity format\")\n",
    "\n",
    "\n",
    "    points = []\n",
    "    for v in range(0, depth_image.height, step):\n",
    "        for u in range(0, depth_image.width, step):\n",
    "            z = depth_image.getpixel((u,v)) / depth_scale\n",
    "            if z == 0: \n",
    "                continue\n",
    "            x = (u - cx) * z / fx\n",
    "            y = (v - cy) * z / fy\n",
    "            points.append([x, y, z])\n",
    "            \n",
    "    xpcd = open3d.geometry.PointCloud()\n",
    "    xpcd.points = open3d.utility.Vector3dVector(points)\n",
    "    \n",
    "    return xpcd\n",
    "\n",
    "def read_intrinsic(filepath, width=640, height=480):\n",
    "    m = np.loadtxt(filepath, dtype=np.float32)\n",
    "    intrinsic = open3d.camera.PinholeCameraIntrinsic(width, height, m[0, 0], m[1, 1], m[0, 2], m[1, 2])\n",
    "    return intrinsic"
   ]
  },
  {
   "cell_type": "code",
   "execution_count": 8,
   "metadata": {},
   "outputs": [],
   "source": [
    "intrinsic = read_intrinsic(\"D:/Projects/Research/LARCDataset/v1/larc-kitchen/camera-intrinsics.txt\")\n",
    "depth_scale = 4000"
   ]
  },
  {
   "cell_type": "code",
   "execution_count": 12,
   "metadata": {},
   "outputs": [],
   "source": [
    "conv_pcd = convert_to_point_cloud(intrinsic, Image.open(\"temp/frame-1658916263265080400.depth.png\").convert(\"I\"), depth_scale)\n",
    "\n",
    "org_pcd = open3d.io.read_point_cloud(\"temp/frame-1658916263265080400.pcd\")\n",
    "\n",
    "conv_pcd.paint_uniform_color([1, 0, 0])\n",
    "org_pcd.paint_uniform_color([0, 1, 0])\n",
    "\n",
    "T = np.identity(4)\n",
    "T[0, 3] = 1\n",
    "\n",
    "# org_pcd.transform(T)\n",
    "\n",
    "open3d.visualization.draw_geometries([conv_pcd, org_pcd])"
   ]
  },
  {
   "cell_type": "code",
   "execution_count": 44,
   "metadata": {},
   "outputs": [],
   "source": [
    "dev_0_pcd = open3d.io.read_point_cloud(\"temp/dev_0.pcd\")\n",
    "dev_1_pcd = open3d.io.read_point_cloud(\"temp/dev_1.pcd\")\n",
    "dev_2_pcd = open3d.io.read_point_cloud(\"temp/dev_2.pcd\")"
   ]
  },
  {
   "cell_type": "code",
   "execution_count": 5,
   "metadata": {},
   "outputs": [
    {
     "data": {
      "text/plain": [
       "geometry::PointCloud with 225478 points."
      ]
     },
     "execution_count": 5,
     "metadata": {},
     "output_type": "execute_result"
    }
   ],
   "source": [
    "dev_0_pcd.transform(np.loadtxt(\"temp/larc/dev_0.txt\"))\n",
    "dev_1_pcd.transform(np.loadtxt(\"temp/larc/dev_1.txt\"))\n",
    "dev_2_pcd.transform(np.loadtxt(\"temp/larc/dev_2.txt\"))"
   ]
  },
  {
   "cell_type": "code",
   "execution_count": 6,
   "metadata": {},
   "outputs": [],
   "source": [
    "open3d.visualization.draw_geometries([dev_1_pcd, dev_2_pcd, dev_0_pcd])"
   ]
  },
  {
   "cell_type": "code",
   "execution_count": 32,
   "metadata": {},
   "outputs": [],
   "source": [
    "global_pcd = dev_1_pcd + dev_2_pcd\n",
    "\n",
    "global_pcd_down, global_pcd_fpfh = preprocess_pcd(global_pcd, 0.03)\n",
    "dev_0_pcd_down, dev_0_pcd_fpfh = preprocess_pcd(dev_0_pcd, 0.03)"
   ]
  },
  {
   "cell_type": "code",
   "execution_count": 37,
   "metadata": {},
   "outputs": [
    {
     "name": "stdout",
     "output_type": "stream",
     "text": [
      "registration::RegistrationResult with fitness = 0.000000, inlier_rmse = 0.000000, and correspondence_set size of 0\n",
      "Access transformation to get result.\n",
      "registration::RegistrationResult with fitness = 0.030222, inlier_rmse = 0.031064, and correspondence_set size of 903\n",
      "Access transformation to get result.\n"
     ]
    }
   ],
   "source": [
    "ransac_result = execute_global_registration(dev_0_pcd_down, global_pcd_down, dev_0_pcd_fpfh, global_pcd_fpfh, 4, 0.05)\n",
    "icp_result = refine_registration(dev_0_pcd_down, global_pcd_down, 0.05, ransac_result.transformation)\n",
    "\n",
    "print(ransac_result)\n",
    "print(icp_result)"
   ]
  },
  {
   "cell_type": "code",
   "execution_count": 38,
   "metadata": {},
   "outputs": [
    {
     "data": {
      "text/plain": [
       "geometry::PointCloud with 29879 points."
      ]
     },
     "execution_count": 38,
     "metadata": {},
     "output_type": "execute_result"
    }
   ],
   "source": [
    "dev_0_pcd_down.transform(icp_result.transformation)"
   ]
  },
  {
   "cell_type": "code",
   "execution_count": 39,
   "metadata": {},
   "outputs": [],
   "source": [
    "open3d.visualization.draw_geometries([dev_0_pcd_down, global_pcd_down])"
   ]
  },
  {
   "cell_type": "code",
   "execution_count": 82,
   "metadata": {},
   "outputs": [
    {
     "name": "stdout",
     "output_type": "stream",
     "text": [
      "registration::RegistrationResult with fitness = 0.023173, inlier_rmse = 0.019648, and correspondence_set size of 4012\n",
      "Access transformation to get result.\n"
     ]
    }
   ],
   "source": [
    "global_pcd = open3d.io.read_point_cloud(\"temp/lidar_1637299401488642900.pcd\")\n",
    "dev_0_pcd = open3d.io.read_point_cloud(\"temp/dev_0.pcd\")\n",
    "\n",
    "global_pcd.paint_uniform_color([1, 0.706, 0])\n",
    "dev_0_pcd.paint_uniform_color([0, 0.651, 0.929])\n",
    "\n",
    "# dev_0_pcd.transform(np.loadtxt(\"temp/dev_0.txt\"))\n",
    "\n",
    "# T = np.identity(4)\n",
    "T = np.loadtxt(\"temp/dev_0.txt\")\n",
    "\n",
    "T = rotate_transformation_matrix(T, 0, -25, 0)\n",
    "\n",
    "# T[:, 3] = np.array([-4, 1, 3, 1])\n",
    "\n",
    "# dev_0_pcd.transform(T)\n",
    "\n",
    "result = open3d.registration.registration_icp(\n",
    "    dev_1_pcd, global_pcd, 0.03, T,\n",
    "    open3d.registration.TransformationEstimationPointToPlane(False),\n",
    "    open3d.registration.ICPConvergenceCriteria(max_iteration=5000)\n",
    ")\n",
    "\n",
    "print(result)\n",
    "\n",
    "dev_0_pcd.transform(result.transformation)\n",
    "\n",
    "open3d.visualization.draw_geometries([global_pcd, dev_0_pcd])"
   ]
  },
  {
   "cell_type": "code",
   "execution_count": null,
   "metadata": {},
   "outputs": [],
   "source": [
    "np.savetxt(\"temp/dev_1.txt\", result.transformation)"
   ]
  },
  {
   "cell_type": "code",
   "execution_count": 31,
   "metadata": {},
   "outputs": [
    {
     "data": {
      "text/plain": [
       "True"
      ]
     },
     "execution_count": 31,
     "metadata": {},
     "output_type": "execute_result"
    }
   ],
   "source": [
    "global_pcd = open3d.io.read_point_cloud(\"temp/lidar_1637299401488642900.pcd\")\n",
    "\n",
    "open3d.geometry.estimate_normals(global_pcd, open3d.geometry.KDTreeSearchParamHybrid(radius=0.03 * 2, max_nn=30))"
   ]
  },
  {
   "cell_type": "code",
   "execution_count": 32,
   "metadata": {},
   "outputs": [
    {
     "data": {
      "text/plain": [
       "True"
      ]
     },
     "execution_count": 32,
     "metadata": {},
     "output_type": "execute_result"
    }
   ],
   "source": [
    "open3d.geometry.estimate_normals(dev_0_pcd, open3d.geometry.KDTreeSearchParamHybrid(radius=0.03 * 2, max_nn=30))\n",
    "open3d.geometry.estimate_normals(dev_1_pcd, open3d.geometry.KDTreeSearchParamHybrid(radius=0.03 * 2, max_nn=30))\n",
    "open3d.geometry.estimate_normals(dev_2_pcd, open3d.geometry.KDTreeSearchParamHybrid(radius=0.03 * 2, max_nn=30))"
   ]
  },
  {
   "cell_type": "code",
   "execution_count": 34,
   "metadata": {},
   "outputs": [
    {
     "name": "stdout",
     "output_type": "stream",
     "text": [
      "registration::RegistrationResult with fitness = 0.168534, inlier_rmse = 0.029552, and correspondence_set size of 29703\n",
      "Access transformation to get result.\n"
     ]
    }
   ],
   "source": [
    "global_pcd.paint_uniform_color([1, 0.706, 0])\n",
    "dev_1_pcd.paint_uniform_color([0, 0.651, 0.929])\n",
    "\n",
    "result = open3d.registration.registration_icp(\n",
    "    dev_1_pcd, global_pcd, 0.05, dev_1_trans_init,\n",
    "    open3d.registration.TransformationEstimationPointToPlane(),\n",
    "    open3d.registration.ICPConvergenceCriteria(max_iteration=1000)\n",
    ")\n",
    "\n",
    "print(result)\n",
    "\n",
    "dev_1_pcd.transform(result.transformation)\n",
    "\n",
    "open3d.visualization.draw_geometries([global_pcd, dev_1_pcd])\n",
    "\n"
   ]
  },
  {
   "cell_type": "code",
   "execution_count": 87,
   "metadata": {},
   "outputs": [
    {
     "name": "stdout",
     "output_type": "stream",
     "text": [
      "registration::RegistrationResult with fitness = 0.272207, inlier_rmse = 0.022144, and correspondence_set size of 52082\n",
      "Access transformation to get result.\n"
     ]
    }
   ],
   "source": [
    "dev_1_pcd = open3d.io.read_point_cloud(\"temp/dev_1.pcd\")\n",
    "dev_0_pcd = open3d.io.read_point_cloud(\"temp/dev_0.pcd\")\n",
    "\n",
    "dev_1_pcd.paint_uniform_color([1, 0.706, 0])\n",
    "dev_0_pcd.paint_uniform_color([0, 0.651, 0.929])\n",
    "\n",
    "dev_1_pcd.transform(np.loadtxt(\"temp/dev_1.txt\"))\n",
    "# dev_0_pcd.transform(np.loadtxt(\"temp/dev_0.txt\"))\n",
    "\n",
    "# T = np.identity(4)\n",
    "T = np.loadtxt(\"temp/dev_0.txt\")\n",
    "\n",
    "T = rotate_transformation_matrix(T, 0, -25, 0)\n",
    "\n",
    "# T[:, 3] = np.array([-4, 1, 3, 1])\n",
    "\n",
    "# dev_0_pcd.transform(T)\n",
    "\n",
    "result = open3d.registration.registration_icp(\n",
    "    dev_0_pcd, dev_1_pcd, 0.05, T,\n",
    "    open3d.registration.TransformationEstimationPointToPoint(False),\n",
    "    open3d.registration.ICPConvergenceCriteria(max_iteration=1000)\n",
    ")\n",
    "\n",
    "print(result)\n",
    "\n",
    "dev_0_pcd.transform(result.transformation)\n",
    "\n",
    "open3d.visualization.draw_geometries([dev_1_pcd, dev_0_pcd])"
   ]
  },
  {
   "cell_type": "code",
   "execution_count": 88,
   "metadata": {},
   "outputs": [],
   "source": [
    "np.savetxt(\"temp/dev_0.txt\", result.transformation)"
   ]
  },
  {
   "cell_type": "code",
   "execution_count": 2,
   "metadata": {},
   "outputs": [],
   "source": [
    "pcd = open3d.io.read_point_cloud(\"data/point_clouds/exp_5/trial_1/subject-1/01/1663141115629134100.global.pcd\")"
   ]
  },
  {
   "cell_type": "code",
   "execution_count": 3,
   "metadata": {},
   "outputs": [],
   "source": [
    "open3d.visualization.draw_geometries([pcd])"
   ]
  },
  {
   "cell_type": "code",
   "execution_count": 17,
   "metadata": {},
   "outputs": [],
   "source": [
    "global_pcd_files = glob.glob(os.path.join(\"data/point_clouds/exp_5\", \"trial_*\\subject-*\\*\\*.global.pcd\"))"
   ]
  },
  {
   "cell_type": "code",
   "execution_count": 18,
   "metadata": {},
   "outputs": [],
   "source": [
    "for f in global_pcd_files:\n",
    "    os.remove(f)"
   ]
  },
  {
   "cell_type": "code",
   "execution_count": null,
   "metadata": {},
   "outputs": [],
   "source": []
  }
 ],
 "metadata": {
  "kernelspec": {
   "display_name": "Python 3.7.9 ('lidar')",
   "language": "python",
   "name": "python3"
  },
  "language_info": {
   "codemirror_mode": {
    "name": "ipython",
    "version": 3
   },
   "file_extension": ".py",
   "mimetype": "text/x-python",
   "name": "python",
   "nbconvert_exporter": "python",
   "pygments_lexer": "ipython3",
   "version": "3.7.9 (default, Aug 31 2020, 17:10:11) [MSC v.1916 64 bit (AMD64)]"
  },
  "orig_nbformat": 4,
  "vscode": {
   "interpreter": {
    "hash": "71ec0456078ee969ee04deec14dae5ce507385324b4d068644fb8e515e3f77ec"
   }
  }
 },
 "nbformat": 4,
 "nbformat_minor": 2
}
