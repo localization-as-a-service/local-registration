{
 "cells": [
  {
   "cell_type": "code",
   "execution_count": 1,
   "metadata": {},
   "outputs": [
    {
     "name": "stdout",
     "output_type": "stream",
     "text": [
      "Jupyter environment detected. Enabling Open3D WebVisualizer.\n",
      "[Open3D INFO] WebRTC GUI backend enabled.\n",
      "[Open3D INFO] WebRTCWindowSystem: HTTP handshake server disabled.\n"
     ]
    }
   ],
   "source": [
    "import numpy as np\n",
    "import pandas as pd\n",
    "import open3d\n",
    "import copy\n",
    "import os\n",
    "import glob\n",
    "import tqdm\n",
    "import matplotlib.pyplot as plt\n",
    "import utils.helpers as helpers\n",
    "import utils.fread as fread\n",
    "import utils.FCGF as FCGF\n",
    "import utils.registration as registration\n",
    "import scipy\n",
    "\n",
    "from sklearn.decomposition import PCA\n",
    "\n",
    "from utils.depth_camera import DepthCamera\n",
    "\n",
    "plt.style.use(\"ggplot\")"
   ]
  },
  {
   "cell_type": "code",
   "execution_count": 2,
   "metadata": {},
   "outputs": [],
   "source": [
    "data_dir = \"data/raw_data\"\n",
    "experiment = \"exp_8\"\n",
    "trial = \"trial_2\"\n",
    "subject = \"subject-1\"\n",
    "sequence = 2\n",
    "voxel_size = 0.03\n",
    "\n",
    "file_name = f\"{experiment}__{trial}__{subject}__{sequence:02d}\"\n",
    "pose_file = os.path.join(\"data/trajectories/groundtruth\", experiment, f\"{file_name}.pose.npz\")\n",
    "\n",
    "motion_dir = os.path.join(data_dir, experiment, trial, subject, f\"{sequence:02d}\", \"motion\")\n",
    "sequence_dir = os.path.join(data_dir, experiment, trial, subject, f\"{sequence:02d}\", \"frames\")\n",
    "\n",
    "features_dir = os.path.join(\"data/features\", experiment, trial, str(voxel_size), subject, f\"{sequence:02d}\")"
   ]
  },
  {
   "cell_type": "code",
   "execution_count": 3,
   "metadata": {},
   "outputs": [],
   "source": [
    "sequence_ts = fread.get_timstamps_from_images(sequence_dir, ext=\".depth.png\")\n",
    "\n",
    "num_frames = len(sequence_ts)"
   ]
  },
  {
   "cell_type": "code",
   "execution_count": 4,
   "metadata": {},
   "outputs": [
    {
     "name": "stderr",
     "output_type": "stream",
     "text": [
      "100%|██████████| 490/490 [00:06<00:00, 74.70it/s] \n"
     ]
    }
   ],
   "source": [
    "local_pcds = []\n",
    "\n",
    "for t in tqdm.trange(num_frames):\n",
    "    pcd = FCGF.get_features(os.path.join(features_dir, f\"{sequence_ts[t]}.secondary.npz\"), pcd_only=True)\n",
    "    # pcd = helpers.downsample(pcd, voxel_size)\n",
    "    local_pcds.append(pcd)"
   ]
  },
  {
   "cell_type": "code",
   "execution_count": 30,
   "metadata": {},
   "outputs": [],
   "source": [
    "local_t = np.load(pose_file)[\"local_t\"]\n",
    "trajectory_t = np.load(pose_file)[\"trajectory_t\"]"
   ]
  },
  {
   "cell_type": "code",
   "execution_count": 33,
   "metadata": {},
   "outputs": [
    {
     "name": "stderr",
     "output_type": "stream",
     "text": [
      "100%|██████████| 490/490 [00:00<00:00, 2956.71it/s]\n"
     ]
    }
   ],
   "source": [
    "global_pcd = []\n",
    "\n",
    "for i in tqdm.trange(len(trajectory_t)):\n",
    "    temp_pcd = copy.deepcopy(local_pcds[i])\n",
    "    temp_pcd.transform(trajectory_t[i])\n",
    "    global_pcd.append(temp_pcd)"
   ]
  },
  {
   "cell_type": "code",
   "execution_count": 34,
   "metadata": {},
   "outputs": [],
   "source": [
    "open3d.visualization.draw_geometries(global_pcd)"
   ]
  },
  {
   "cell_type": "code",
   "execution_count": 8,
   "metadata": {},
   "outputs": [
    {
     "name": "stdout",
     "output_type": "stream",
     "text": [
      "Frame rate: 400.91 Hz\n"
     ]
    }
   ],
   "source": [
    "accel_df = pd.read_csv(os.path.join(motion_dir, \"accel.csv\"))\n",
    "gyro_df = pd.read_csv(os.path.join(motion_dir, \"gyro.csv\"))\n",
    "\n",
    "accel_df.drop_duplicates(\"timestamp\", inplace=True)\n",
    "gyro_df.drop_duplicates(\"timestamp\", inplace=True)\n",
    "\n",
    "gravity_df = pd.DataFrame(columns=[\"timestamp\", \"x\", \"y\", \"z\"])\n",
    "\n",
    "imu_df = pd.merge(accel_df, gyro_df, on=\"timestamp\", suffixes=(\"a\", \"g\"))\n",
    "\n",
    "raw_accel_df = imu_df[[\"timestamp\", \"xa\", \"ya\", \"za\"]].copy()\n",
    "\n",
    "frame_rate = accel_df.shape[0] / (accel_df.timestamp.values[-1] - accel_df.timestamp.values[0]) * 1000\n",
    "print(f\"Frame rate: {frame_rate:.2f} Hz\")"
   ]
  },
  {
   "cell_type": "code",
   "execution_count": 11,
   "metadata": {},
   "outputs": [],
   "source": [
    "elapsed_time = (sequence_ts - sequence_ts[0]) // 1000"
   ]
  },
  {
   "cell_type": "code",
   "execution_count": 43,
   "metadata": {},
   "outputs": [],
   "source": [
    "start_t = np.argwhere(elapsed_time == 6)[0][0]\n",
    "end_t = np.argwhere(elapsed_time == 8)[0][0]"
   ]
  },
  {
   "cell_type": "code",
   "execution_count": 44,
   "metadata": {},
   "outputs": [],
   "source": [
    "source = local_pcds[end_t]\n",
    "target = local_pcds[start_t]\n",
    "\n",
    "trans_t = helpers.merge_transformations(start_t, end_t, local_t)"
   ]
  },
  {
   "cell_type": "code",
   "execution_count": 45,
   "metadata": {},
   "outputs": [],
   "source": [
    "registration.view(source, target, trans_t)"
   ]
  },
  {
   "cell_type": "code",
   "execution_count": null,
   "metadata": {},
   "outputs": [],
   "source": []
  }
 ],
 "metadata": {
  "kernelspec": {
   "display_name": "local-reg",
   "language": "python",
   "name": "python3"
  },
  "language_info": {
   "codemirror_mode": {
    "name": "ipython",
    "version": 3
   },
   "file_extension": ".py",
   "mimetype": "text/x-python",
   "name": "python",
   "nbconvert_exporter": "python",
   "pygments_lexer": "ipython3",
   "version": "3.9.15"
  },
  "orig_nbformat": 4,
  "vscode": {
   "interpreter": {
    "hash": "a6ae5a769a6f761bb0fad38ece807810e6e8c011c16e85fd10062a6c7c41b6a2"
   }
  }
 },
 "nbformat": 4,
 "nbformat_minor": 2
}
